{
  "cells": [
    {
      "cell_type": "markdown",
      "metadata": {},
      "source": [
        "<a href=\"https://colab.research.google.com/github/ITBA-Python/Certificacion-Profesional-Python/blob/main/Clase_7.ipynb\" target=\"_parent\"><img src=\"https://colab.research.google.com/assets/colab-badge.svg\" alt=\"Open In Colab\"/></a>"
      ]
    },
    {
      "cell_type": "markdown",
      "metadata": {
        "id": "UShQ7MbxF39r"
      },
      "source": [
        "<img src=\"https://raw.githubusercontent.com/ITBA-Python/Certificacion-Profesional-Python/main/assets/clase2/Headers%20c%C3%A1talogo_Mesa%20de%20trabajo%201%20copia%2044.jpg\" width=\"800\">\n",
        "\n",
        "\n",
        "\n",
        "# Certificación profesional de Python\n",
        "\n",
        "# Clase 7\n",
        "\n",
        "El objetivo de la clase es seguir sumando experiencia de trabajo con programación aprendiendo los siguientes temas.\n",
        "\n",
        "*   APIs y formato JSON\n",
        "*   Programación Orientada a Objetos\n",
        "\n",
        "La clase incluye teoría y práctica sobre cada tema aprendido.\n",
        "\n",
        "<img src=\"https://raw.githubusercontent.com/ITBA-Python/Certificacion-Profesional-Python/main/assets/clase2/LOGOTIPO_sin_fondo_positivo_sin_bajada.png\" width=\"400\">\n",
        "\n"
      ]
    },
    {
      "cell_type": "markdown",
      "metadata": {},
      "source": [
        "# APIs y formato JSON"
      ]
    },
    {
      "cell_type": "markdown",
      "metadata": {},
      "source": [
        "Comenzaremos viendo que es una API, como se aplican en el ámbito de los servicios web y cómo se estructuran los datos que intercambiamos, igual que vimos en clases anteriores con XML.\n"
      ]
    },
    {
      "cell_type": "markdown",
      "metadata": {},
      "source": [
        "## APIs web"
      ]
    },
    {
      "cell_type": "markdown",
      "metadata": {},
      "source": [
        "Una API es una interfaz de programación de aplicaciones. Es la forma que tiene un componente de software de exponer una interfaz (en la forma de funciones, subrutinas o procedimientos) para ser utilizado por otro componente de software, como una capa de abstracción. Permite esta idea de comunicación entre componentes de software.\n",
        "\n",
        "de ibm:\n",
        "Una API, o interfaz de programación de aplicaciones, es un conjunto de reglas que determinan cómo las aplicaciones o los dispositivos pueden conectarse y comunicarse entre sí. Una API REST es una API que se ajusta a los principios de diseño de REST, un estilo de arquitectura también denominado transferencia de estado representacional. Por este motivo, las API REST son a veces denominadas API RESTful.\n",
        "En el nivel más básico, una API es un mecanismo que permite a una aplicación o servicio acceder a un recurso dentro de otra aplicación o servicio. La aplicación o servicio que realiza el acceso se denomina cliente y la aplicación o servicio que contiene el recurso se denomina servidor.  \n",
        "\n",
        "hablar de rest apis - https://openwebinars.net/blog/que-es-rest-conoce-su-potencia/ https://www.redhat.com/es/topics/api/what-is-a-rest-api\n",
        "verbos de http\n",
        "hablar de recursos\n",
        "hablar de endpoints y como se relaciona con urls\n",
        "\n",
        "introducir a json\n"
      ]
    },
    {
      "cell_type": "markdown",
      "metadata": {},
      "source": [
        "## Formato JSON"
      ]
    },
    {
      "cell_type": "markdown",
      "metadata": {},
      "source": [
        "Si bien XML cumplía su labor, otro grande de la informática, desarrolló un formatoque está inspirado en los objetos de JS para lograr una transferencia de datosestructurados mas eficiente por ser mucho mas liviano.\n",
        "\n",
        "hablar de json - https://es.wikipedia.org/wiki/JSON\n",
        "ejemplos de json files\n",
        "parseo de json en python, modulo json\n",
        "serializar, deserializar, pasar a diccionario"
      ]
    },
    {
      "cell_type": "markdown",
      "metadata": {},
      "source": [
        "ejemplo conjunto de apis y json con la api de cat facts"
      ]
    },
    {
      "cell_type": "code",
      "execution_count": null,
      "metadata": {},
      "outputs": [],
      "source": [
        "import requests\n",
        "\n",
        "r = requests.get(\"https://cat-fact.herokuapp.com/facts\")\n",
        "print(r.content)\n",
        "\n",
        "data = r.json()"
      ]
    },
    {
      "cell_type": "code",
      "execution_count": null,
      "metadata": {},
      "outputs": [],
      "source": [
        "r = requests.get(\"https://www.dolarsi.com/api/api.php?type=valoresprincipales\")\n",
        "print(r.content)\n",
        "\n",
        "data = r.json()\n",
        "\n",
        "for cotizacion in data:\n",
        "    print(f\"{cotizacion.casa.nombre} - Compra: ${cotizacion.casa.compra} Venta ${cotizacion.casa.venta}\")\n"
      ]
    },
    {
      "cell_type": "markdown",
      "metadata": {},
      "source": [
        "public apis - https://publicapis.dev/\n",
        "\n",
        "ejercicios para que lean de apis\n",
        "\n",
        "ejercicios para que parseen jsons\n",
        "\n",
        "por lo menos 4 ejercicios, dos de cada puede ser"
      ]
    },
    {
      "cell_type": "markdown",
      "metadata": {},
      "source": [
        "# Programacion orientada a objetos"
      ]
    },
    {
      "cell_type": "markdown",
      "metadata": {},
      "source": [
        "hablar de modelar problemas de la vida real\n",
        "\n",
        "los 4 conceptos basicos de poo"
      ]
    },
    {
      "cell_type": "markdown",
      "metadata": {},
      "source": [
        "## Clases y objetos"
      ]
    },
    {
      "cell_type": "markdown",
      "metadata": {},
      "source": [
        "conceptos basicos de objetos\n",
        "\n",
        "ejemplos de clase"
      ]
    },
    {
      "cell_type": "markdown",
      "metadata": {},
      "source": [
        "instanciar objetos\n",
        "\n",
        "objetos vs clases\n",
        "\n",
        "mas ejemplos relacionados a los 4 conceptos"
      ]
    }
  ],
  "metadata": {
    "colab": {
      "collapsed_sections": [],
      "name": "Clase 7.ipynb",
      "provenance": []
    },
    "interpreter": {
      "hash": "8a94588eda9d64d9e9a351ab8144e55b1fabf5113b54e67dd26a8c27df0381b3"
    },
    "kernelspec": {
      "display_name": "Python 3.10.4 64-bit",
      "language": "python",
      "name": "python3"
    },
    "language_info": {
      "name": "python",
      "version": "3.10.4"
    }
  },
  "nbformat": 4,
  "nbformat_minor": 0
}
