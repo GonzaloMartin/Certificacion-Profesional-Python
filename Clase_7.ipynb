{
  "cells": [
    {
      "cell_type": "markdown",
      "metadata": {
        "id": "view-in-github",
        "colab_type": "text"
      },
      "source": [
        "<a href=\"https://colab.research.google.com/github/ITBA-Python/Certificacion-Profesional-Python/blob/main/Clase_7.ipynb\" target=\"_parent\"><img src=\"https://colab.research.google.com/assets/colab-badge.svg\" alt=\"Open In Colab\"/></a>"
      ]
    },
    {
      "cell_type": "markdown",
      "metadata": {
        "id": "gA098fNUqvb_"
      },
      "source": [
        "<a href=\"https://colab.research.google.com/github/ITBA-Python/Certificacion-Profesional-Python/blob/main/Clase_7.ipynb\" target=\"_parent\"><img src=\"https://colab.research.google.com/assets/colab-badge.svg\" alt=\"Open In Colab\"/></a>"
      ]
    },
    {
      "cell_type": "markdown",
      "metadata": {
        "id": "UShQ7MbxF39r"
      },
      "source": [
        "<img src=\"https://raw.githubusercontent.com/ITBA-Python/Certificacion-Profesional-Python/main/assets/clase2/Headers%20c%C3%A1talogo_Mesa%20de%20trabajo%201%20copia%2044.jpg\" width=\"800\">\n",
        "\n",
        "\n",
        "\n",
        "# Certificación profesional de Python\n",
        "\n",
        "# Clase 7\n",
        "\n",
        "El objetivo de la clase es seguir sumando experiencia de trabajo con programación aprendiendo los siguientes temas.\n",
        "\n",
        "*   APIs y formato JSON\n",
        "*   Programación Orientada a Objetos\n",
        "\n",
        "La clase incluye teoría y práctica sobre cada tema aprendido.\n",
        "\n",
        "<img src=\"https://raw.githubusercontent.com/ITBA-Python/Certificacion-Profesional-Python/main/assets/clase2/LOGOTIPO_sin_fondo_positivo_sin_bajada.png\" width=\"400\">\n",
        "\n"
      ]
    },
    {
      "cell_type": "markdown",
      "metadata": {
        "id": "IOV0vIY_qvcC"
      },
      "source": [
        "# APIs y formato JSON"
      ]
    },
    {
      "cell_type": "markdown",
      "metadata": {
        "id": "rp9HfbI4qvcC"
      },
      "source": [
        "Comenzaremos viendo que es una API, como se aplican en el ámbito de los servicios web y cómo se estructuran los datos que intercambiamos, igual que vimos en clases anteriores con XML.\n"
      ]
    },
    {
      "cell_type": "markdown",
      "metadata": {
        "id": "zBuCMAH8qvcC"
      },
      "source": [
        "## APIs web"
      ]
    },
    {
      "cell_type": "markdown",
      "metadata": {
        "id": "bigoGAj9qvcC"
      },
      "source": [
        "Una API es una interfaz de programación de aplicaciones. Es la forma que tiene un componente de software de exponer una interfaz (en la forma de funciones, subrutinas o procedimientos) para ser utilizado por otro componente de software, como una capa de abstracción. Permite esta idea de comunicación entre componentes de software.\n",
        "\n",
        "de ibm:\n",
        "Una API, o interfaz de programación de aplicaciones, es un conjunto de reglas que determinan cómo las aplicaciones o los dispositivos pueden conectarse y comunicarse entre sí. Una API REST es una API que se ajusta a los principios de diseño de REST, un estilo de arquitectura también denominado transferencia de estado representacional. Por este motivo, las API REST son a veces denominadas API RESTful.\n",
        "En el nivel más básico, una API es un mecanismo que permite a una aplicación o servicio acceder a un recurso dentro de otra aplicación o servicio. La aplicación o servicio que realiza el acceso se denomina cliente y la aplicación o servicio que contiene el recurso se denomina servidor.  \n",
        "\n",
        "hablar de rest apis - https://openwebinars.net/blog/que-es-rest-conoce-su-potencia/ https://www.redhat.com/es/topics/api/what-is-a-rest-api\n",
        "verbos de http\n",
        "hablar de recursos\n",
        "hablar de endpoints y como se relaciona con urls\n",
        "\n",
        "introducir a json\n"
      ]
    },
    {
      "cell_type": "markdown",
      "metadata": {
        "id": "EYi2UnsXqvcC"
      },
      "source": [
        "## Formato JSON"
      ]
    },
    {
      "cell_type": "markdown",
      "metadata": {
        "id": "jZt7AwNXqvcD"
      },
      "source": [
        "Si bien XML cumplía su labor, otro grande de la informática, desarrolló un formatoque está inspirado en los objetos de JS para lograr una transferencia de datosestructurados mas eficiente por ser mucho mas liviano.\n",
        "\n",
        "hablar de json - https://es.wikipedia.org/wiki/JSON\n",
        "ejemplos de json files\n",
        "parseo de json en python, modulo json\n",
        "serializar, deserializar, pasar a diccionario"
      ]
    },
    {
      "cell_type": "markdown",
      "metadata": {
        "id": "Q2HbJb6MqvcD"
      },
      "source": [
        "ejemplo conjunto de apis y json con la api de cat facts"
      ]
    },
    {
      "cell_type": "code",
      "execution_count": null,
      "metadata": {
        "id": "ORAuwtL4qvcD"
      },
      "outputs": [],
      "source": [
        "import requests\n",
        "\n",
        "r = requests.get(\"https://cat-fact.herokuapp.com/facts\")\n",
        "print(r.content)\n",
        "\n",
        "data = r.json()"
      ]
    },
    {
      "cell_type": "code",
      "execution_count": null,
      "metadata": {
        "id": "ExIAgINMqvcE"
      },
      "outputs": [],
      "source": [
        "r = requests.get(\"https://www.dolarsi.com/api/api.php?type=valoresprincipales\")\n",
        "print(r.content)\n",
        "\n",
        "data = r.json()\n",
        "\n",
        "for cotizacion in data:\n",
        "    print(f\"{cotizacion.casa.nombre} - Compra: ${cotizacion.casa.compra} Venta ${cotizacion.casa.venta}\")\n"
      ]
    },
    {
      "cell_type": "markdown",
      "metadata": {
        "id": "fXp7_fsJqvcE"
      },
      "source": [
        "public apis - https://publicapis.dev/\n",
        "\n",
        "ejercicios para que lean de apis\n",
        "\n",
        "ejercicios para que parseen jsons\n",
        "\n",
        "por lo menos 4 ejercicios, dos de cada puede ser"
      ]
    },
    {
      "cell_type": "markdown",
      "source": [
        "## Mini Desafío\n"
      ],
      "metadata": {
        "id": "A3Le7PAQtDV_"
      }
    },
    {
      "cell_type": "markdown",
      "source": [
        "Escribir un programa que utilizando la librería json permita que el usuario ingrese un diccionario siguiendo el formato JSON. Y luego imprima todas las llaves con sus valores siguiendo el formato:\n",
        "```\n",
        "LLAVE -> VALOR \n",
        "```\n",
        "\n",
        "Ejemplo:\n",
        "```\n",
        ">>> {\"llave1\": 12, \"llave2\": \"Hola\", 12:13}\n",
        "\"llave1\" -> 12\n",
        "\"llave2\" -> \"Hola\"\n",
        "12 -> 13\n",
        "```"
      ],
      "metadata": {
        "id": "j4COt0KPtMvW"
      }
    },
    {
      "cell_type": "code",
      "source": [
        ""
      ],
      "metadata": {
        "id": "_xk0yRPot8jO"
      },
      "execution_count": null,
      "outputs": []
    },
    {
      "cell_type": "markdown",
      "source": [
        "## Mini Desafío"
      ],
      "metadata": {
        "id": "uUxLxwYgukCC"
      }
    },
    {
      "cell_type": "markdown",
      "source": [
        "Escribir un programa que permita guardar un diccionario en un archivo en formato JSON."
      ],
      "metadata": {
        "id": "YNX5JiIWumD_"
      }
    },
    {
      "cell_type": "code",
      "source": [
        ""
      ],
      "metadata": {
        "id": "mBnRbk_Vux7H"
      },
      "execution_count": null,
      "outputs": []
    },
    {
      "cell_type": "markdown",
      "source": [
        "## Mini desafío"
      ],
      "metadata": {
        "id": "hQDpmq0IuyM1"
      }
    },
    {
      "cell_type": "markdown",
      "source": [
        "Escribir un programa que permita leer un diccionario a partir de un archivo en formato json."
      ],
      "metadata": {
        "id": "fy1AsOkBuzqV"
      }
    },
    {
      "cell_type": "code",
      "source": [
        ""
      ],
      "metadata": {
        "id": "mTEgQFQWu4ON"
      },
      "execution_count": null,
      "outputs": []
    },
    {
      "cell_type": "markdown",
      "source": [
        "## Mini Desafío\n"
      ],
      "metadata": {
        "id": "cZGYhov8rzaI"
      }
    },
    {
      "cell_type": "markdown",
      "source": [
        "Escribir un programa que te pida ingresar:\n",
        " -   Moneda de origen\n",
        " -   Moneda de destino\n",
        " -   Monto de moneda de origen\n",
        "\n",
        "Y devuelva el monto en la moneda de destino convertido con el tipo del cambio del día. El formato de salida debe ser:\n",
        "```\n",
        "MONTO (MONEDA DE ORIGEN) <-> MONTO CONVERITDO (MONEDA DE DESTINO)\n",
        "```\n",
        "\n",
        "Ejemplos (puede variar según el dia):\n",
        "```\n",
        ">>> EUR\n",
        ">>> USD\n",
        ">>> 100\n",
        "100 (EUR) <-> 100.3 (USD)\n",
        "```\n",
        "```\n",
        ">>> EUR\n",
        ">>> ARS\n",
        ">>> 100\n",
        "100 (EUR) <-> 12796.56 (ARS)\n",
        "```\n",
        "\n",
        "**TIP:** Investigar esta [API](https://rates.hirak.site/?ref=publicapis.dev).\n",
        "\n",
        "**TIP 2:** Los códigos de las monedas los pueden encontrar en este [link](https://es.wikipedia.org/wiki/ISO_4217)."
      ],
      "metadata": {
        "id": "ohKrX82rr4L6"
      }
    },
    {
      "cell_type": "code",
      "source": [
        ""
      ],
      "metadata": {
        "id": "x3FyAzk5s8bF"
      },
      "execution_count": null,
      "outputs": []
    },
    {
      "cell_type": "markdown",
      "metadata": {
        "id": "M0Zy884UqvcE"
      },
      "source": [
        "# Programacion orientada a objetos"
      ]
    },
    {
      "cell_type": "markdown",
      "metadata": {
        "id": "O3mRMeQAqvcE"
      },
      "source": [
        "hablar de modelar problemas de la vida real\n",
        "\n",
        "los 4 conceptos basicos de poo"
      ]
    },
    {
      "cell_type": "markdown",
      "metadata": {
        "id": "Me2DyMnxqvcF"
      },
      "source": [
        "## Clases y objetos"
      ]
    },
    {
      "cell_type": "markdown",
      "metadata": {
        "id": "T9GA3-L4qvcF"
      },
      "source": [
        "conceptos basicos de objetos\n",
        "\n",
        "ejemplos de clase"
      ]
    },
    {
      "cell_type": "markdown",
      "metadata": {
        "id": "wtY_EUrbqvcF"
      },
      "source": [
        "instanciar objetos\n",
        "\n",
        "objetos vs clases\n",
        "\n",
        "mas ejemplos relacionados a los 4 conceptos"
      ]
    }
  ],
  "metadata": {
    "colab": {
      "collapsed_sections": [],
      "name": "Clase 7.ipynb",
      "provenance": [],
      "include_colab_link": true
    },
    "interpreter": {
      "hash": "8a94588eda9d64d9e9a351ab8144e55b1fabf5113b54e67dd26a8c27df0381b3"
    },
    "kernelspec": {
      "display_name": "Python 3.10.4 64-bit",
      "language": "python",
      "name": "python3"
    },
    "language_info": {
      "name": "python",
      "version": "3.10.4"
    }
  },
  "nbformat": 4,
  "nbformat_minor": 0
}