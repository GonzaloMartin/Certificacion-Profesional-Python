{
  "nbformat": 4,
  "nbformat_minor": 0,
  "metadata": {
    "colab": {
      "name": "Clase 1.ipynb",
      "provenance": [],
      "authorship_tag": "ABX9TyNq4GUMV3bnNx/SJM4jkmBW",
      "include_colab_link": true
    },
    "kernelspec": {
      "name": "python3",
      "display_name": "Python 3"
    },
    "language_info": {
      "name": "python"
    }
  },
  "cells": [
    {
      "cell_type": "markdown",
      "metadata": {
        "id": "view-in-github",
        "colab_type": "text"
      },
      "source": [
        "<a href=\"https://colab.research.google.com/github/ITBA-Python/Certificacion-Profesional-Python/blob/main/Clase_1.ipynb\" target=\"_parent\"><img src=\"https://colab.research.google.com/assets/colab-badge.svg\" alt=\"Open In Colab\"/></a>"
      ]
    },
    {
      "cell_type": "markdown",
      "source": [
        "# Clase 1\n",
        "\n",
        "El objetivo de la clase es brindar una introducción al mundo de la programación, presentando los conceptos basicos de informatica.\n",
        "\n",
        "La clase busca también explicar el entorno de trabajo y las metodologías utilizadas durante el curso."
      ],
      "metadata": {
        "id": "-TUcZs7nWywn"
      }
    },
    {
      "cell_type": "markdown",
      "source": [
        "# Entorno de trabajo\n",
        "\n",
        "Para trabajar durante el curso utilizaremos [Google Colab](https://colab.research.google.com/?hl=es) una herramienta gratis de google que nos permite facilmente trabjar con Python desde cualquier computadora utilizando un navegador web.\n",
        "\n",
        "Este entorno nos permite mezclar código, teoría, gráficos, ecuaciones matemáticas y multimedia en un mismo archivo, facilitando la distribución y presentación de los temas. Ademas permite que desarrollemos la clase en una misma plataforma evitando problemas de compatibilidad con las distintas computadoras y sistemas operativos de cada uno.\n",
        "\n",
        "**NOTA:** Si no poseen una cuenta de Google es necesario que se creen una para realizar el curso.\n",
        "\n",
        "## Guardar clase en su drive\n",
        "\n",
        "Les recomendamos guardar esta clase en su google drive personal para que puedan mantener sus notas y ejercicios realizados durante la clase.\n",
        "\n",
        "Para realizar esto deben presionar:\n",
        "\n",
        "![Instructivo para guardar](https://raw.githubusercontent.com/ITBA-Python/Certificacion-Profesional-Python/main/assets/clase1/guardar-en-drive.png)\n",
        "\n",
        "Una vez guardado si quieren seguir trabjando pueden abrirlo directamente desde su Google Drive.\n",
        "\n",
        "\n"
      ],
      "metadata": {
        "id": "o9M3M7L0X1nL"
      }
    },
    {
      "cell_type": "markdown",
      "source": [
        "# Introducción a la programación\n"
      ],
      "metadata": {
        "id": "4BLvfQTTXuDm"
      }
    },
    {
      "cell_type": "markdown",
      "source": [
        "# Arquitecturas de computadoras"
      ],
      "metadata": {
        "id": "3i49VybJX386"
      }
    },
    {
      "cell_type": "markdown",
      "source": [
        "# Instalación de Python"
      ],
      "metadata": {
        "id": "pLCPDmRHX6f7"
      }
    },
    {
      "cell_type": "markdown",
      "source": [
        "# Control de versiones: GIT"
      ],
      "metadata": {
        "id": "t1pL8eCHX9NH"
      }
    }
  ]
}