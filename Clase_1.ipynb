{
  "nbformat": 4,
  "nbformat_minor": 0,
  "metadata": {
    "colab": {
      "name": "Clase 1.ipynb",
      "provenance": [],
      "collapsed_sections": [],
      "authorship_tag": "ABX9TyNE62ACOoQUGVvT3EezjUDV",
      "include_colab_link": true
    },
    "kernelspec": {
      "name": "python3",
      "display_name": "Python 3"
    },
    "language_info": {
      "name": "python"
    }
  },
  "cells": [
    {
      "cell_type": "markdown",
      "metadata": {
        "id": "view-in-github",
        "colab_type": "text"
      },
      "source": [
        "<a href=\"https://colab.research.google.com/github/ITBA-Python/Certificacion-Profesional-Python/blob/main/Clase_1.ipynb\" target=\"_parent\"><img src=\"https://colab.research.google.com/assets/colab-badge.svg\" alt=\"Open In Colab\"/></a>"
      ]
    },
    {
      "cell_type": "markdown",
      "source": [
        "<img src=\"https://raw.githubusercontent.com/ITBA-Python/Certificacion-Profesional-Python/main/assets/clase1/logo-itba.png\" width=\"400\">\n",
        "\n",
        "# Certificación profesional de Python\n",
        "\n",
        "El objetivo de la clase es brindar una introducción al mundo de la programación, presentando los conceptos basicos de informatica.\n",
        "\n",
        "La clase busca también explicar el entorno de trabajo y las metodologías utilizadas durante el curso."
      ],
      "metadata": {
        "id": "-TUcZs7nWywn"
      }
    },
    {
      "cell_type": "markdown",
      "source": [
        "# Entorno de trabajo\n",
        "\n",
        "Para trabajar durante el curso utilizaremos [Google Colab](https://colab.research.google.com/?hl=es) una herramienta gratis de google que nos permite facilmente trabjar con Python desde cualquier computadora utilizando un navegador web.\n",
        "\n",
        "Este entorno nos permite mezclar código, teoría, gráficos, ecuaciones matemáticas y multimedia en un mismo archivo, facilitando la distribución y presentación de los temas. Ademas permite que desarrollemos la clase en una misma plataforma evitando problemas de compatibilidad con las distintas computadoras y sistemas operativos de cada uno.\n",
        "\n",
        "**NOTA:** Si no poseen una cuenta de Google es necesario que se creen una para realizar el curso.\n",
        "\n",
        "## Guardar clase en su drive\n",
        "\n",
        "Les recomendamos guardar esta clase en su google drive personal para que puedan mantener sus notas y ejercicios realizados durante la clase.\n",
        "\n",
        "Para realizar esto deben presionar:\n",
        "\n",
        "<img src=\"https://raw.githubusercontent.com/ITBA-Python/Certificacion-Profesional-Python/main/assets/clase1/guardar-en-drive.png\" width=\"400\">\n",
        "\n",
        "Una vez guardado si quieren seguir trabjando pueden abrirlo directamente desde su Google Drive.\n",
        "\n",
        "\n"
      ],
      "metadata": {
        "id": "o9M3M7L0X1nL"
      }
    },
    {
      "cell_type": "markdown",
      "source": [
        "# Introducción a la programación\n",
        "\n",
        "La programación es el proceso que se utiliza para diseñar e implementar una aplicación informatica, utilizando algún lenguaje que permita comunicar y describir una serie de instrucciones que se requiere que la computadora ejecute. Podemos pensar que es una caja negra que recibe alguna información, la cual es llamada input (entrada), realiza alguna acción, y devuelve información, la cual es llamada output (salida)\n",
        "\n",
        "![Caja negra con entrada y salidas](https://raw.githubusercontent.com/ITBA-Python/Certificacion-Profesional-Python/main/assets/clase1/black-box.png)\n",
        "\n",
        "## Lenguajes de programación\n",
        "Los lenguajes de programación son [lenguajes formales](https://es.wikipedia.org/wiki/Lenguaje_formal) que proporciona una serie de palabras o instrucciones, las cuales permiten a un programador comunicarle a la computadora una secuencia de órdenes. Estas ordenes son interpretadas y ejecutadas por el CPU de la computadora, con el objetivo de que produzca efectos o acciones deseadas por el programador.\n",
        "\n",
        "Cada lenguaje es construido sobre una base de otro lenguaje mas simple hasta llegar a la electrónica que procesa las instrucciones. \n",
        "\n",
        "![Piramide de programación](https://raw.githubusercontent.com/ITBA-Python/Certificacion-Profesional-Python/main/assets/clase1/Piramide%20de%20programacion.png)\n",
        "\n",
        "Los lenguajes de programación de alto nivel son más fáciles de utilizar por los programadores ya que sus instrucciones son más complejas. El lenguaje assembler es un lenguaje que es especifico de cada procesador que es traducido a los famosos unos y ceros denominados (bytecode). Estos lenguajes denominados de bajo nivel son más dificiles de utilizar por los programadores ya que sus instrucciones son dificiles de memorizar y realizan unicamente acciones simples. En la base de la piramede se encuentra el \"Hardware\" o la electrónica que efectivamente ejecuta estas instrucciones, los ceros y unos son transformados en impulosos electricos y procesados físicamente por los circuitos internos de la computadora.\n",
        "\n",
        "Los lenguajes de programación son creados debido a que existe una necesidad entre la comunidad de programadores de poseer una interfaz simplificada para realizar algun conjunto de tareas. Por ejemplo el lenguaje SQL es utilizado para la interacción con bases de datos estructuradas, o el lenguaje javascript es utilizado para programar páginas web. Un [estudio](https://www.statista.com/statistics/793628/worldwide-developer-survey-most-used-languages/) de la empresa Statista nos indica cuales fueron los lenguajes más utilizados por los desarrolladores en el año 2021:\n",
        "\n",
        "<a href=\"https://www.statista.com/statistics/793628/worldwide-developer-survey-most-used-languages/\" rel=\"nofollow\"><img src=\"https://www.statista.com/graphic/1/793628/worldwide-developer-survey-most-used-languages.jpg\" alt=\"Statistic: Most used programming languages among developers worldwide, as of 2021 | Statista\" width=\"600\"/></a><br />Find more statistics at  <a href=\"https://www.statista.com\" rel=\"nofollow\">Statista</a>\n",
        "\n",
        "\n",
        "Podemos ver por las estadisticas que luego de los lenguajes de desarrollo web como HTML/CSS y Javascript, Python es el más utilizado. Esto se debe a que es uno de los lenguajes más flexibles y de fácil desarrollo existentes hoy en día."
      ],
      "metadata": {
        "id": "4BLvfQTTXuDm"
      }
    },
    {
      "cell_type": "markdown",
      "source": [
        "# Arquitecturas de computadoras\n",
        "\n",
        "Las computadoras las podemos separar en 5 partes principales:\n",
        "\n",
        "*   CPU\n",
        "*   Memoria RAM\n",
        "*   Disco duro\n",
        "*   Dispositivos de entrada\n",
        "*   Dispositivos de salida\n",
        "\n",
        "\n",
        "<img src=\"https://raw.githubusercontent.com/ITBA-Python/Certificacion-Profesional-Python/main/assets/clase1/Arquitectura%20basica%20de%20computadoras.drawio.png\"/>\n",
        "\n",
        "Cada una de estas partes cumple un rol dentro de la computadora para permitirle a la computadora ejecutar programas y poder procesar datos.\n",
        "\n",
        "El CPU cumple la función de \"cerebro\" de la computadora, sus siglas significan \"Central Processing Unit\", Unidad De Procesamiento Central. Este procesa las instrucciones escritas por los programadores junto con las entradas de los usuarios para generar un resultado y enviarlo hacia los dispositovos de salida.\n",
        "\n",
        "La memoria RAM es el \"escritorio\" del CPU, este guarda lo que necesita para trabajar en este momento en ella para poder acceder a estos datos rápidamente. Por ejemplo si una persona esta trabajando en un proyecto web para una empresa, mientras diseñe el sistema, tendrá a mano las notas tomadas durante la reunión de requerimientos con el cliente. El equivalente del CPU es que al abrir un programa, por ejemplo Google Chrome, este guarda la información en RAM de como mostrar la página web que estamos viendo y los logos de cada tab. Esto le permite rápidamente acceder a esta información y no gastar tiempo buscandolo en el Disco Duro. La principal caracteristica de la RAM es que es una memoria rápida y sin persistencia, es decir, es esperable que los datos se borren luego de ser utilizado.\n",
        "\n",
        "Los discos duro son un tipo de memoria de acceso más lento y con persitencia de los datos, que cumple el rol de \"biblioteca\" del CPU. Estos guardan toda la información de como ejecutar un programa de manera permanente, cuando un usuario quiere ejecutar este programa, el CPU copia esta infromación del disco duro a la ram y ejecuta lo desarrollado por un progamador.\n",
        "\n",
        "Las entradas son los \"sentidos\" de una computadora, le permiten recibir información externa al sistema. Por ejemplo el mouse, el teclado o la entrada de red para internet.\n",
        "\n",
        "Las salidas permiten a la computadrora interacturar con el sistema externo a ella. Por ejemplo las pantallas, las impresoras o la salida de red para internet.\n",
        "\n",
        "Las computadoras son un gran programa como los vistos al principio de la clase donde el sistema (RAM - CPU - Disco duro) forman la caja negra que recibe entradas y genera salidas.\n",
        "\n",
        "\n",
        "\n"
      ],
      "metadata": {
        "id": "3i49VybJX386"
      }
    },
    {
      "cell_type": "markdown",
      "source": [
        "# Instalación de Python"
      ],
      "metadata": {
        "id": "pLCPDmRHX6f7"
      }
    },
    {
      "cell_type": "code",
      "source": [
        ""
      ],
      "metadata": {
        "id": "GqkZ6UUoFfai"
      },
      "execution_count": null,
      "outputs": []
    },
    {
      "cell_type": "markdown",
      "source": [
        "# Control de versiones: GIT"
      ],
      "metadata": {
        "id": "t1pL8eCHX9NH"
      }
    }
  ]
}