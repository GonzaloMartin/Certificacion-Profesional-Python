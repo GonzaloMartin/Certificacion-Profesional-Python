{
  "nbformat": 4,
  "nbformat_minor": 0,
  "metadata": {
    "colab": {
      "name": "Clase 1.ipynb",
      "provenance": [],
      "collapsed_sections": [],
      "authorship_tag": "ABX9TyNqel+uXbm6zuK0YRIQiNkp",
      "include_colab_link": true
    },
    "kernelspec": {
      "name": "python3",
      "display_name": "Python 3"
    },
    "language_info": {
      "name": "python"
    }
  },
  "cells": [
    {
      "cell_type": "markdown",
      "metadata": {
        "id": "view-in-github",
        "colab_type": "text"
      },
      "source": [
        "<a href=\"https://colab.research.google.com/github/ITBA-Python/Certificacion-Profesional-Python/blob/main/Clase_1.ipynb\" target=\"_parent\"><img src=\"https://colab.research.google.com/assets/colab-badge.svg\" alt=\"Open In Colab\"/></a>"
      ]
    },
    {
      "cell_type": "markdown",
      "source": [
        "<img src=\"https://raw.githubusercontent.com/ITBA-Python/Certificacion-Profesional-Python/main/assets/clase1/logo-itba.png\" width=\"400\">\n",
        "\n",
        "# Certificación profesional de Python\n",
        "\n",
        "El objetivo de la clase es brindar una introducción al mundo de la programación, presentando los conceptos básicos de informática y conocer la dinamica del curso."
      ],
      "metadata": {
        "id": "-TUcZs7nWywn"
      }
    },
    {
      "cell_type": "markdown",
      "source": [
        "# Entorno de trabajo\n",
        "\n",
        "Para trabajar durante el curso utilizaremos [Google Colab](https://colab.research.google.com/?hl=es) una herramienta gratis de google que nos permite fácilmente trabajar con Python desde cualquier computadora utilizando un navegador web.\n",
        "\n",
        "Este entorno nos permite mezclar código, teoría, gráficos, ecuaciones matemáticas y multimedia en un mismo archivo, facilitando la distribución y presentación de los temas. Además permite que desarrollemos la clase en una misma plataforma evitando problemas de compatibilidad con las distintas computadoras y sistemas operativos de cada uno.\n",
        "\n",
        "**NOTA:** Si no poseen una cuenta de Google es necesario que se creen una para realizar el curso.\n",
        "\n",
        "## Guardar clase en su drive\n",
        "\n",
        "Les recomendamos guardar esta clase en su google drive personal para que puedan mantener sus notas y ejercicios realizados durante la clase.\n",
        "\n",
        "Para realizar esto deben presionar:\n",
        "\n",
        "<img src=\"https://raw.githubusercontent.com/ITBA-Python/Certificacion-Profesional-Python/main/assets/clase1/guardar-en-drive.png\" width=\"400\">\n",
        "\n",
        "Una vez guardado, si quieren seguir trabajando pueden abrirlo directamente desde su Google Drive.\n",
        "\n",
        "\n",
        "\n",
        "\n"
      ],
      "metadata": {
        "id": "o9M3M7L0X1nL"
      }
    },
    {
      "cell_type": "markdown",
      "source": [
        "# Introducción a la programación\n",
        "\n",
        "La programación es el proceso que se utiliza para diseñar e implementar una aplicación informática, utilizando algún lenguaje que permita comunicar y describir una serie de instrucciones que se requiere que la computadora ejecute. Podemos pensar que es una caja negra que recibe alguna información, la cual es llamada input (entrada), realiza alguna acción, y devuelve información, la cual es llamada output (salida)\n",
        "\n",
        "![Caja negra con entrada y salidas](https://raw.githubusercontent.com/ITBA-Python/Certificacion-Profesional-Python/main/assets/clase1/black-box.png)\n",
        "\n",
        "## Lenguajes de programación\n",
        "Los lenguajes de programación son [lenguajes formales](https://es.wikipedia.org/wiki/Lenguaje_formal) que proporciona una serie de palabras o instrucciones, las cuales permiten a un programador comunicarle a la computadora una secuencia de órdenes. Estas órdenes son interpretadas y ejecutadas por el CPU de la computadora, con el objetivo de que produzca efectos o acciones deseadas por el programador.\n",
        "\n",
        "Cada lenguaje es construido sobre una base de otro lenguaje mas simple hasta llegar a la electrónica que procesa las instrucciones. \n",
        "\n",
        "![Piramide de programación](https://raw.githubusercontent.com/ITBA-Python/Certificacion-Profesional-Python/main/assets/clase1/Piramide%20de%20programacion.png)\n",
        "\n",
        "Los lenguajes de programación de alto nivel son más fáciles de utilizar por los programadores ya que sus instrucciones son más complejas. El lenguaje assembler es un lenguaje específico de cada procesador que es traducido a los famosos unos y ceros denominados (bytecode). Estos lenguajes denominados de bajo nivel son más difíciles de utilizar por los programadores ya que sus instrucciones son difíciles de memorizar y realizan únicamente acciones simples. En la base de la pirámide se encuentra el \"Hardware\" o la electrónica que efectivamente ejecuta estas instrucciones, los ceros y unos son transformados en impulsos eléctricos y procesados físicamente por los circuitos internos de la computadora.\n",
        "\n",
        "Los lenguajes de programación son creados debido a que existe una necesidad entre la comunidad de programadores de poseer una interfaz simplificada para realizar algun conjunto de tareas. Por ejemplo el lenguaje SQL es utilizado para la interacción con bases de datos estructuradas, o el lenguaje javascript es utilizado para programar páginas web. Un [estudio](https://www.statista.com/statistics/793628/worldwide-developer-survey-most-used-languages/) de la empresa Statista nos indica cuales fueron los lenguajes más utilizados por los desarrolladores en el año 2021:\n",
        "\n",
        "<a href=\"https://www.statista.com/statistics/793628/worldwide-developer-survey-most-used-languages/\" rel=\"nofollow\"><img src=\"https://www.statista.com/graphic/1/793628/worldwide-developer-survey-most-used-languages.jpg\" alt=\"Statistic: Most used programming languages among developers worldwide, as of 2021 | Statista\" width=\"600\"/></a><br />Find more statistics at  <a href=\"https://www.statista.com\" rel=\"nofollow\">Statista</a>\n",
        "\n",
        "\n",
        "Podemos ver por las estadísticas que luego de los lenguajes de desarrollo web como HTML/CSS y Javascript, Python es el más utilizado. Esto se debe a que es uno de los lenguajes más flexibles y de fácil desarrollo existentes hoy en día.\n",
        "\n",
        "## Conceptos básicos de programación\n",
        "\n",
        "En esta sección abordaremos los conceptos básicos de programación que son horizontales a cualquier lenguaje, sin entrar en detalles de las implementaciones de cada variante.\n",
        "\n",
        "\n",
        "**Variable.** Se denomina variable a un conjunto de nombre y valor que puede o no contentener información del programa. Es decir, las variables son utilizadas para almacenar información. Las variables deben ser declaradas por el programador, y en algunos lenguajes tambien es responsabilidad de el eliminarlas. Ejemplo de variables:\n",
        "```python\n",
        "x = 10\n",
        "y = 5\n",
        "```\n",
        "\n",
        "**Tipos de datos.** Se denomina tipo de datos a que significa el valor almacenado en una variable. Por ejemplo algunos los tipos más comúnes de datos son numeros enteros y numeros flotantes. Los primeros guardan unicamente numeros sin decimales, es decir el número 2.5 es guardado como 2 (se pierde algo de información). Los [numeros flotantes](https://en.wikipedia.org/wiki/Floating-point_arithmetic) permiten almacenar numeros con mayor presición (hasta cierto punto). Otros tipos comúnes de datos son caracteres, booleanos, etc.\n",
        "\n",
        "\n",
        "**Estructuras de datos.** Son conjuntos de variables, cada una de ellas con su tipo de dato, agrupadas dentro de una misma variable. Por ejemplo:\n",
        "```python\n",
        "class Auto:\n",
        "    motor = '2.0'\n",
        "    ruedas = 4\n",
        "    puertas = 5\n",
        "```\n",
        "\n",
        "\n",
        "\n",
        "**Funciones.** Las funciones son un conjunto de instrucciones de programación que reciben un conjunto de entradas (puede ser vacio), realiza una serie de operaciones y devuelve un conjunto de salidas (puede ser vacio).\n",
        "```python\n",
        "def suma(a, b):\n",
        "    return a + b\n",
        "```\n",
        "\n",
        "**Control de flujo condicional.** Todos los lenguajes de programación poseen instrucciones condicionales que permiten realizar o no una acción dependiendo de una condición. Por ejemplo, ejecutar suma si el numero a es mayor a 2 si no multiplicar a por b.\n",
        "```python\n",
        "def suma2(a,b):\n",
        "    if a > 2:\n",
        "        return suma(a,b)\n",
        "    else:\n",
        "        return a*b\n",
        "```\n",
        "\n",
        "**Control de flujo iterativo.** Existe estructuras que permiten ejecutar un conjunto de acciones hasta cumplir una condición. Por ejemplo, mientras a sea menor que 5 sumarle 1.\n",
        "```python\n",
        "while a< 5:\n",
        "    a = a+1\n",
        "```\n",
        "\n",
        "**Sintaxis de programación.** Cada lenguaje tiene una sintaxis de programación que establece reglas sobre como deben declararse y utilizarse todos los conceptos vistos anteriormente.\n",
        "\n",
        "**Lenguajes interpretados vs compilados.** Los lenguajes interpretados son leidos casi tal cual como los escribe el programador para luego ser interpretado a instrucciones que la computadora puede entender, mientras que los lenguajes compilados, deben ser procesados antes de ser ejecutados en un proceso que se denomina \"compilación\". En este proceso el código escrito por los programadores es transformado en instrucciones que la computadora puede interpretar y luego es ejecutado a partir de ese archivo.\n"
      ],
      "metadata": {
        "id": "4BLvfQTTXuDm"
      }
    },
    {
      "cell_type": "markdown",
      "source": [
        "# Arquitecturas de computadoras\n",
        "\n",
        "Las computadoras las podemos separar en 5 partes principales:\n",
        "\n",
        "*   CPU\n",
        "*   Memoria RAM\n",
        "*   Disco duro\n",
        "*   Dispositivos de entrada\n",
        "*   Dispositivos de salida\n",
        "\n",
        "\n",
        "<img src=\"https://raw.githubusercontent.com/ITBA-Python/Certificacion-Profesional-Python/main/assets/clase1/Arquitectura%20basica%20de%20computadoras.drawio.png\"/>\n",
        "\n",
        "Cada una de estas partes cumple un rol dentro de la computadora para permitirle a la computadora ejecutar programas y poder procesar datos.\n",
        "\n",
        "El CPU cumple la función de \"cerebro\" de la computadora, sus siglas significan \"Central Processing Unit\", Unidad De Procesamiento Central. Este procesa las instrucciones escritas por los programadores junto con las entradas de los usuarios para generar un resultado y enviarlo hacia los dispositivos de salida.\n",
        "\n",
        "La memoria RAM es el \"escritorio\" del CPU, este guarda lo que necesita para trabajar en este momento en ella para poder acceder a estos datos rápidamente. Por ejemplo, si una persona está trabajando en un proyecto web para una empresa, mientras diseña el sistema, tendrá a mano las notas tomadas durante la reunión de requerimientos con el cliente. El equivalente del CPU es que al abrir un programa, por ejemplo Google Chrome, este guarda la información en RAM de como mostrar la página web que estamos viendo y los logos de cada tab. Esto le permite rápidamente acceder a esta información y no gastar tiempo buscándolo en el Disco Duro. La principal característica de la RAM es que es una memoria rápida y sin persistencia, es decir, es esperable que los datos se borren luego de ser utilizado.\n",
        "\n",
        "Los discos duros son un tipo de memoria de acceso más lento y con persistencia de los datos, que cumple el rol de \"biblioteca\" del CPU. Estos guardan toda la información de cómo ejecutar un programa de manera permanente, cuando un usuario quiere ejecutar este programa, el CPU copia esta información del disco duro a la ram y ejecuta lo desarrollado por un programador.\n",
        "\n",
        "Las entradas son los \"sentidos\" de una computadora, le permiten recibir información externa al sistema. Por ejemplo el mouse, el teclado o la entrada de red para internet.\n",
        "\n",
        "Las salidas permiten a la computadora interactuar con el sistema externo a ella. Por ejemplo las pantallas, las impresoras o la salida de red para internet.\n",
        "\n",
        "Las computadoras son un gran programa como los vistos al principio de la clase donde el sistema (RAM - CPU - Disco duro) forman la caja negra que recibe entradas y genera salidas."
      ],
      "metadata": {
        "id": "3i49VybJX386"
      }
    },
    {
      "cell_type": "markdown",
      "source": [
        "# Instalación de Python\n",
        "\n",
        "Instalar Python en su computadora es importante para poder trabajar en proyectos reales y trabajar con una instancia independiente de Python, no sobre Google Colab. \n",
        "\n",
        "Para instalarlo acceder a la [página ofical](https://www.python.org/downloads/) de Python y descargarlo.\n",
        "\n",
        "\n"
      ],
      "metadata": {
        "id": "pLCPDmRHX6f7"
      }
    },
    {
      "cell_type": "markdown",
      "source": [
        "# Control de versiones: GIT\n",
        "\n",
        "El control de versiones es un concepto muy importante en la programación, ya que nos permite gestionar y tener constancia de todos los cambios que se realicen en el código de un proyecto. Esto permite que los equipos de software colaboren y puedan realizar cambios independientes en el código, revisar el trabajo de sus compañeros y mantener altos estándares de calidad.\n",
        "\n",
        "Uno de los sistemas de control de versiones más conocidos es GIT. Este sistema permite a través de una consola o una interfaz gráfica gestionar las versiones de código, así como también gestionar versiones en la nube con distintos proveedores. Uno de estos proveedores que utilizaremos durante el curso es [Github](https://github.com/), que es el que utilizamos para importar la clase.\n",
        "\n",
        "Las principales ventajas de los sistemas de control de versiones o VCS son:\n",
        "\n",
        "\n",
        "*   Un completo historial de cambios desde el comienzo del proyecto de cada archivo. Es decir, todos los cambios realizados por cualquier colaborador de un proyecto quedan registrados. Estos cambios pueden ser por ejemplo crear, eliminar o modificar archivos.\n",
        "*   Manejo de versiones de código. Permite mantener múltiples versiones o ramas (branches) del código y luego fusionarlas (merge) para poder trabajar independientemente en distintas características del código.\n",
        "*   Trazabilidad. Poder rastrear cada cambio realizado y saber en que cambio se arreglo cada problema asi como tambien en cual se genero. Permite también tener un completo registro de la razón de cada cambio implementado y las distintas decisiones de diseño.\n",
        "\n",
        "Los conceptos básicos a tener en cuenta (profundizaremos más sobre ellos a lo largo del curso):\n",
        "\n",
        "\n",
        "*   Repositorio: Un proyecto de código. Es un conjunto de archivos a los cuales se va a mantener el historial de versión.\n",
        "*   Commit: un cambio o grupo de cambios en el código. Por ejemplo, agregue X funcionalidad al sistema.\n",
        "*   Push: Subir los cambios locales a un servicio remoto. Por ejemplo, subir los cambios en su computadora a su github.\n",
        "*   Branch: Una rama de desarrollo, es decir, una versión del código en la que se está trabajando activamente. Puede tener uno o múltiples commits de diferencia con la rama principal o \"main\".\n",
        "\n",
        "El proyecto de python es mantenido y desarrollado en Github. Podemos ver su repositorio en [este link](https://github.com/python/cpython).\n",
        "\n"
      ],
      "metadata": {
        "id": "t1pL8eCHX9NH"
      }
    }
  ]
}