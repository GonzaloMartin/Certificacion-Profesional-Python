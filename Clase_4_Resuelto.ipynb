{
  "nbformat": 4,
  "nbformat_minor": 0,
  "metadata": {
    "colab": {
      "name": "Clase 4.ipynb",
      "provenance": [],
      "include_colab_link": true
    },
    "kernelspec": {
      "name": "python3",
      "display_name": "Python 3"
    },
    "language_info": {
      "name": "python"
    }
  },
  "cells": [
    {
      "cell_type": "markdown",
      "metadata": {
        "id": "view-in-github",
        "colab_type": "text"
      },
      "source": [
        "<a href=\"https://colab.research.google.com/github/GonzaloMartin/ITBA-Certificacion-Profesional-Python/blob/main/Clase_4_Resuelto.ipynb\" target=\"_parent\"><img src=\"https://colab.research.google.com/assets/colab-badge.svg\" alt=\"Open In Colab\"/></a>"
      ]
    },
    {
      "cell_type": "markdown",
      "source": [
        "<img src=\"https://raw.githubusercontent.com/ITBA-Python/Certificacion-Profesional-Python/main/assets/clase2/Headers%20c%C3%A1talogo_Mesa%20de%20trabajo%201%20copia%2044.jpg\" width=\"800\">\n",
        "\n",
        "\n",
        "\n",
        "# Certificación profesional de Python\n",
        "\n",
        "#### _Resueltos de [@GonzaloMartin](https://github.com/GonzaloMartin)._\n",
        "\n",
        "# Clase 4\n",
        "\n",
        "El objetivo de la clase es seguir sumando experiencia de trabajo con programación aprendiendo los siguientes temas.\n",
        "\n",
        "*   Listas\n",
        "*   Tuplas\n",
        "*   Diccionarios\n",
        "\n",
        "La clase incluye teoría y práctica sobre cada tema aprendido.\n",
        "\n",
        "<img src=\"https://raw.githubusercontent.com/ITBA-Python/Certificacion-Profesional-Python/main/assets/clase2/LOGOTIPO_sin_fondo_positivo_sin_bajada.png\" width=\"400\">\n",
        "\n"
      ],
      "metadata": {
        "id": "UShQ7MbxF39r"
      }
    },
    {
      "cell_type": "markdown",
      "source": [
        "# Listas y tuplas"
      ],
      "metadata": {
        "id": "iSdhysfhZz05"
      }
    },
    {
      "cell_type": "markdown",
      "source": [
        "## Listas"
      ],
      "metadata": {
        "id": "ud3aeCY9Z1vi"
      }
    },
    {
      "cell_type": "markdown",
      "source": [
        "Las listas son un conjunto ordenado de variables que nos permite almacenar e interactuar tanto individualmente como en el conjunto.\n",
        "\n",
        "Para crear una lista se sigue el siguiente formato:\n",
        "```\n",
        "lista = [variable1, variable2, ... ]\n",
        "```\n",
        "Veamos un ejemplo:\n"
      ],
      "metadata": {
        "id": "WtVGFIwHZ3Zg"
      }
    },
    {
      "cell_type": "code",
      "source": [
        "# Creo una lista con 8 variables\n",
        "lista = [0, 1, 2, \"tres\", 'cuatro', True, False, 0.5]"
      ],
      "metadata": {
        "id": "Qmlt3JYZZ1Qb"
      },
      "execution_count": 1,
      "outputs": []
    },
    {
      "cell_type": "markdown",
      "source": [
        "### List Comprehension"
      ],
      "metadata": {
        "id": "6ce-j2J9d9Qn"
      }
    },
    {
      "cell_type": "markdown",
      "source": [
        "También podemos crear una lista utilizando un mecanismo que se llama \"list comprehension\". Este utiliza la estructura for para crear una lista:\n",
        "```python\n",
        "lista = [variable for variable in iterable]\n",
        "```\n",
        "Veamos un ejemplo:"
      ],
      "metadata": {
        "id": "EqafietXcaCX"
      }
    },
    {
      "cell_type": "code",
      "source": [
        "# Creamos una lista con los valores 0, 1, 2, 3\n",
        "lista = [x for x in range(0,4)]\n",
        "\n",
        "print(lista)\n",
        "\n",
        "# Creamos una lista con los valores 0, 2, 4, 6\n",
        "lista2 = [2*x for x in range(0,4)]\n",
        "\n",
        "print(lista2)"
      ],
      "metadata": {
        "id": "HVqCteY6dOwA",
        "outputId": "7c78dd95-5ad3-4809-865f-4177772dfc07",
        "colab": {
          "base_uri": "https://localhost:8080/"
        }
      },
      "execution_count": 2,
      "outputs": [
        {
          "output_type": "stream",
          "name": "stdout",
          "text": [
            "[0, 1, 2, 3]\n",
            "[0, 2, 4, 6]\n"
          ]
        }
      ]
    },
    {
      "cell_type": "markdown",
      "source": [
        "### Acceso a las varibles"
      ],
      "metadata": {
        "id": "gQ0AoZjAd_nm"
      }
    },
    {
      "cell_type": "markdown",
      "source": [
        "Podemos acceder a las variables utilizando la siguiente estructura:\n",
        "```\n",
        "lista[posicion]\n",
        "```\n",
        "\n",
        "**NOTA IMPORTANTE:** Las posiciones comienzan desde 0.\n",
        "\n",
        "\n",
        "Veamos un ejemplo:"
      ],
      "metadata": {
        "id": "-c6MGxGieB1A"
      }
    },
    {
      "cell_type": "code",
      "source": [
        "# Creamos una lista con los valores 0, 1, 2, 3, 4, 5, 6, 7, 8, 9\n",
        "lista = [ x for x in range(0, 10)]\n",
        "\n",
        "print(lista[1])\n",
        "print(lista[2])"
      ],
      "metadata": {
        "id": "33qQSbYyeK-Y",
        "outputId": "5ef529b6-3fd7-4494-a3bf-554f542eee69",
        "colab": {
          "base_uri": "https://localhost:8080/"
        }
      },
      "execution_count": 3,
      "outputs": [
        {
          "output_type": "stream",
          "name": "stdout",
          "text": [
            "1\n",
            "2\n"
          ]
        }
      ]
    },
    {
      "cell_type": "markdown",
      "source": [
        "Podemos interactuar con estas variables como cualquier otra:"
      ],
      "metadata": {
        "id": "7UklBNLgeaXl"
      }
    },
    {
      "cell_type": "code",
      "source": [
        "# Creamos una lista con los valores 0, 1, 2, 3, 4, 5, 6, 7, 8, 9\n",
        "lista = [ x for x in range(0, 10)]\n",
        "\n",
        "print(lista)\n",
        "print(lista[2])\n",
        "\n",
        "# Le asignamos el valor a la posición\n",
        "lista[2] = \"Hola\"\n",
        "\n",
        "print(lista)\n",
        "print(lista[2])"
      ],
      "metadata": {
        "id": "afube1K4elH0",
        "outputId": "2326535e-cdc2-4ea7-d3cc-c27521c9a7bf",
        "colab": {
          "base_uri": "https://localhost:8080/"
        }
      },
      "execution_count": 4,
      "outputs": [
        {
          "output_type": "stream",
          "name": "stdout",
          "text": [
            "[0, 1, 2, 3, 4, 5, 6, 7, 8, 9]\n",
            "2\n",
            "[0, 1, 'Hola', 3, 4, 5, 6, 7, 8, 9]\n",
            "Hola\n"
          ]
        }
      ]
    },
    {
      "cell_type": "markdown",
      "source": [
        "**Pregunta:**\n",
        "\n",
        "¿Que imprimirá el siguiente código?"
      ],
      "metadata": {
        "id": "l7cIICuBhPXF"
      }
    },
    {
      "cell_type": "code",
      "source": [
        "lista = [2*x for x in range(0,3)]\n",
        "\n",
        "for x in range(0,3):\n",
        "    print(lista[x])"
      ],
      "metadata": {
        "id": "TAw7XGNfhNVt",
        "outputId": "fc533ae0-24ea-4384-df3e-1f8c0cbd0b41",
        "colab": {
          "base_uri": "https://localhost:8080/"
        }
      },
      "execution_count": 5,
      "outputs": [
        {
          "output_type": "stream",
          "name": "stdout",
          "text": [
            "0\n",
            "2\n",
            "4\n"
          ]
        }
      ]
    },
    {
      "cell_type": "markdown",
      "source": [
        "### Operaciones con listas"
      ],
      "metadata": {
        "id": "YcUMWGSCC2rF"
      }
    },
    {
      "cell_type": "markdown",
      "source": [
        "Al igual que con las strings, podemos realizar operaciones sobre las listas.\n",
        "\n",
        "Por ejemplo sumar dos listas:"
      ],
      "metadata": {
        "id": "L2UQJWicC4P3"
      }
    },
    {
      "cell_type": "code",
      "source": [
        "a = [1, 2]\n",
        "b = [3, 4]\n",
        "c = a + b\n",
        "print(c)"
      ],
      "metadata": {
        "id": "COiC5V4MDAgg",
        "outputId": "9c9a06ac-cbf0-4ce0-e057-f6319c41da0c",
        "colab": {
          "base_uri": "https://localhost:8080/"
        }
      },
      "execution_count": 6,
      "outputs": [
        {
          "output_type": "stream",
          "name": "stdout",
          "text": [
            "[1, 2, 3, 4]\n"
          ]
        }
      ]
    },
    {
      "cell_type": "markdown",
      "source": [
        "También podemos verificar si un elemento se encuentra en la lista:"
      ],
      "metadata": {
        "id": "qXc9q1dxDERL"
      }
    },
    {
      "cell_type": "code",
      "source": [
        "a = [1,2,3,4,5]\n",
        "\n",
        "print(5 in a)\n",
        "print(9 in a)"
      ],
      "metadata": {
        "colab": {
          "base_uri": "https://localhost:8080/"
        },
        "id": "kMjqvOPYDHCu",
        "outputId": "79428e61-23ec-4912-8e10-11c8da1cf2ba"
      },
      "execution_count": 7,
      "outputs": [
        {
          "output_type": "stream",
          "name": "stdout",
          "text": [
            "True\n",
            "False\n"
          ]
        }
      ]
    },
    {
      "cell_type": "markdown",
      "source": [
        "### Funciones de listas\n",
        "\n"
      ],
      "metadata": {
        "id": "YldhZ48hgzDZ"
      }
    },
    {
      "cell_type": "markdown",
      "source": [
        "Al igual que los strings las listas tienen funciones dentro de ellas que podemos utilizar de la siguiente manera:\n",
        "```\n",
        "lista.funcion(parametros)\n",
        "```\n",
        "Podemos encontrar una lista de estas funciones [aca](https://docs.python.org/3/tutorial/datastructures.html#more-on-lists).\n",
        "\n",
        "Veamos un ejemplo:"
      ],
      "metadata": {
        "id": "YHvmKGF64dRr"
      }
    },
    {
      "cell_type": "code",
      "source": [
        "# Creamos una lista con los valores 0, 1, 2, 3\n",
        "lista = [x for x in range(4)]\n",
        "\n",
        "print(lista)\n",
        "\n",
        "# Damos vuelta la lista\n",
        "lista.reverse()\n",
        "\n",
        "# PREGUNTA: Que va a imprimir la siguiente función?\n",
        "print(lista)"
      ],
      "metadata": {
        "id": "z4W2BIy3gwZF",
        "outputId": "1ed670f3-c1da-4b0e-ee8a-18ef7188a4cf",
        "colab": {
          "base_uri": "https://localhost:8080/"
        }
      },
      "execution_count": 8,
      "outputs": [
        {
          "output_type": "stream",
          "name": "stdout",
          "text": [
            "[0, 1, 2, 3]\n",
            "[3, 2, 1, 0]\n"
          ]
        }
      ]
    },
    {
      "cell_type": "markdown",
      "source": [
        "También podemos agregar o quitar valores de las listas:"
      ],
      "metadata": {
        "id": "B8ESm9lWrB7p"
      }
    },
    {
      "cell_type": "code",
      "source": [
        "lista = [0, 1]\n",
        "\n",
        "print(lista)\n",
        "\n",
        "# Agregamos el valor 10 al final de la lista\n",
        "lista.append(10)\n",
        "# Agregamos el valor 1 al final de la lista\n",
        "lista.append(1)\n",
        "print(lista)\n",
        "\n",
        "# Sacamos la primera ocurrencia del valor 1\n",
        "lista.remove(1)\n",
        "print(lista)\n",
        "# Sacamos la otra\n",
        "lista.remove(1)\n",
        "print(lista)\n"
      ],
      "metadata": {
        "id": "2o6aFtwIrEv2",
        "outputId": "d2f09a57-25c0-486b-ca5e-1b288a6c0c27",
        "colab": {
          "base_uri": "https://localhost:8080/"
        }
      },
      "execution_count": 9,
      "outputs": [
        {
          "output_type": "stream",
          "name": "stdout",
          "text": [
            "[0, 1]\n",
            "[0, 1, 10, 1]\n",
            "[0, 10, 1]\n",
            "[0, 10]\n"
          ]
        }
      ]
    },
    {
      "cell_type": "markdown",
      "source": [
        "### Mini Desafio 1\n"
      ],
      "metadata": {
        "id": "irb_lneKiKo0"
      }
    },
    {
      "cell_type": "markdown",
      "source": [
        "\n",
        "Utilizando list comprehension, multiplicar cada variable por un número ingresado por el usuario de la siguiente lista:\n",
        "```\n",
        "lista = [1, 3, 5, 7, 13, 17]\n",
        "```\n",
        "Por ejemplo:\n",
        "```\n",
        ">>> 0\n",
        "[0, 0, 0, 0, 0, 0]\n",
        "```"
      ],
      "metadata": {
        "id": "YcTH24y6j4Lu"
      }
    },
    {
      "cell_type": "code",
      "source": [
        "lista = [1, 3, 5, 7, 13, 17]\n",
        "\n",
        "# Escribir su código aca:\n",
        "numero = int(input(\"Ingrese un número: \"))\n",
        "resultado = [elemento * numero for elemento in lista]\n",
        "print(resultado)\n"
      ],
      "metadata": {
        "id": "wmdOSl71iEaD",
        "colab": {
          "base_uri": "https://localhost:8080/"
        },
        "outputId": "d7d2c933-05db-4de3-cac1-b50f830ed2fc"
      },
      "execution_count": 10,
      "outputs": [
        {
          "output_type": "stream",
          "name": "stdout",
          "text": [
            "Ingrese un número: 0\n",
            "[0, 0, 0, 0, 0, 0]\n"
          ]
        }
      ]
    },
    {
      "cell_type": "markdown",
      "source": [
        "### Mini Desafio 2\n"
      ],
      "metadata": {
        "id": "Oa4GTxwki23h"
      }
    },
    {
      "cell_type": "markdown",
      "source": [
        "Imprimir de la lista las siguientes cosas:\n",
        "\n",
        "\n",
        "*   La primera mitad de la lista\n",
        "*   La lista ordenada de menor a mayor\n",
        "*   La lista ordenada de mayor a menor\n",
        "*   La segunda mitad de la lista ordenada de mayor a menor\n",
        "\n",
        "La lista es la siguiente:\n",
        "```python\n",
        "lista = [14, 3, 6, 27]\n",
        "```\n",
        "La respuesta esperada es:\n",
        "```python\n",
        "[14, 3]\n",
        "[3, 6, 14, 27]\n",
        "[27, 14, 6, 3]\n",
        "[6, 3]\n",
        "```\n",
        "**TIP**: Ver en las funciones incluidas en las listas."
      ],
      "metadata": {
        "id": "I3gJZx2Qj6pA"
      }
    },
    {
      "cell_type": "code",
      "source": [
        "lista = [14, 3, 6, 27]\n",
        "\n",
        "primera_mitad = lista[:len(lista)//2]\n",
        "ordenada_menor_a_mayor = sorted(lista)\n",
        "ordenada_mayor_a_menor = sorted(lista, reverse=True)\n",
        "segunda_mitad_mayor_a_menor = sorted(lista[len(lista)//2:], reverse=True)\n",
        "\n",
        "print(\"Primera mitad de la lista:                          \", primera_mitad)\n",
        "print(\"Lista ordenada de menor a mayor:                    \", ordenada_menor_a_mayor)\n",
        "print(\"Lista ordenada de mayor a menor:                    \", ordenada_mayor_a_menor)\n",
        "print(\"Segunda mitad de la lista ordenada de mayor a menor:\", segunda_mitad_mayor_a_menor)\n"
      ],
      "metadata": {
        "id": "jTiFPtQui2bq",
        "outputId": "19a60b35-d6dd-4d1c-c059-ed5d91bb9058",
        "colab": {
          "base_uri": "https://localhost:8080/"
        }
      },
      "execution_count": 12,
      "outputs": [
        {
          "output_type": "stream",
          "name": "stdout",
          "text": [
            "Primera mitad de la lista:                           [14, 3]\n",
            "Lista ordenada de menor a mayor:                     [3, 6, 14, 27]\n",
            "Lista ordenada de mayor a menor:                     [27, 14, 6, 3]\n",
            "Segunda mitad de la lista ordenada de mayor a menor: [27, 6]\n"
          ]
        }
      ]
    },
    {
      "cell_type": "markdown",
      "source": [
        "### Mini Desafío 3\n"
      ],
      "metadata": {
        "id": "ImoxXtHnjy2C"
      }
    },
    {
      "cell_type": "markdown",
      "source": [
        "\n",
        "Imprimir una lista en orden inverso sin utilizar la función reverse.\n",
        "\n",
        "Ejemplo:\n",
        "```\n",
        "lista = [1, 2, \"tres\"]\n",
        "```\n",
        "Salida:\n",
        "```\n",
        "\"tres\"\n",
        "2\n",
        "1\n",
        "```"
      ],
      "metadata": {
        "id": "X2RSdgxV4uJW"
      }
    },
    {
      "cell_type": "code",
      "source": [
        "lista = [1, 2, \"tres\"]\n",
        "for item in lista[::-1]:\n",
        "    print(item)\n"
      ],
      "metadata": {
        "id": "N304WXolkcOe",
        "outputId": "75c8a189-49ee-4c86-ca67-2146f2da7878",
        "colab": {
          "base_uri": "https://localhost:8080/"
        }
      },
      "execution_count": 13,
      "outputs": [
        {
          "output_type": "stream",
          "name": "stdout",
          "text": [
            "tres\n",
            "2\n",
            "1\n"
          ]
        }
      ]
    },
    {
      "cell_type": "markdown",
      "source": [
        "## Tuplas"
      ],
      "metadata": {
        "id": "Maxw7RIXj8Kq"
      }
    },
    {
      "cell_type": "markdown",
      "source": [
        "Las tuplas son muy similares a las listas pero sus variables no pueden ser modificadas.\n",
        "\n",
        "Se crean siguiendo la siguiente estructura:\n",
        "```\n",
        "tupla = (variable1, variable2, ...)\n",
        "```\n",
        "\n",
        "Veamos un ejemplo:"
      ],
      "metadata": {
        "id": "j-mIBKrPkA3d"
      }
    },
    {
      "cell_type": "code",
      "source": [
        "tupla = (1, 2, \"hola\")\n",
        "\n",
        "print(tupla)"
      ],
      "metadata": {
        "id": "0igjGFovkfxU",
        "outputId": "3505f0c3-52b8-4860-e0dd-75d50948f363",
        "colab": {
          "base_uri": "https://localhost:8080/"
        }
      },
      "execution_count": 14,
      "outputs": [
        {
          "output_type": "stream",
          "name": "stdout",
          "text": [
            "(1, 2, 'hola')\n"
          ]
        }
      ]
    },
    {
      "cell_type": "markdown",
      "source": [
        "Al igual que las listas podemos generarlas utilizando la estructura for, pero debemos indicarle con la palabra `tuple`:"
      ],
      "metadata": {
        "id": "hc4eNonFkjBX"
      }
    },
    {
      "cell_type": "code",
      "source": [
        "# Creamos una tupla con el cuadrado de los números pares de 0 a 10\n",
        "tupla = tuple(x ** 2 for x in range(0, 10, 2))\n",
        "\n",
        "print(tupla)"
      ],
      "metadata": {
        "id": "iG6409xpj9Lz",
        "outputId": "4152f5eb-38c6-4ca2-d7c6-257c0c96872f",
        "colab": {
          "base_uri": "https://localhost:8080/"
        }
      },
      "execution_count": 15,
      "outputs": [
        {
          "output_type": "stream",
          "name": "stdout",
          "text": [
            "(0, 4, 16, 36, 64)\n"
          ]
        }
      ]
    },
    {
      "cell_type": "markdown",
      "source": [
        "### Acceso a las variables\n"
      ],
      "metadata": {
        "id": "uNZvBHPfnsW_"
      }
    },
    {
      "cell_type": "markdown",
      "source": [
        "\n",
        "Podemos acceder a las variables pero no modificarlas utilizando la misma estructura que las listas.\n",
        "\n",
        "```\n",
        "tupla[posicion]\n",
        "```\n",
        "\n",
        "Veamos un ejemplo:"
      ],
      "metadata": {
        "id": "8HkH4f5H5HGu"
      }
    },
    {
      "cell_type": "code",
      "source": [
        "tupla = tuple(x ** 2 for x in range(0, 10, 2))\n",
        "\n",
        "print(tupla[3])"
      ],
      "metadata": {
        "colab": {
          "base_uri": "https://localhost:8080/"
        },
        "id": "WjWI0-ODky36",
        "outputId": "1ab29807-8da5-4c8b-caf4-217c9bb2dee8"
      },
      "execution_count": 16,
      "outputs": [
        {
          "output_type": "stream",
          "name": "stdout",
          "text": [
            "36\n"
          ]
        }
      ]
    },
    {
      "cell_type": "markdown",
      "source": [
        "Pero si intentamos modificar:"
      ],
      "metadata": {
        "id": "HbG_BQoCoJzY"
      }
    },
    {
      "cell_type": "code",
      "source": [
        "tupla[3] = 25"
      ],
      "metadata": {
        "id": "CYPrGMDZoHbz",
        "outputId": "fc3d046a-e4d2-4d3d-d864-8ecfcf5f09c7",
        "colab": {
          "base_uri": "https://localhost:8080/",
          "height": 176
        }
      },
      "execution_count": 17,
      "outputs": [
        {
          "output_type": "error",
          "ename": "TypeError",
          "evalue": "ignored",
          "traceback": [
            "\u001b[0;31m---------------------------------------------------------------------------\u001b[0m",
            "\u001b[0;31mTypeError\u001b[0m                                 Traceback (most recent call last)",
            "\u001b[0;32m<ipython-input-17-b9e0b8bd1666>\u001b[0m in \u001b[0;36m<cell line: 1>\u001b[0;34m()\u001b[0m\n\u001b[0;32m----> 1\u001b[0;31m \u001b[0mtupla\u001b[0m\u001b[0;34m[\u001b[0m\u001b[0;36m3\u001b[0m\u001b[0;34m]\u001b[0m \u001b[0;34m=\u001b[0m \u001b[0;36m25\u001b[0m\u001b[0;34m\u001b[0m\u001b[0;34m\u001b[0m\u001b[0m\n\u001b[0m",
            "\u001b[0;31mTypeError\u001b[0m: 'tuple' object does not support item assignment"
          ]
        }
      ]
    },
    {
      "cell_type": "markdown",
      "source": [
        "### Mini Desafío 4\n",
        "\n"
      ],
      "metadata": {
        "id": "kDvdFsizoXEV"
      }
    },
    {
      "cell_type": "markdown",
      "source": [
        "\n",
        "A partir de una tupla que contenga los valores de 0 al 100, generar otra tupla que contenga unicamente los valores pares.\n",
        "\n",
        "**TIP**: `for x in tupla` itera sobre cada valor de la tupla."
      ],
      "metadata": {
        "id": "P36fdBru5LpZ"
      }
    },
    {
      "cell_type": "code",
      "source": [
        "tupla = tuple(range(101))  # tupla de 0 a 100\n",
        "tupla_pares = tuple(x for x in tupla if x % 2 == 0)\n",
        "print(tupla_pares)\n"
      ],
      "metadata": {
        "id": "Pdt8gU42opqJ",
        "outputId": "9b229d34-6e76-41e5-a75d-59b40791bee3",
        "colab": {
          "base_uri": "https://localhost:8080/"
        }
      },
      "execution_count": 18,
      "outputs": [
        {
          "output_type": "stream",
          "name": "stdout",
          "text": [
            "(0, 2, 4, 6, 8, 10, 12, 14, 16, 18, 20, 22, 24, 26, 28, 30, 32, 34, 36, 38, 40, 42, 44, 46, 48, 50, 52, 54, 56, 58, 60, 62, 64, 66, 68, 70, 72, 74, 76, 78, 80, 82, 84, 86, 88, 90, 92, 94, 96, 98, 100)\n"
          ]
        }
      ]
    },
    {
      "cell_type": "markdown",
      "source": [
        "# Diccionarios"
      ],
      "metadata": {
        "id": "2mjVtVZ4oUAd"
      }
    },
    {
      "cell_type": "markdown",
      "source": [
        "Los diccionarios son una estructura que permite guardar valores asociados a una llave o key. Es decir, guarda un par key,valor y nos permite acceder a ellos por esta llave.\n",
        "\n",
        "La estructura es la siguiente:\n",
        "```python\n",
        "{\n",
        "    llave: valor,\n",
        "    llave2: valor2,\n",
        "    ...\n",
        "}\n",
        "```\n",
        "Veamos un ejemplo:\n"
      ],
      "metadata": {
        "id": "k5zFQJMzoqv7"
      }
    },
    {
      "cell_type": "code",
      "source": [
        "# Generamos un diccionario donde la llave es un pais y el valor su población\n",
        "diccionario = {\n",
        "    \"Argentina\": 45300000,\n",
        "    \"Inglaterra\": 55600000,\n",
        "    \"Italia\": 59550000,\n",
        "    \"Chile\": 19200000\n",
        "}"
      ],
      "metadata": {
        "id": "Xkd3EEUCoM5e"
      },
      "execution_count": 19,
      "outputs": []
    },
    {
      "cell_type": "markdown",
      "source": [
        "### Acceso a las variables"
      ],
      "metadata": {
        "id": "LteaS7qOp-_T"
      }
    },
    {
      "cell_type": "markdown",
      "source": [
        "El acceso a las variables es igual que las tuplas y las listas, solo que en vez de la posición se utiliza la llave:\n",
        "```\n",
        "diccionario[llave]\n",
        "```\n",
        "Veamos un ejemplo:"
      ],
      "metadata": {
        "id": "Q9FKGUV0qAxF"
      }
    },
    {
      "cell_type": "code",
      "source": [
        "# Generamos un diccionario donde la llave es un pais y el valor su población\n",
        "diccionario = {\n",
        "    \"Argentina\": 45300000,\n",
        "    \"Inglaterra\": 55600000,\n",
        "    \"Italia\": 59550000,\n",
        "    \"Chile\": 19200000\n",
        "}\n",
        "\n",
        "# Obtenemos el valor en la llave argentina\n",
        "poblacion = diccionario['Argentina']\n",
        "\n",
        "print(\"La población de Argentina es\", poblacion)"
      ],
      "metadata": {
        "id": "pJWa4mBjqASQ",
        "outputId": "470ddc25-512e-40ae-f2b5-3d8a4e63d3d6",
        "colab": {
          "base_uri": "https://localhost:8080/"
        }
      },
      "execution_count": 21,
      "outputs": [
        {
          "output_type": "stream",
          "name": "stdout",
          "text": [
            "La población de Argentina es 45300000\n"
          ]
        }
      ]
    },
    {
      "cell_type": "markdown",
      "source": [
        "Al igual que las listas las variables son modificables."
      ],
      "metadata": {
        "id": "6WOL7AR5rdDC"
      }
    },
    {
      "cell_type": "code",
      "source": [
        "diccionario = {\n",
        "    1: 2,\n",
        "    2: 3,\n",
        "    3: 4,\n",
        "}\n",
        "# Vemos que tiene la llave 3\n",
        "print(diccionario[3])\n",
        "\n",
        "# Sumamos uno a la llave 3\n",
        "diccionario[3] += 1\n",
        "\n",
        "print(diccionario[3])"
      ],
      "metadata": {
        "id": "nvLDrXP3rgJw",
        "outputId": "48af3d07-43cf-4068-fb89-56dabe9b5931",
        "colab": {
          "base_uri": "https://localhost:8080/"
        }
      },
      "execution_count": 22,
      "outputs": [
        {
          "output_type": "stream",
          "name": "stdout",
          "text": [
            "4\n",
            "5\n"
          ]
        }
      ]
    },
    {
      "cell_type": "markdown",
      "source": [
        "También podemos agregar llaves en el código:\n",
        ""
      ],
      "metadata": {
        "id": "eA9oxQ8crvmS"
      }
    },
    {
      "cell_type": "code",
      "source": [
        "diccionario = {\n",
        "    1: 2,\n",
        "    2: 3,\n",
        "    3: 4,\n",
        "}\n",
        "\n",
        "print(diccionario)\n",
        "\n",
        "# Agregamos la llave hola con el siguiente valor\n",
        "diccionario['hola'] = 'Soy la nueva llave'\n",
        "\n",
        "print(diccionario)"
      ],
      "metadata": {
        "id": "2HbmcXiXqfPS",
        "outputId": "1a105fa3-76c3-426c-b44e-f673d4b052ec",
        "colab": {
          "base_uri": "https://localhost:8080/"
        }
      },
      "execution_count": 23,
      "outputs": [
        {
          "output_type": "stream",
          "name": "stdout",
          "text": [
            "{1: 2, 2: 3, 3: 4}\n",
            "{1: 2, 2: 3, 3: 4, 'hola': 'Soy la nueva llave'}\n"
          ]
        }
      ]
    },
    {
      "cell_type": "markdown",
      "source": [
        "### Funciones\n"
      ],
      "metadata": {
        "id": "RfLDeMMFCB13"
      }
    },
    {
      "cell_type": "markdown",
      "source": [
        "\n",
        "Al igual que las otras estructuras los diccionarios tienen funciones dentro de ellos. Podemos leer sobre ellas en el siguiente [link](https://docs.python.org/3/library/stdtypes.html#dict).\n",
        "\n",
        "Veamos algunos ejemplos:"
      ],
      "metadata": {
        "id": "Wj04O0l-5eUY"
      }
    },
    {
      "cell_type": "code",
      "source": [
        "# Generamos un diccionario donde la llave es un pais y el valor su población\n",
        "diccionario = {\n",
        "    \"Argentina\": 45300000,\n",
        "    \"Inglaterra\": 55600000,\n",
        "    \"Italia\": 59550000,\n",
        "    \"Chile\": 19200000\n",
        "}\n",
        "\n",
        "# Vemos las llaves del diccionario\n",
        "print(diccionario.keys())\n",
        "\n",
        "# Vemos los valores del diccionario\n",
        "print(diccionario.values())\n",
        "\n",
        "# Vemos los elementos del diccionario\n",
        "print(diccionario.items())"
      ],
      "metadata": {
        "id": "0QDjaUqdr6yl",
        "outputId": "cd887a78-1c5f-4220-bb43-0745570f7670",
        "colab": {
          "base_uri": "https://localhost:8080/"
        }
      },
      "execution_count": 24,
      "outputs": [
        {
          "output_type": "stream",
          "name": "stdout",
          "text": [
            "dict_keys(['Argentina', 'Inglaterra', 'Italia', 'Chile'])\n",
            "dict_values([45300000, 55600000, 59550000, 19200000])\n",
            "dict_items([('Argentina', 45300000), ('Inglaterra', 55600000), ('Italia', 59550000), ('Chile', 19200000)])\n"
          ]
        }
      ]
    },
    {
      "cell_type": "markdown",
      "source": [
        "## Mini desafío 5"
      ],
      "metadata": {
        "id": "4krPRchrDrkg"
      }
    },
    {
      "cell_type": "markdown",
      "source": [
        "Escribir una función que una dos diccionarios. Si la key está repetida, tomar el valor del primer diccionario.\n",
        "\n",
        "Esta operación no debe modificar los diccionarios dados como parámetro.\n",
        "\n",
        "Ejemplo:\n",
        "```python\n",
        "a = {\n",
        "   'a': 1,\n",
        "   'b': 2,\n",
        "   'c': 3,\n",
        "   'd': 4,\n",
        "}\n",
        "b = {\n",
        "   'c': 5,\n",
        "   'd': 6,\n",
        "   'e': 7,\n",
        "}\n",
        "\n",
        "c = unir_diccionarios(a,b)\n",
        "print(c)\n",
        "```\n",
        "Debe dar el resultado:\n",
        "```python\n",
        "{'a':1,'b':2,'c':3,'d':4,'e':7}\n",
        "```"
      ],
      "metadata": {
        "id": "LbZfyuXEDzKL"
      }
    },
    {
      "cell_type": "code",
      "source": [
        "def unir_diccionarios(diccionario1, diccionario2):\n",
        "    resultado = diccionario1.copy()  # copio\n",
        "    for key, value in diccionario2.items():\n",
        "        if key not in resultado:  # Si la clave existe, la agrega con su valor\n",
        "            resultado[key] = value\n",
        "    return resultado\n",
        "\n",
        "a = {\n",
        "   'a': 1,\n",
        "   'b': 2,\n",
        "   'c': 3,\n",
        "   'd': 4,\n",
        "}\n",
        "b = {\n",
        "   'c': 5,\n",
        "   'd': 6,\n",
        "   'e': 7,\n",
        "}\n",
        "\n",
        "c = unir_diccionarios(a, b)\n",
        "print(c)"
      ],
      "metadata": {
        "id": "1u9oNresCgtT",
        "outputId": "254e6fd5-d9dd-4c92-d71e-b8de664df152",
        "colab": {
          "base_uri": "https://localhost:8080/"
        }
      },
      "execution_count": 25,
      "outputs": [
        {
          "output_type": "stream",
          "name": "stdout",
          "text": [
            "{'a': 1, 'b': 2, 'c': 3, 'd': 4, 'e': 7}\n"
          ]
        }
      ]
    },
    {
      "cell_type": "markdown",
      "source": [
        "### Mini desafío 6"
      ],
      "metadata": {
        "id": "ze4JmxLKF71E"
      }
    },
    {
      "cell_type": "markdown",
      "source": [
        "Reescribir el Mini Desafío 2 de la clase 2 utilizando diccionarios."
      ],
      "metadata": {
        "id": "nxeq_TdHF-mu"
      }
    },
    {
      "cell_type": "code",
      "source": [
        "# Código del Mini Desafío 2 de la clase 2:\n",
        "\n",
        "radio = float(input(\"Ingrese el radio del círculo en metros: \"))\n",
        "area_original = 3.1416 * radio**2\n",
        "\n",
        "# Área del círculo con un radio 1 metro más pequeño\n",
        "nuevo_radio = radio - 1\n",
        "area_nueva = 3.1416 * nuevo_radio**2\n",
        "\n",
        "print(f\"El área de un círculo con radio {radio} metros es {area_original:.2f} m².\")\n",
        "print(f\"El área de un círculo con radio {nuevo_radio} metros es {area_nueva:.2f} m².\")\n",
        "\n",
        "\n",
        "# No entiendo de qué serviría aplicar el uso de diccionarios en un cálculo así.\n",
        "# Creo que se confundieron con el enunciado."
      ],
      "metadata": {
        "id": "ud61wvTDF957"
      },
      "execution_count": 27,
      "outputs": []
    },
    {
      "cell_type": "markdown",
      "source": [
        "# Ejercicios Integradores"
      ],
      "metadata": {
        "id": "e-19oDLWGQum"
      }
    },
    {
      "cell_type": "markdown",
      "source": [
        "## 1. Calculadora 4.0\n"
      ],
      "metadata": {
        "id": "TsitzOGuTWQF"
      }
    },
    {
      "cell_type": "markdown",
      "source": [
        "\n",
        "Reescribir la calculadora pero utilizando el diccionario para almacenar las funciones de cada cuenta.\n",
        "\n",
        "**TIP:** Se puede almacenar una función en una variable y utilizarla.\n",
        "\n",
        "Ejemplo:\n",
        "\n"
      ],
      "metadata": {
        "id": "G3qpwfQ95rut"
      }
    },
    {
      "cell_type": "code",
      "source": [
        "def suma(a, b):\n",
        "    return a+b\n",
        "\n",
        "diccionario = {\n",
        "    '+': suma\n",
        "}\n",
        "print(diccionario['+'](1,2))"
      ],
      "metadata": {
        "id": "LzTLbtV2GSgF",
        "outputId": "483ec778-953e-4297-bf61-36bcdf644ecc",
        "colab": {
          "base_uri": "https://localhost:8080/"
        }
      },
      "execution_count": 28,
      "outputs": [
        {
          "output_type": "stream",
          "name": "stdout",
          "text": [
            "3\n"
          ]
        }
      ]
    },
    {
      "cell_type": "code",
      "source": [
        "# Realizar el ejercicio aca\n",
        "\n",
        "def suma(a, b):\n",
        "    return a + b\n",
        "\n",
        "def resta(a, b):\n",
        "    return a - b\n",
        "\n",
        "def multiplicacion(a, b):\n",
        "    return a * b\n",
        "\n",
        "def division(a, b):\n",
        "    if b != 0:\n",
        "        return a / b\n",
        "    else:\n",
        "        return \"Error: División por cero!\"\n",
        "\n",
        "# Diccionario\n",
        "operaciones = {\n",
        "    '+': suma,\n",
        "    '-': resta,\n",
        "    '*': multiplicacion,\n",
        "    '/': division\n",
        "}\n",
        "\n",
        "numero1 = int(input(\"Ingrese un número: \"))\n",
        "operacion = input(\"Ingrese la operación (+, -, *, /): \")\n",
        "numero2 = int(input(\"Ingrese otro número: \"))\n",
        "\n",
        "if operacion in operaciones:\n",
        "    resultado = operaciones[operacion](numero1, numero2)\n",
        "    print(f\"El resultado de {numero1} {operacion} {numero2} es: {resultado}\")\n",
        "else:\n",
        "    print(\"Operación inválida.\")\n"
      ],
      "metadata": {
        "id": "44EM-Va8T-K1",
        "outputId": "027fc7f8-1558-4f50-e97a-0f3e856a5cd7",
        "colab": {
          "base_uri": "https://localhost:8080/"
        }
      },
      "execution_count": 31,
      "outputs": [
        {
          "output_type": "stream",
          "name": "stdout",
          "text": [
            "Ingrese un número: 1\n",
            "Ingrese la operación (+, -, *, /): +\n",
            "Ingrese otro número: 1\n",
            "El resultado de 1 + 1 es: 2\n"
          ]
        }
      ]
    },
    {
      "cell_type": "markdown",
      "source": [
        "## 2. Cantidad de elementos de llaves de un diccionario\n",
        "\n"
      ],
      "metadata": {
        "id": "_4Es3LugUBtH"
      }
    },
    {
      "cell_type": "markdown",
      "source": [
        "Devolver la cantidad total de llaves de un diccionario, incluyendo si tiene otros diccionarios dentro de el.\n",
        "\n",
        "Ejemplo:\n",
        "```python\n",
        "diccionario = {\n",
        "    'a': {'b':1, 'c':2},\n",
        "    'b': 3,\n",
        "    'c': 4,\n",
        "}\n",
        "print(contar_keys(diccionario))\n",
        "```\n",
        "Debe devolver 5.\n",
        "\n",
        "**TIP:** Con la función `isinstance`se puede verificar si un valor es un diccionario o un int."
      ],
      "metadata": {
        "id": "1gH5m2Pp5yg0"
      }
    },
    {
      "cell_type": "code",
      "source": [
        "def contar_keys(diccionario):\n",
        "    count = 0\n",
        "    for key, value in diccionario.items():\n",
        "        count += 1\n",
        "        if isinstance(value, dict):\n",
        "            count += contar_keys(value)\n",
        "    return count\n",
        "\n",
        "diccionario = {\n",
        "    'a': {'b': 1, 'c': 2},\n",
        "    'b': 3,\n",
        "    'c': 4,\n",
        "}\n",
        "\n",
        "total_keys = contar_keys(diccionario)\n",
        "print(f\"Cantidad de llaves: {total_keys}\")"
      ],
      "metadata": {
        "id": "l1uFvTORUlKH",
        "outputId": "14cf69c3-0237-4b9f-893a-25e39529042a",
        "colab": {
          "base_uri": "https://localhost:8080/"
        }
      },
      "execution_count": 32,
      "outputs": [
        {
          "output_type": "stream",
          "name": "stdout",
          "text": [
            "Cantidad de llaves: 5\n"
          ]
        }
      ]
    },
    {
      "cell_type": "markdown",
      "source": [
        "## 3. Fibonacci 2.0\n"
      ],
      "metadata": {
        "id": "Xlv09opx2Bpm"
      }
    },
    {
      "cell_type": "markdown",
      "source": [
        "Realizar una función que devuelva la secuencia de fibonacci hasta la posición `n`.\n",
        "\n",
        "Ejemplo:\n",
        "```\n",
        ">>> 4\n",
        "[0, 1, 1, 2, 3]\n",
        "```\n",
        "```\n",
        ">>> 6\n",
        "[0, 1, 1, 2, 3, 5, 8]\n",
        "```"
      ],
      "metadata": {
        "id": "VTnCv73j2Npz"
      }
    },
    {
      "cell_type": "code",
      "source": [
        "def fibonacci_hasta_n_recursivo(n, fib_sequence=[0, 1]):\n",
        "    if len(fib_sequence) >= n + 1:\n",
        "        return fib_sequence[:n + 1]\n",
        "\n",
        "    fib_sequence.append(fib_sequence[-1] + fib_sequence[-2])\n",
        "    return fibonacci_hasta_n_recursivo(n, fib_sequence)\n",
        "\n",
        "n = int(input(\"Ingrese la posición n: \"))\n",
        "resultado = fibonacci_hasta_n_recursivo(n)\n",
        "print(resultado)"
      ],
      "metadata": {
        "id": "EREeF7IJ2rag",
        "outputId": "08af3e75-88b8-4753-c32a-4cbc2652ba67",
        "colab": {
          "base_uri": "https://localhost:8080/"
        }
      },
      "execution_count": 34,
      "outputs": [
        {
          "output_type": "stream",
          "name": "stdout",
          "text": [
            "Ingrese la posición n: 6\n",
            "[0, 1, 1, 2, 3, 5, 8]\n"
          ]
        }
      ]
    },
    {
      "cell_type": "markdown",
      "source": [
        "## 4. Input de estructuras\n"
      ],
      "metadata": {
        "id": "X3LPIrBq2rtw"
      }
    },
    {
      "cell_type": "markdown",
      "source": [
        "Escribir un programa que te deje ingresar el texto de una lista o tupla (que contenga solo números) y lo convierta al objeto en python.\n",
        "\n",
        "Ejemplo:\n",
        "```\n",
        ">>> [1,2,3,4]\n",
        "[1,2,3,4]\n",
        "```\n",
        "```\n",
        ">>> (4,5,6)\n",
        "(4,5,6)\n",
        "```\n",
        "**NOTA:** No se vale hacer print del input, hay que convertir al objeto.\n",
        "\n",
        "**NOTA 2:** Investigar la función split y replace de strings."
      ],
      "metadata": {
        "id": "XF5_rpNL3oWd"
      }
    },
    {
      "cell_type": "code",
      "source": [
        "def convertir_a_objeto(texto):\n",
        "    texto = texto.replace(\"[\", \"\").replace(\"]\", \"\").replace(\"(\", \"\").replace(\")\", \"\")\n",
        "    elementos = texto.split(\",\")\n",
        "\n",
        "    # Convertir los elementos a enteros\n",
        "    objeto = [int(elemento) for elemento in elementos]\n",
        "    return objeto\n",
        "\n",
        "entrada = input(\"Ingrese el texto de la lista o tupla: \")\n",
        "resultado = convertir_a_objeto(entrada)\n",
        "print(resultado)\n"
      ],
      "metadata": {
        "id": "tDQdbdJo3ooP",
        "outputId": "a3bb7c33-ce75-43e0-e41d-d23771e58dda",
        "colab": {
          "base_uri": "https://localhost:8080/"
        }
      },
      "execution_count": 35,
      "outputs": [
        {
          "output_type": "stream",
          "name": "stdout",
          "text": [
            "Ingrese el texto de la lista o tupla: [1,2,3,4]                                              \n",
            "[1, 2, 3, 4]\n"
          ]
        }
      ]
    }
  ]
}