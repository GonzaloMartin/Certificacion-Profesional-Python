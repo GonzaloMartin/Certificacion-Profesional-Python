{
  "nbformat": 4,
  "nbformat_minor": 0,
  "metadata": {
    "colab": {
      "name": "Clase 3.ipynb",
      "provenance": [],
      "authorship_tag": "ABX9TyMDbeRPYtwizKpirKl0RVPY",
      "include_colab_link": true
    },
    "kernelspec": {
      "name": "python3",
      "display_name": "Python 3"
    },
    "language_info": {
      "name": "python"
    }
  },
  "cells": [
    {
      "cell_type": "markdown",
      "metadata": {
        "id": "view-in-github",
        "colab_type": "text"
      },
      "source": [
        "<a href=\"https://colab.research.google.com/github/ITBA-Python/Certificacion-Profesional-Python/blob/main/Clase_3.ipynb\" target=\"_parent\"><img src=\"https://colab.research.google.com/assets/colab-badge.svg\" alt=\"Open In Colab\"/></a>"
      ]
    },
    {
      "cell_type": "markdown",
      "source": [
        "<img src=\"https://raw.githubusercontent.com/ITBA-Python/Certificacion-Profesional-Python/main/assets/clase2/Headers%20c%C3%A1talogo_Mesa%20de%20trabajo%201%20copia%2044.jpg\" width=\"800\">\n",
        "\n",
        "\n",
        "\n",
        "# Certificación profesional de Python\n",
        "\n",
        "# Clase 3\n",
        "\n",
        "El objetivo de la clase es obtener la primera experiencia de trabajo con programación aprendiendo los siguientes temas.\n",
        "\n",
        "*   Loops e iteraciones\n",
        "*   Strings\n",
        "*   Acceso a archivos\n",
        "\n",
        "La clase incluye teoría y practica sobre cada tema aprendido.\n",
        "\n",
        "<img src=\"https://raw.githubusercontent.com/ITBA-Python/Certificacion-Profesional-Python/main/assets/clase2/LOGOTIPO_sin_fondo_positivo_sin_bajada.png\" width=\"400\">"
      ],
      "metadata": {
        "id": "UShQ7MbxF39r"
      }
    },
    {
      "cell_type": "markdown",
      "source": [
        "# Control de flujo\n",
        "\n"
      ],
      "metadata": {
        "id": "c1LTtntUG93L"
      }
    },
    {
      "cell_type": "markdown",
      "source": [
        "El código en Python es código secuencial, es decir, cada instrucción es ejecutada una despúes de la otra.\n",
        "\n",
        "IMAGEN DE FLUJO SECUENCIAL\n",
        "\n",
        "La clase pasada vimos la estructura if que nos permite ejecutar código si se cumple una condición:\n",
        "\n",
        "IMAGEN FLUJO CONDICIONAL\n",
        "\n",
        "Esta semana veremos el flujo iterativo que nos permite ejecutar código mientras se cumpla una condición.\n",
        "\n",
        "IMAGEN FLUJO ITERATIVO\n",
        "\n",
        "Todas las estrcuturas de control de flujo siguen el siguiente formato en el lenguaje Python:\n",
        "\n",
        "```\n",
        "NOMBRE_ESTRUCTURA parámetros_estructura:\n",
        "    # 4 espacios de separación\n",
        "    codigo que quiero ejecutar\n",
        "```\n",
        "\n",
        "**NOTA IMPORTANTE:** Notar el `:` al final de los parametros."
      ],
      "metadata": {
        "id": "R2mSLe3XKzW8"
      }
    },
    {
      "cell_type": "markdown",
      "source": [
        "## Estructura if\n",
        "Primero veamos un repaso de la estructura if. Esta nos permite realizar una serie de instrucciones si se cumple una condición. Sigue la siguiente sintaxis:\n",
        "```python\n",
        "if condicion1:\n",
        "    # Si se cumple condicion 1\n",
        "    ...\n",
        "elif condicion2:\n",
        "    # Si se cumple condicion 2\n",
        "    ...\n",
        "else:\n",
        "    # Si no se cumple ninguna condición\n",
        "    ...\n",
        "```\n",
        "**NOTA IMPORTANTE:** Notar el `:` al final de los nombres de la estructura.\n",
        "\n",
        "Ejemplo:"
      ],
      "metadata": {
        "id": "MFz_7D0dNZAn"
      }
    },
    {
      "cell_type": "code",
      "source": [
        "# Obtengo input del usuario y lo convierto a entero\n",
        "numero = int(input(\"Ingerse un número: \"))\n",
        "\n",
        "# Si la variable número es mayor a 0\n",
        "if numero > 0:\n",
        "    # Notar los 4 espacios para el bloque de código dentro del if.\n",
        "    print(\"El número es positivo\")\n",
        "\n",
        "# Si la variable es menor a 0\n",
        "elif numero < 0:\n",
        "    print(\"El número es negativo\")\n",
        "\n",
        "# Si no se cumple ninguna de las dos.\n",
        "else:\n",
        "    print(\"El número es 0\")"
      ],
      "metadata": {
        "id": "LO_KXkWENu3l"
      },
      "execution_count": null,
      "outputs": []
    },
    {
      "cell_type": "markdown",
      "source": [
        "## Estrctura While\n",
        "\n"
      ],
      "metadata": {
        "id": "C9z2mKBFHB4t"
      }
    },
    {
      "cell_type": "markdown",
      "source": [
        "La estructura while nos permite ejecutar una serie de código mientras se cumpla una condición.\n",
        "\n",
        "Este sigue la estructura:\n",
        "```python\n",
        "while condicion:\n",
        "    # Codigo a ejecutar mientras se cumpla la condición\n",
        "    ...\n",
        "```\n",
        "**NOTA IMPORTANTE:** Notar el `:` al final de los nombres de la estructura y los 4 espacios para el codigo.\n",
        "\n",
        "Veamos un ejemplo:"
      ],
      "metadata": {
        "id": "wkkhSh9wOfV9"
      }
    },
    {
      "cell_type": "code",
      "source": [
        "# Obtengo input del usuario y lo convierto a entero\n",
        "numero = int(input(\"Ingerse un número: \"))\n",
        "\n",
        "# Mientras el numero es mayor a 0\n",
        "while numero > 0:\n",
        "    # Imprimo el número\n",
        "    print(numero)\n",
        "    # Resto uno.\n",
        "    numero -= 1"
      ],
      "metadata": {
        "id": "-t2tQNRnPb2a"
      },
      "execution_count": null,
      "outputs": []
    },
    {
      "cell_type": "markdown",
      "source": [
        "Este programa en cada iteración imprime el número que ingreso el usuario y resta uno hasta que se cumpla que el número sea menor o igual a 0. \n",
        "\n",
        "**NOTA IMPORTANTE:** Utilizamos uno de los operadores combinados que tiene python para operar sobre el número. En vez de realizar `numero = numero - 1` utilizamos el operador `-=`."
      ],
      "metadata": {
        "id": "jI2Ov6Z0Pnnh"
      }
    },
    {
      "cell_type": "markdown",
      "source": [
        "### Mini Desafio 1"
      ],
      "metadata": {
        "id": "nhHFa19TS_Cb"
      }
    },
    {
      "cell_type": "markdown",
      "source": [
        "Desarrollar un programa que permita al usuario ingeresar un número y que devuelva la suma de todos los numeros de 0 hasta ese número. En terminos matématicos:\n",
        "\n",
        "$respuesta = \\sum_{x=0}^{n}x$\n",
        "\n",
        "Para verificar que su resultado es correcto pueden utilizar la formula cerrada:\n",
        "$\\sum_{x=0}^{n}x = \\frac{n \\cdot (n+1)}{2} $"
      ],
      "metadata": {
        "id": "YsS_AQ3FTCDG"
      }
    },
    {
      "cell_type": "code",
      "source": [
        ""
      ],
      "metadata": {
        "id": "zRtt9FjUPnQn"
      },
      "execution_count": null,
      "outputs": []
    },
    {
      "cell_type": "markdown",
      "source": [
        "## Estructura for"
      ],
      "metadata": {
        "id": "uZoA4KxdHEFm"
      }
    },
    {
      "cell_type": "markdown",
      "source": [
        "La estructura for nos permite iterar por elementos de un conjunto elementos ordenados.\n",
        "\n",
        "Esta sigue la siguiente estructura:\n",
        "```python\n",
        "for variable in conjunto:\n",
        "    # Lo que quiero ejecutar\n",
        "    ...\n",
        "```\n",
        "El primer conjunto que utilizaremos es el rango o \"range\". Y es utilizado de la siguiente manera:\n",
        "```python\n",
        "range(inicio, fin, paso)\n",
        "```\n",
        "Esto signfica que generará un conjunto de valores que sean mayores o iguales al inicio, menores al fin y con el paso establecido.\n",
        "\n",
        "El paso por defecto es 1, veamos un ejemplo:"
      ],
      "metadata": {
        "id": "o_TsWQo8UiR3"
      }
    },
    {
      "cell_type": "code",
      "source": [
        "# Por cada x en el rango 0 4\n",
        "for x in range(0, 4):\n",
        "    # Imprimo la variable x\n",
        "    print(x)\n",
        "\n",
        "# PREGUNTA: Antes de correr el código, cual va a ser la salida del programa?"
      ],
      "metadata": {
        "id": "cqiHvCLcVH_V"
      },
      "execution_count": null,
      "outputs": []
    },
    {
      "cell_type": "markdown",
      "source": [
        "Cambiando el paso"
      ],
      "metadata": {
        "id": "yQu9BhwDVLD7"
      }
    },
    {
      "cell_type": "code",
      "source": [
        "for x in range(0, 10, 2):\n",
        "    print(x)"
      ],
      "metadata": {
        "id": "6FbW0woGVisq"
      },
      "execution_count": null,
      "outputs": []
    },
    {
      "cell_type": "markdown",
      "source": [
        "También podemos iterar sobre cadenas de texto:"
      ],
      "metadata": {
        "id": "uSFB-CjpXHu9"
      }
    },
    {
      "cell_type": "code",
      "source": [
        "# Por cada letra en la cadena\n",
        "for x in \"hola\":\n",
        "    # Imprimo la letra\n",
        "    print(x)"
      ],
      "metadata": {
        "id": "mWXZ8SJWXKZQ"
      },
      "execution_count": null,
      "outputs": []
    },
    {
      "cell_type": "markdown",
      "source": [
        "Más adelante veremos más conjuntos de datos para los cuales el `for` nos será util."
      ],
      "metadata": {
        "id": "Wyh1EUMQVnc0"
      }
    },
    {
      "cell_type": "markdown",
      "source": [
        "### Mini desafío 2\n"
      ],
      "metadata": {
        "id": "VOxhM7qhVzPz"
      }
    },
    {
      "cell_type": "markdown",
      "source": [
        "\n",
        "Escribir un programa que devuelva la suma de todos los valores pares entre 0 y un número. En terminos mátematicos:\n",
        "\n",
        "$respuesta = \\sum_{x=0}^{n/2}2x$\n",
        "\n",
        "Utilizar un for para resolver el problema."
      ],
      "metadata": {
        "id": "7BmpBvqHWo7H"
      }
    },
    {
      "cell_type": "code",
      "source": [
        ""
      ],
      "metadata": {
        "id": "h9SiG9AIWXV4"
      },
      "execution_count": null,
      "outputs": []
    },
    {
      "cell_type": "markdown",
      "source": [
        "## Mini desafío 3\n"
      ],
      "metadata": {
        "id": "E4aDU6cmWXpY"
      }
    },
    {
      "cell_type": "markdown",
      "source": [
        "Escribir un programa que genere la siguiente interacción:\n",
        "```\n",
        ">>> Ingrese la cuenta regresiva: 3\n",
        "3\n",
        "2\n",
        "1\n",
        "Despegue!\n",
        "```"
      ],
      "metadata": {
        "id": "X-PjRI-VWshD"
      }
    },
    {
      "cell_type": "code",
      "source": [
        ""
      ],
      "metadata": {
        "id": "I5ZO502JWtFQ"
      },
      "execution_count": null,
      "outputs": []
    },
    {
      "cell_type": "markdown",
      "source": [
        "## Break y continue"
      ],
      "metadata": {
        "id": "ES0ouRlSHGGP"
      }
    },
    {
      "cell_type": "markdown",
      "source": [
        "Las estructuras de flujo iterativo nos permiten frenarlas desde el código. Para ello utilizamos lás palabras `break` o `continue`.\n",
        "\n",
        "### Break\n",
        "La palabra `break` nos permite frenar completamnte una iteración desde el código.\n",
        "\n",
        "Veamos un ejemplo:"
      ],
      "metadata": {
        "id": "DHiZTuEvWt1b"
      }
    },
    {
      "cell_type": "code",
      "source": [
        "# Pido un número de iteraciones al usuario\n",
        "numero = int(input(\"Ingrese el número de iteraciones: \"))\n",
        "\n",
        "while numero > 0:\n",
        "    # Si es mayor a 10\n",
        "    if numero > 10:\n",
        "        # Le decimos al usuario que son demasiadas\n",
        "        print(\"Son demasiadas iteraciones para imprimir\")\n",
        "        # Y frenamos el while\n",
        "        break\n",
        "    # Imprimimos x\n",
        "    print(numero)\n",
        "    # Restamos uno al numero\n",
        "    numero -= 1"
      ],
      "metadata": {
        "id": "WA1ylwX3XxMz"
      },
      "execution_count": null,
      "outputs": []
    },
    {
      "cell_type": "markdown",
      "source": [
        "### Continue\n",
        "\n",
        "La palabra `continue` nos permite saltear una iteración sin frenar por completo su ejecución.\n",
        "\n",
        "Veamos un ejemplo:"
      ],
      "metadata": {
        "id": "oPh9dTnvYc54"
      }
    },
    {
      "cell_type": "code",
      "source": [
        "# Por cada i en el rango 0 a 10\n",
        "for i in range(0, 10):\n",
        "    # Si el resto de dividir por dos es 0\n",
        "    if i % 2 == 0:\n",
        "        # Salteamos la iteración\n",
        "        continue\n",
        "    # imprimimos i\n",
        "    print(i)"
      ],
      "metadata": {
        "id": "9hdw2BfNYqmL"
      },
      "execution_count": null,
      "outputs": []
    },
    {
      "cell_type": "markdown",
      "source": [
        "Notar que los únicos números que se imprimen son los números impares, ya que en el continue le dijimos de saltear los números pares."
      ],
      "metadata": {
        "id": "gFy4VdBsY9E9"
      }
    },
    {
      "cell_type": "markdown",
      "source": [
        "## Mini Desafío 4\n",
        "\n",
        "Realizar un programa que unicamente imprima las vocales de una palabra ingresada por el usuario.\n",
        "\n",
        "Ejemplo:\n",
        "```\n",
        ">>> hola\n",
        "o\n",
        "a\n",
        "```"
      ],
      "metadata": {
        "id": "yt4ixqLyZO1H"
      }
    },
    {
      "cell_type": "code",
      "source": [
        ""
      ],
      "metadata": {
        "id": "_LM57R7AZlbu"
      },
      "execution_count": null,
      "outputs": []
    },
    {
      "cell_type": "markdown",
      "source": [
        "## Mini desafío 5\n",
        "Realizar un programa que imprima todos los digitos que ingreso un usuario hasta el primer 0.\n",
        "\n",
        "```\n",
        ">>> 1234401234\n",
        "1\n",
        "2\n",
        "3\n",
        "4\n",
        "4\n",
        "```"
      ],
      "metadata": {
        "id": "fPgE5Q0dZl4F"
      }
    },
    {
      "cell_type": "code",
      "source": [
        ""
      ],
      "metadata": {
        "id": "-ynXU8u-Z2Lk"
      },
      "execution_count": null,
      "outputs": []
    },
    {
      "cell_type": "markdown",
      "source": [
        "# Strings\n"
      ],
      "metadata": {
        "id": "3BUrNTYDIC_F"
      }
    },
    {
      "cell_type": "markdown",
      "source": [
        "Los strings en python son objetos complejos que nos permiten interactuar con ellos utilizando multiples funciones y propiedades que ya están embebidas en el objeto en si.\n",
        "\n"
      ],
      "metadata": {
        "id": "MJs0fb2RZMyr"
      }
    },
    {
      "cell_type": "markdown",
      "source": [
        "## Indexación"
      ],
      "metadata": {
        "id": "ueaIg9QPb5m3"
      }
    },
    {
      "cell_type": "markdown",
      "source": [
        "La interacción más básica es acceder a un caracter, para esto utilizamos la siguiente estructura:\n",
        "```python\n",
        "cadena[indice]\n",
        "```\n",
        "Veamos un ejemplo:"
      ],
      "metadata": {
        "id": "3fKhA9-Zb9Ev"
      }
    },
    {
      "cell_type": "code",
      "source": [
        "indice = 1\n",
        "cadena = \"hola\"\n",
        "print(cadena[indice])"
      ],
      "metadata": {
        "id": "wC-DrBNKa7xq"
      },
      "execution_count": null,
      "outputs": []
    },
    {
      "cell_type": "markdown",
      "source": [
        "Notar que el indice comienza de 0 es decir en la string \"hola\" las letras tienen el siguiente indice:\n",
        "\n",
        "\n",
        "*   h -> 0\n",
        "*   o -> 1\n",
        "*   l -> 2\n",
        "*   a -> 3\n",
        "\n",
        "Esto nos permite interactuar con cada letra de la cadena de forma independiente.\n",
        "\n",
        "Pero tambien podemos pedir un rango de los caracteres:\n",
        "\n",
        "```\n",
        "cadena[comienzo:fin]\n",
        "```\n",
        "\n",
        "Veamos un ejemplo:"
      ],
      "metadata": {
        "id": "byF-dRzwbBnd"
      }
    },
    {
      "cell_type": "code",
      "source": [
        "# Antes de correr el código, que imprimira?\n",
        "cadena = \"0123456789\"\n",
        "print(cadena[2:4])"
      ],
      "metadata": {
        "id": "3MjH54RXgTMD"
      },
      "execution_count": null,
      "outputs": []
    },
    {
      "cell_type": "markdown",
      "source": [
        "## len"
      ],
      "metadata": {
        "id": "k1r_IHytb1Sl"
      }
    },
    {
      "cell_type": "markdown",
      "source": [
        "\n",
        "Otra interacción imporante con los strings es poder obtener su largo, para ello utilizamos la función `len`:\n",
        "\n",
        "```python\n",
        "len(objeto)\n",
        "```\n",
        "\n",
        "Esta función nos devolverá el largo de la cadena. Veamos un ejemplo"
      ],
      "metadata": {
        "id": "3WRGLKv_b3bi"
      }
    },
    {
      "cell_type": "code",
      "source": [
        "# Cual será la salida del código?\n",
        "cadena = \"Hola, como estas?\"\n",
        "\n",
        "print(len(cadena))"
      ],
      "metadata": {
        "id": "FuH60DM9bgnt"
      },
      "execution_count": null,
      "outputs": []
    },
    {
      "cell_type": "markdown",
      "source": [
        "Veamos que ocurre si realizamos esto con el input de un usuario:"
      ],
      "metadata": {
        "id": "csppSVxhcLdQ"
      }
    },
    {
      "cell_type": "code",
      "source": [
        "entrada = input()\n",
        "print(len(entrada))"
      ],
      "metadata": {
        "id": "ScIilZElcWuk"
      },
      "execution_count": null,
      "outputs": []
    },
    {
      "cell_type": "markdown",
      "source": [
        "## Caracteres blancos"
      ],
      "metadata": {
        "id": "QT5xv1jpcs9P"
      }
    },
    {
      "cell_type": "markdown",
      "source": [
        "En los caracteres existe lo que se denomina caracteres blancos, estos son caracteres como el `espacio` o el `enter` que no representan una letra si no una separación entre ellas.\n",
        "\n",
        "Los mas usados son el espacio `\" \"` o el enter `\"\\n\"`.\n",
        "\n",
        "Veamos un ejemplo:"
      ],
      "metadata": {
        "id": "nxNybIANcuq6"
      }
    },
    {
      "cell_type": "code",
      "source": [
        "cadena = \"Hola como estas?\\nMi nombre es Juan y te llamo desde la empresa para ...\"\n",
        "print(cadena)"
      ],
      "metadata": {
        "id": "ISa7C0fieKZz"
      },
      "execution_count": null,
      "outputs": []
    },
    {
      "cell_type": "markdown",
      "source": [
        "## Funciones de string\n",
        "\n",
        "Las cadenas tienen muchas funciones dentro de ellas que nos permiten realizar operaciones frecuentemente usadas sobre ellas. La lista completa pueden encontrarla en la página de la documentación oficial de Python en este [link](https://docs.python.org/3/library/stdtypes.html#string-methods).\n",
        "\n",
        "Para utilizar estas funciones utilizamos la siguiente estructura:\n",
        "```\n",
        "cadena.nombre_funcion(parametros)\n",
        "```\n",
        "\n",
        "Veamos un ejemplo:"
      ],
      "metadata": {
        "id": "m_sIo06MgiGv"
      }
    },
    {
      "cell_type": "code",
      "source": [
        "cadena = \"hola\"\n",
        "# Capitalizamos la cadena\n",
        "cadena2 = cadena.capitalize()\n",
        "print(cadena)\n",
        "print(cadena2)"
      ],
      "metadata": {
        "id": "DtESlxcfhDTw"
      },
      "execution_count": null,
      "outputs": []
    },
    {
      "cell_type": "markdown",
      "source": [
        "O podemos buscar en el texto el indice de una palabra o letra:"
      ],
      "metadata": {
        "id": "CR-nq4ZthQSA"
      }
    },
    {
      "cell_type": "code",
      "source": [
        "cadena = \"Hola, como estas?\"\n",
        "indice = cadena.find(\"como\")\n",
        "\n",
        "print(indice)"
      ],
      "metadata": {
        "id": "E55DpIEJhVQ9"
      },
      "execution_count": null,
      "outputs": []
    },
    {
      "cell_type": "markdown",
      "source": [
        "**Pregunta**\n",
        "Que devolverá el siguiente codigo?"
      ],
      "metadata": {
        "id": "PwnmQCtS2i4k"
      }
    },
    {
      "cell_type": "code",
      "source": [
        "cadena = \"Hola, como estas?\"\n",
        "indice = cadena.find(\"Como\")\n",
        "\n",
        "print(indice)"
      ],
      "metadata": {
        "id": "7ieHX69K2gf8"
      },
      "execution_count": null,
      "outputs": []
    },
    {
      "cell_type": "markdown",
      "source": [
        "Estos son únicamente algunos ejemplos de funciones que tienen los strings, a medida que vayan aprendiendo a programar irán aprendiendo las que más utilicen de memoria y el resto lo buscaran en google. "
      ],
      "metadata": {
        "id": "yQqJwy3D2VID"
      }
    },
    {
      "cell_type": "markdown",
      "source": [
        "## Mini desafío 6\n",
        "\n",
        "Pedir el input de un string al usuario y decir si esa cadena es un [palindromo](https://es.wikipedia.org/wiki/Pal%C3%ADndromo).\n",
        "\n",
        "Ejemplos:\n",
        "```\n",
        ">>> Hola\n",
        "No es palindromo.\n",
        "```\n",
        "```\n",
        ">>> Neuquen\n",
        "Es palindromo.\n",
        "```\n",
        "```\n",
        ">>> Casa\n",
        "No es palindromo.\n",
        "```\n",
        "```\n",
        ">>> A luna ese anula\n",
        "Es palindromo.\n",
        "```\n",
        "\n",
        "**TIP:** con la función `.lower()`de string pueden convertir las maysuculas en minusculas."
      ],
      "metadata": {
        "id": "NfnJcPYc2_vg"
      }
    },
    {
      "cell_type": "code",
      "source": [
        ""
      ],
      "metadata": {
        "id": "4Lz7EePQ3pxJ"
      },
      "execution_count": null,
      "outputs": []
    },
    {
      "cell_type": "markdown",
      "source": [
        "# Acceso a archivos\n"
      ],
      "metadata": {
        "id": "W9_Rnm_FIItx"
      }
    },
    {
      "cell_type": "markdown",
      "source": [
        ""
      ],
      "metadata": {
        "id": "_pN5fWbi24H9"
      }
    },
    {
      "cell_type": "code",
      "execution_count": null,
      "metadata": {
        "id": "6eqUaxXKFc2f"
      },
      "outputs": [],
      "source": [
        ""
      ]
    }
  ]
}