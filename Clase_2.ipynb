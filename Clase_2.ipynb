{
  "nbformat": 4,
  "nbformat_minor": 0,
  "metadata": {
    "colab": {
      "name": "Clase 2.ipynb",
      "provenance": [],
      "collapsed_sections": [],
      "authorship_tag": "ABX9TyNTBmuY22/N90T3IAyIHwF3",
      "include_colab_link": true
    },
    "kernelspec": {
      "name": "python3",
      "display_name": "Python 3"
    },
    "language_info": {
      "name": "python"
    }
  },
  "cells": [
    {
      "cell_type": "markdown",
      "metadata": {
        "id": "view-in-github",
        "colab_type": "text"
      },
      "source": [
        "<a href=\"https://colab.research.google.com/github/ITBA-Python/Certificacion-Profesional-Python/blob/main/Clase_2.ipynb\" target=\"_parent\"><img src=\"https://colab.research.google.com/assets/colab-badge.svg\" alt=\"Open In Colab\"/></a>"
      ]
    },
    {
      "cell_type": "markdown",
      "source": [
        "<img src=\"https://raw.githubusercontent.com/ITBA-Python/Certificacion-Profesional-Python/main/assets/clase2/Headers%20c%C3%A1talogo_Mesa%20de%20trabajo%201%20copia%2044.jpg\" width=\"800\">\n",
        "\n",
        "\n",
        "\n",
        "# Certificación profesional de Python\n",
        "\n",
        "# Clase 2\n",
        "\n",
        "El objetivo de la clase es obtener la primera experiencia de trabajo con programación aprendiendo los siguientes temas.\n",
        "\n",
        "*   Variables y expresiones\n",
        "*   Condicionales\n",
        "*   Funciones\n",
        "\n",
        "La clase incluye teoría y practica sobre cada tema aprendido.\n",
        "\n",
        "<img src=\"https://raw.githubusercontent.com/ITBA-Python/Certificacion-Profesional-Python/main/assets/clase2/LOGOTIPO_sin_fondo_positivo_sin_bajada.png\" width=\"400\">"
      ],
      "metadata": {
        "id": "aFkd0sZPjFy8"
      }
    },
    {
      "cell_type": "markdown",
      "source": [
        "# Variables y expresiones\n",
        "\n",
        "\n"
      ],
      "metadata": {
        "id": "Jq8-jZyGj737"
      }
    },
    {
      "cell_type": "markdown",
      "source": [
        "## Variables y tipos de datos"
      ],
      "metadata": {
        "id": "fw54Ebb72AzD"
      }
    },
    {
      "cell_type": "markdown",
      "source": [
        "### Variables"
      ],
      "metadata": {
        "id": "5RWPQDJZ2KaL"
      }
    },
    {
      "cell_type": "markdown",
      "source": [
        "\n",
        "Para poder realizar cualquier tipo de procesamiento en la computadora es necesario almacenar los datos que van a ser utilizados en el el programa. Para esto son utilizadas las variables.\n",
        "\n",
        "Los programadores deben realizar ciertos pasos para asignar una variable:\n",
        "\n",
        "\n",
        "*   Definir el nombre de la variable. Es recomendable que el nombre de la variable exprese lo que va a ser guardado en ella. Las reglas para poner un nombre son:\n",
        "    *    Debe empezar con una letra (a-z, A-Z) o un guión bajo (_).\n",
        "    *    Los otros caracteres pueden ser letras, numeros o guión bajo.\n",
        "    *    Distingue mayúsculas de minúsculas.\n",
        "    *    Existen palabras reservadas que no se pueden usar como nombre de variable porque Python las usa para otras cosas. Por ejemplo el nombre de una variable no puede ser print.\n",
        "*   Escribir el nombre de la variable\n",
        "*   Escribir el valor inical, separado con un `=`.\n",
        "\n",
        "Ejemplo:"
      ],
      "metadata": {
        "id": "19NOTVPi18aE"
      }
    },
    {
      "cell_type": "code",
      "source": [
        "x = 5\n",
        "z = \"Hola\""
      ],
      "metadata": {
        "id": "a3X2ukP_xuHT"
      },
      "execution_count": 8,
      "outputs": []
    },
    {
      "cell_type": "markdown",
      "source": [
        "El código anterior tiene el significado de:\n",
        "```\n",
        "Se crea una variable x y se le asigna el valor 5.\n",
        "Se crea una variable z y se la asigna el valor \"Hola\".\n",
        "```"
      ],
      "metadata": {
        "id": "oEYa6Vg7xzUX"
      }
    },
    {
      "cell_type": "markdown",
      "source": [
        "### Tipos de datos"
      ],
      "metadata": {
        "id": "WWTF5TGr2M0o"
      }
    },
    {
      "cell_type": "markdown",
      "source": [
        "\n",
        "\n",
        "Los tipos de datos establecen cual es el signficado de la información contenida en una variable. \n",
        "\n",
        "Si bien existen muchos tipos de datos, analizaremos los basicos del lenguaje:\n",
        "\n",
        "\n",
        "\n",
        "*   int. El tipo \"int\" o entero es un tipo de dato que puede almacenar números enteros. Para definirlo simplemente se escribe un número sin coma. Ej: `x = 5`\n",
        "*   float. El tipo \"float\" o número flotante, es un tipo de dato que almacena números con decimales. Para definirlo simplemente se escribe un número con `.`. Ej `x = 5.5`\n",
        "*   str. el tipo \"str\" o cadena es un tipo de dato que almacena cadenas de texto. Para definirlo hay que escribir un texto entre comillas simples `'` o comillas dobles `\"`. Ej: `x = \"hola\"`\n",
        "*   bool. el tipo \"bool\"o dato booleano representa un valor verdadero o falso. Para definirlo hay escribir `True` o `False`. Ej: `x = True`.\n",
        "\n",
        "\n"
      ],
      "metadata": {
        "id": "7lDzUncjyMZ2"
      }
    },
    {
      "cell_type": "code",
      "source": [
        "entero   = 12\n",
        "flotante = 12.5\n",
        "cadena   = \"hola\"\n",
        "booleano = True"
      ],
      "metadata": {
        "id": "8KxfEEH1zitz"
      },
      "execution_count": 9,
      "outputs": []
    },
    {
      "cell_type": "markdown",
      "source": [
        "Pregunta:\n",
        "\n",
        "De que tipo es la variable x?"
      ],
      "metadata": {
        "id": "31y8b5mizp73"
      }
    },
    {
      "cell_type": "code",
      "source": [
        "x = '123'"
      ],
      "metadata": {
        "id": "Y_w845xvz2q6"
      },
      "execution_count": null,
      "outputs": []
    },
    {
      "cell_type": "markdown",
      "source": [
        "Se puede convertir entre tipos de variables utilizando sus nombres como una función."
      ],
      "metadata": {
        "id": "56jzhMhezg_a"
      }
    },
    {
      "cell_type": "code",
      "source": [
        "entero = 123\n",
        "cadena = str(entero)\n",
        "\n",
        "cadena"
      ],
      "metadata": {
        "colab": {
          "base_uri": "https://localhost:8080/",
          "height": 35
        },
        "id": "KfPj2beL0t-h",
        "outputId": "13a217d8-9e4b-40f4-f8f7-30055a6ee7ab"
      },
      "execution_count": 11,
      "outputs": [
        {
          "output_type": "execute_result",
          "data": {
            "text/plain": [
              "'123'"
            ],
            "application/vnd.google.colaboratory.intrinsic+json": {
              "type": "string"
            }
          },
          "metadata": {},
          "execution_count": 11
        }
      ]
    },
    {
      "cell_type": "code",
      "source": [
        "cadena = '12.5'\n",
        "flotante = float(cadena)\n",
        "\n",
        "flotante"
      ],
      "metadata": {
        "colab": {
          "base_uri": "https://localhost:8080/"
        },
        "id": "w9xJqbMN0-oa",
        "outputId": "b841d670-4dee-4158-d371-eeb90e98987e"
      },
      "execution_count": 13,
      "outputs": [
        {
          "output_type": "execute_result",
          "data": {
            "text/plain": [
              "12.5"
            ]
          },
          "metadata": {},
          "execution_count": 13
        }
      ]
    },
    {
      "cell_type": "markdown",
      "source": [
        "Pregunta, cual va a ser la salida del siguiente código?"
      ],
      "metadata": {
        "id": "2QNYgmIL034o"
      }
    },
    {
      "cell_type": "code",
      "source": [
        "flotante = 14.5\n",
        "\n",
        "entero = int(flotante)\n",
        "\n",
        "entero"
      ],
      "metadata": {
        "id": "43DzpPOv1Olg"
      },
      "execution_count": null,
      "outputs": []
    },
    {
      "cell_type": "markdown",
      "source": [
        "## Input y Output"
      ],
      "metadata": {
        "id": "VjjJILUh2PpE"
      }
    },
    {
      "cell_type": "markdown",
      "source": [
        "### Output"
      ],
      "metadata": {
        "id": "GWTMzZOq2RVI"
      }
    },
    {
      "cell_type": "markdown",
      "source": [
        "\n",
        "\n",
        "El \"output\" es la manera que tiene el programa de comunicar los resultados de sus procesos. Esta salida de datos puede tomar muchas formas, como por ejemplo imagenes, videos, gráficos, texto, etc. \n",
        "\n",
        "El método más simple en Python es **print**, este permite imprimir el resultado en la consola. \n",
        "\n",
        "**NOTA:** Para ejecutar el código pueden tocar el botón de play en el lado izquierda del codigo."
      ],
      "metadata": {
        "id": "X9acW84_wSUx"
      }
    },
    {
      "cell_type": "code",
      "source": [
        "print('hola mundo')\n",
        "print(123)"
      ],
      "metadata": {
        "colab": {
          "base_uri": "https://localhost:8080/"
        },
        "id": "S02r7SoxuZLX",
        "outputId": "d6dd1b91-6cf2-4ecb-b0f7-cacf449544dd"
      },
      "execution_count": 2,
      "outputs": [
        {
          "output_type": "stream",
          "name": "stdout",
          "text": [
            "hola mundo\n",
            "123\n"
          ]
        }
      ]
    },
    {
      "cell_type": "markdown",
      "source": [
        "Cada llamado a la función print imprime un nuevo renglón de texto, pero tambien pueden pasarle múltiples argumentos para que los imprima separados por un espacio."
      ],
      "metadata": {
        "id": "BPgVFzQgu2tu"
      }
    },
    {
      "cell_type": "code",
      "source": [
        "print(\"El número es\", 23,\"(veintitres).\")"
      ],
      "metadata": {
        "colab": {
          "base_uri": "https://localhost:8080/"
        },
        "id": "4-ghkBQBvAy0",
        "outputId": "54ea9174-e79b-4637-bfb7-42eacd605db2"
      },
      "execution_count": 3,
      "outputs": [
        {
          "output_type": "stream",
          "name": "stdout",
          "text": [
            "El número es 23 (veintitres).\n"
          ]
        }
      ]
    },
    {
      "cell_type": "markdown",
      "source": [
        "### Input "
      ],
      "metadata": {
        "id": "VPtMD0aT2TB_"
      }
    },
    {
      "cell_type": "markdown",
      "source": [
        "\n",
        "El \"input\" es la manera que tiene el programa de recibir datos externos a el para ser procesados. Este puede tomar múltiples formas, como por ejemplo, un archivo, una pedido de página web, texto, etc.\n",
        "\n",
        "La manera más simple de pedir input en Python es utilizando la función **input**. Esta la pueden utilizar de la siguiente manera:\n",
        "\n",
        "```python\n",
        "variable = input(\"Texto para pedir input\")\n",
        "```\n",
        "\n",
        "Esta función espera una entrada hasta que el usuario presiona enter."
      ],
      "metadata": {
        "id": "-6VuRRycu0xR"
      }
    },
    {
      "cell_type": "code",
      "source": [
        "nombre = input(\"Escriba su nombre:\")\n",
        "\n",
        "print(\"Hola\", nombre, \"como estás?\")"
      ],
      "metadata": {
        "colab": {
          "base_uri": "https://localhost:8080/"
        },
        "id": "VeQIKrJSvvRC",
        "outputId": "5e3d3550-4e3c-4af8-8003-0fdd728cde2f"
      },
      "execution_count": 6,
      "outputs": [
        {
          "output_type": "stream",
          "name": "stdout",
          "text": [
            "Escriba su nombre:Santi\n",
            "Hola Santi como estás?\n"
          ]
        }
      ]
    },
    {
      "cell_type": "markdown",
      "source": [
        "## Mini desafio\n",
        "\n",
        "Escribir un programa que  reciba tres datos. Nombre, apellido y edad, e imprima lo siguiente:\n",
        "\n",
        "```\n",
        "NOMBRE APELLIDO nacio hace EDAD años.\n",
        "```\n",
        "Ejemplo:\n",
        "```\n",
        "Santiago Ivulich nacio hace 25 años.\n",
        "```\n",
        "\n",
        "Escribir en la celda de codigo debajo:"
      ],
      "metadata": {
        "id": "5BphYMjf2VTD"
      }
    },
    {
      "cell_type": "code",
      "source": [
        ""
      ],
      "metadata": {
        "id": "HtZsVn6v2-tD"
      },
      "execution_count": null,
      "outputs": []
    },
    {
      "cell_type": "markdown",
      "source": [
        "## Expresiones y operaciones\n",
        "\n"
      ],
      "metadata": {
        "id": "-IzMWDlnucnZ"
      }
    },
    {
      "cell_type": "markdown",
      "source": [
        "## Ejercicios"
      ],
      "metadata": {
        "id": "3wnRgFqD3Lb6"
      }
    },
    {
      "cell_type": "markdown",
      "source": [
        "# Condicionales"
      ],
      "metadata": {
        "id": "nb-g5CA1tVeC"
      }
    },
    {
      "cell_type": "markdown",
      "source": [
        "# Funciones"
      ],
      "metadata": {
        "id": "LBEXOqKAtZXO"
      }
    }
  ]
}