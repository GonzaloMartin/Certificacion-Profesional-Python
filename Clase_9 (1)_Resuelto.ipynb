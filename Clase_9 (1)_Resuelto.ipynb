{
  "cells": [
    {
      "cell_type": "markdown",
      "metadata": {
        "id": "view-in-github",
        "colab_type": "text"
      },
      "source": [
        "<a href=\"https://colab.research.google.com/github/GonzaloMartin/ITBA-Certificacion-Profesional-Python/blob/main/Clase_9%20(1)_Resuelto.ipynb\" target=\"_parent\"><img src=\"https://colab.research.google.com/assets/colab-badge.svg\" alt=\"Open In Colab\"/></a>"
      ]
    },
    {
      "cell_type": "markdown",
      "metadata": {
        "id": "UShQ7MbxF39r"
      },
      "source": [
        "<img src=\"https://raw.githubusercontent.com/ITBA-Python/Certificacion-Profesional-Python/main/assets/clase2/Headers%20c%C3%A1talogo_Mesa%20de%20trabajo%201%20copia%2044.jpg\" width=\"800\">\n",
        "\n",
        "\n",
        "\n",
        "# Certificación profesional de Python\n",
        "\n",
        "# Clase 9 (a)\n",
        "\n",
        "El objetivo de la clase es seguir sumando experiencia de trabajo con programación aprendiendo acerca de librerías comunes en python:\n",
        "\n",
        "*   numpy\n",
        "*   pandas\n",
        "*   matplotlib\n",
        "\n",
        "La clase incluye teoría y práctica sobre cada tema aprendido.\n",
        "\n",
        "<img src=\"https://raw.githubusercontent.com/ITBA-Python/Certificacion-Profesional-Python/main/assets/clase2/LOGOTIPO_sin_fondo_positivo_sin_bajada.png\" width=\"400\">\n",
        "\n"
      ]
    },
    {
      "cell_type": "markdown",
      "metadata": {
        "id": "IOV0vIY_qvcC"
      },
      "source": [
        "# Librerias en python"
      ]
    },
    {
      "cell_type": "markdown",
      "metadata": {
        "id": "w_17HcpdLL1E"
      },
      "source": [
        "## Por qué usar librerías?\n",
        "Las librerías (o bibliotecas) son un componente esencial para que los desarrolladores puedan programar de forma sencilla, evitando la duplicidad de código y minimizando errores. También permiten una mayor agilidad, al reducir el tiempo de desarrollo, así como los costes."
      ]
    },
    {
      "cell_type": "markdown",
      "metadata": {
        "id": "SlkFqft3LL1G"
      },
      "source": [
        "## Cómo empezar a usar una biblioteca/librería nueva?\n",
        "1. Buscar un ejemplo de lo que quiero hacer.\n",
        "2. Con el nombre de la función que será de utilidad, leer la documentación.\n",
        "3. Explorar en la documentación si hay una forma mejor de hacer lo que busco (suelen sugerirse funciones similares en las páginas de documentación)"
      ]
    },
    {
      "cell_type": "markdown",
      "metadata": {
        "id": "xJPXazArLL1K"
      },
      "source": [
        "## Instalar las librerías que vamos a usar"
      ]
    },
    {
      "cell_type": "code",
      "execution_count": null,
      "metadata": {
        "id": "NK0EFtxlLL1M",
        "outputId": "a3d63826-179d-4133-fc86-38387d3a7cc5"
      },
      "outputs": [
        {
          "name": "stdout",
          "output_type": "stream",
          "text": [
            "Collecting package metadata (current_repodata.json): done\n",
            "Solving environment: done\n",
            "\n",
            "# All requested packages already installed.\n",
            "\n",
            "Retrieving notices: ...working... done\n"
          ]
        }
      ],
      "source": [
        "# Instalar un paquete de conda en el kernel de Jupyter que estoy usando (también se puede correr con 'conda install' en la terminal, adentro del venv del curso\n",
        "import sys\n",
        "!conda install --yes --prefix {sys.prefix} numpy pandas matplotlib scikit-learn"
      ]
    },
    {
      "cell_type": "markdown",
      "metadata": {
        "id": "YSjFdGpZLL1V"
      },
      "source": [
        "# NumPy"
      ]
    },
    {
      "cell_type": "markdown",
      "metadata": {
        "id": "fkM672xKLL1X"
      },
      "source": [
        "NumPy es un paquete fundamental para hacer computación científica en python.\n",
        "Es una librería que proporciona un array multidimensional (equivalente a una lista, pero más óptima), varios objetos derivados y una variedad de rutinas para operaciones rápidas en arrays, incluyendo operaciones matemáticas, lógicas, manipulación de dimensiones, clasificación, selección, I/O, transformadas discretas de Fourier, álgebra lineal básica, operaciones estadísticas básicas , simulación aleatoria y mucho más."
      ]
    },
    {
      "cell_type": "markdown",
      "metadata": {
        "id": "GiJxtcewLL1b"
      },
      "source": [
        "#### Cualquier duda, busquen en la documentación. [Acá](https://numpy.org/doc/stable/user/quickstart.html) les dejo una guía rápida para ver algunas cosas básicas (y no tan básicas)."
      ]
    },
    {
      "cell_type": "code",
      "execution_count": null,
      "metadata": {
        "id": "hQVGqmN6LL1f"
      },
      "outputs": [],
      "source": [
        "import numpy as np"
      ]
    },
    {
      "cell_type": "markdown",
      "metadata": {
        "id": "WFeA40IPLL1g"
      },
      "source": [
        "## Crear un array"
      ]
    },
    {
      "cell_type": "code",
      "execution_count": null,
      "metadata": {
        "id": "-IlMtzPsLL1h",
        "outputId": "e5f00d5e-19fc-457b-b962-848b268c1658"
      },
      "outputs": [
        {
          "data": {
            "text/plain": [
              "array([1, 2, 3, 4, 5, 6])"
            ]
          },
          "execution_count": 2,
          "metadata": {},
          "output_type": "execute_result"
        }
      ],
      "source": [
        "np.array([1, 2, 3, 4, 5, 6])"
      ]
    },
    {
      "cell_type": "code",
      "execution_count": null,
      "metadata": {
        "id": "tv70mtJ7LL1j",
        "outputId": "a0c7e1fb-89ea-44a9-c5e5-96fc30faa9c1"
      },
      "outputs": [
        {
          "data": {
            "text/plain": [
              "array([[ 1,  2,  3,  4],\n",
              "       [ 5,  6,  7,  8],\n",
              "       [ 9, 10, 11, 12]])"
            ]
          },
          "execution_count": 3,
          "metadata": {},
          "output_type": "execute_result"
        }
      ],
      "source": [
        "np.array([[1, 2, 3, 4], [5, 6, 7, 8], [9, 10, 11, 12]])"
      ]
    },
    {
      "cell_type": "code",
      "source": [
        "x = np.array([[1, 2, 3, 4], [5, 6, 7, 8], [9, 10, 11, 12]])\n",
        "print(x)"
      ],
      "metadata": {
        "id": "A8Hb1XR1LgKv",
        "outputId": "7fb81027-26f4-444c-916d-b428845cbb40",
        "colab": {
          "base_uri": "https://localhost:8080/"
        }
      },
      "execution_count": null,
      "outputs": [
        {
          "output_type": "stream",
          "name": "stdout",
          "text": [
            "[[ 1  2  3  4]\n",
            " [ 5  6  7  8]\n",
            " [ 9 10 11 12]]\n"
          ]
        }
      ]
    },
    {
      "cell_type": "markdown",
      "metadata": {
        "id": "IACBJd9nLL1k"
      },
      "source": [
        "También puedo crear un array a través de una estructura que itera los valores dentro de un rango (como la función `range` que usamos en la clase 3):"
      ]
    },
    {
      "cell_type": "code",
      "execution_count": null,
      "metadata": {
        "id": "WDoCqGeLLL1k",
        "outputId": "9d875928-0952-4139-f7d6-e63a15bb723d",
        "colab": {
          "base_uri": "https://localhost:8080/"
        }
      },
      "outputs": [
        {
          "output_type": "stream",
          "name": "stdout",
          "text": [
            "[0 1 2 3 4 5]\n",
            "(6,)\n"
          ]
        }
      ],
      "source": [
        "a = np.arange(6)   # Es un equivalente a  for x in range (6)\n",
        "print(a)\n",
        "print(a.shape)  # Agrupa toda la lista en un len de 6, en el slot 0."
      ]
    },
    {
      "cell_type": "code",
      "source": [
        "a2 = np.arange(15)\n",
        "print(a2)"
      ],
      "metadata": {
        "id": "zNCYZrJjNasX",
        "outputId": "5db94102-7592-4ef3-ace8-a6c98f6bddf0",
        "colab": {
          "base_uri": "https://localhost:8080/"
        }
      },
      "execution_count": null,
      "outputs": [
        {
          "output_type": "stream",
          "name": "stdout",
          "text": [
            "[ 0  1  2  3  4  5  6  7  8  9 10 11 12 13 14]\n"
          ]
        }
      ]
    },
    {
      "cell_type": "code",
      "source": [
        "a3 = np.zeros((3, 3))\n",
        "print(a2, '\\n')\n",
        "\n",
        "a4 = np.ones((3, 3))\n",
        "print(a4, '\\n')\n",
        "\n",
        "a5 = np.ones((3, 1))\n",
        "print(a5)"
      ],
      "metadata": {
        "id": "X1IKbT0BNz9X",
        "outputId": "5188dd68-be7c-4f6c-adf8-4a825d7138be",
        "colab": {
          "base_uri": "https://localhost:8080/"
        }
      },
      "execution_count": null,
      "outputs": [
        {
          "output_type": "stream",
          "name": "stdout",
          "text": [
            "[ 0  1  2  3  4  5  6  7  8  9 10 11 12 13 14] \n",
            "\n",
            "[[1. 1. 1.]\n",
            " [1. 1. 1.]\n",
            " [1. 1. 1.]] \n",
            "\n",
            "[[1.]\n",
            " [1.]\n",
            " [1.]]\n"
          ]
        }
      ]
    },
    {
      "cell_type": "code",
      "source": [
        "rng = np.random.default_rng(seed=42)\n",
        "a6 = rng.random((3, 3))\n",
        "print(a6)"
      ],
      "metadata": {
        "id": "o76gv6dvO92J",
        "outputId": "6868f016-c6e7-43cf-cbd1-81e19f477eb8",
        "colab": {
          "base_uri": "https://localhost:8080/"
        }
      },
      "execution_count": null,
      "outputs": [
        {
          "output_type": "stream",
          "name": "stdout",
          "text": [
            "[[0.77395605 0.43887844 0.85859792]\n",
            " [0.69736803 0.09417735 0.97562235]\n",
            " [0.7611397  0.78606431 0.12811363]]\n"
          ]
        }
      ]
    },
    {
      "cell_type": "markdown",
      "metadata": {
        "id": "OaUiBn1-LL1l"
      },
      "source": [
        "## Cambiarle la dimensión a un array"
      ]
    },
    {
      "cell_type": "code",
      "execution_count": null,
      "metadata": {
        "id": "edHex8CvLL1m",
        "outputId": "45d30545-953e-44e1-cec1-c745bbc46543",
        "colab": {
          "base_uri": "https://localhost:8080/"
        }
      },
      "outputs": [
        {
          "output_type": "stream",
          "name": "stdout",
          "text": [
            "[[0 1]\n",
            " [2 3]\n",
            " [4 5]]\n"
          ]
        }
      ],
      "source": [
        "b = a.reshape(3, 2)\n",
        "print(b)"
      ]
    },
    {
      "cell_type": "code",
      "source": [
        "b = a.reshape(3, 2)\n",
        "print(b, '\\n')\n",
        "print(b.shape)"
      ],
      "metadata": {
        "id": "3S3TixAOUzIP",
        "outputId": "8e2bbf3c-cfbd-427f-a9a2-018f96aa052c",
        "colab": {
          "base_uri": "https://localhost:8080/"
        }
      },
      "execution_count": null,
      "outputs": [
        {
          "output_type": "stream",
          "name": "stdout",
          "text": [
            "[[0 1]\n",
            " [2 3]\n",
            " [4 5]] \n",
            "\n",
            "(3, 2)\n"
          ]
        }
      ]
    },
    {
      "cell_type": "code",
      "source": [
        "c = a.reshape(1, 6)\n",
        "print(c)"
      ],
      "metadata": {
        "id": "MuzFBJlcVIFE",
        "outputId": "741b861c-c410-4530-e5d4-c2e07cbe12bb",
        "colab": {
          "base_uri": "https://localhost:8080/"
        }
      },
      "execution_count": null,
      "outputs": [
        {
          "output_type": "stream",
          "name": "stdout",
          "text": [
            "[[0 1 2 3 4 5]]\n"
          ]
        }
      ]
    },
    {
      "cell_type": "code",
      "source": [
        "c1 = np.zeros(6)\n",
        "print(c1, c1.shape, '\\n')\n",
        "\n",
        "c2 = np.zeros((6, 1))\n",
        "print(c2, c2.shape, '\\n')"
      ],
      "metadata": {
        "id": "WGlxkKCmY6on",
        "outputId": "58193838-9d54-4f29-d348-523982ed5467",
        "colab": {
          "base_uri": "https://localhost:8080/"
        }
      },
      "execution_count": null,
      "outputs": [
        {
          "output_type": "stream",
          "name": "stdout",
          "text": [
            "[0. 0. 0. 0. 0. 0.] (6,) \n",
            "\n",
            "[[0.]\n",
            " [0.]\n",
            " [0.]\n",
            " [0.]\n",
            " [0.]\n",
            " [0.]] (6, 1) \n",
            "\n"
          ]
        }
      ]
    },
    {
      "cell_type": "code",
      "source": [
        "c3 = np.zeros((1, 6))\n",
        "print(c3, c3.shape, '\\n')\n",
        "print(c3.reshape(-1, 1), '\\n')\n",
        "print(c3.reshape(1, -1))"
      ],
      "metadata": {
        "id": "JYM_LEgQaXde",
        "outputId": "6f4dd106-b6b6-4b49-f665-e3a4d176cb8c",
        "colab": {
          "base_uri": "https://localhost:8080/"
        }
      },
      "execution_count": null,
      "outputs": [
        {
          "output_type": "stream",
          "name": "stdout",
          "text": [
            "[[0. 0. 0. 0. 0. 0.]] (1, 6) \n",
            "\n",
            "[[0.]\n",
            " [0.]\n",
            " [0.]\n",
            " [0.]\n",
            " [0.]\n",
            " [0.]] \n",
            "\n",
            "[[0. 0. 0. 0. 0. 0.]]\n"
          ]
        }
      ]
    },
    {
      "cell_type": "code",
      "source": [
        "a7 = np.array(([1, 2, 3], [4, 5, 6], [7, 8, 9]))\n",
        "print(a7, a7.shape, '\\n')\n",
        "print(a7.reshape(-1, 1), a7.reshape(-1, 1).shape)\n",
        "\n",
        "# 55:07"
      ],
      "metadata": {
        "id": "aJv21dVtb0wC",
        "outputId": "0d62227f-c8fd-40f8-c9fe-36bcdc13e17d",
        "colab": {
          "base_uri": "https://localhost:8080/"
        }
      },
      "execution_count": null,
      "outputs": [
        {
          "output_type": "stream",
          "name": "stdout",
          "text": [
            "[[1 2 3]\n",
            " [4 5 6]\n",
            " [7 8 9]] (3, 3) \n",
            "\n",
            "[[1]\n",
            " [2]\n",
            " [3]\n",
            " [4]\n",
            " [5]\n",
            " [6]\n",
            " [7]\n",
            " [8]\n",
            " [9]] (9, 1)\n"
          ]
        }
      ]
    },
    {
      "cell_type": "markdown",
      "metadata": {
        "id": "jQB_EXDELL1n"
      },
      "source": [
        "## Seleccionar"
      ]
    },
    {
      "cell_type": "markdown",
      "metadata": {
        "id": "mR_w-sweLL1o"
      },
      "source": [
        "El slicing funciona igual que una lista"
      ]
    },
    {
      "cell_type": "code",
      "execution_count": null,
      "metadata": {
        "id": "UfcZWF0WLL1o",
        "outputId": "258022b5-d396-4f90-f162-ed731b719290",
        "colab": {
          "base_uri": "https://localhost:8080/"
        }
      },
      "outputs": [
        {
          "output_type": "execute_result",
          "data": {
            "text/plain": [
              "array([[0, 1],\n",
              "       [2, 3]])"
            ]
          },
          "metadata": {},
          "execution_count": 36
        }
      ],
      "source": [
        "b[0:2]"
      ]
    },
    {
      "cell_type": "code",
      "source": [
        "print(b, '\\n')\n",
        "print(b[0:2])"
      ],
      "metadata": {
        "id": "sgTVnm-_VsuI",
        "outputId": "46216dd4-366d-426a-d744-0d4f8adafd56",
        "colab": {
          "base_uri": "https://localhost:8080/"
        }
      },
      "execution_count": null,
      "outputs": [
        {
          "output_type": "stream",
          "name": "stdout",
          "text": [
            "[[0 1]\n",
            " [2 3]\n",
            " [4 5]] \n",
            "\n",
            "[[0 1]\n",
            " [2 3]]\n"
          ]
        }
      ]
    },
    {
      "cell_type": "code",
      "execution_count": null,
      "metadata": {
        "id": "N9RkHsRHLL1r",
        "outputId": "e25def53-5a7e-4f3a-9aa6-1cb17a44308d",
        "colab": {
          "base_uri": "https://localhost:8080/"
        }
      },
      "outputs": [
        {
          "output_type": "execute_result",
          "data": {
            "text/plain": [
              "array([1, 3])"
            ]
          },
          "metadata": {},
          "execution_count": 40
        }
      ],
      "source": [
        "b[0:2, 1]\n",
        "\n",
        "# esto buscará la segunda columna 1 de la matriz\n",
        "# [[0 1]\n",
        "#  [2 3]]"
      ]
    },
    {
      "cell_type": "code",
      "source": [
        "d = np.ones((3, 3 , 3))\n",
        "print(d)"
      ],
      "metadata": {
        "id": "An5YL768WVN5",
        "outputId": "e941f61c-52c6-4b65-f7f9-318c9ad3ea7d",
        "colab": {
          "base_uri": "https://localhost:8080/"
        }
      },
      "execution_count": null,
      "outputs": [
        {
          "output_type": "stream",
          "name": "stdout",
          "text": [
            "[[[1. 1. 1.]\n",
            "  [1. 1. 1.]\n",
            "  [1. 1. 1.]]\n",
            "\n",
            " [[1. 1. 1.]\n",
            "  [1. 1. 1.]\n",
            "  [1. 1. 1.]]\n",
            "\n",
            " [[1. 1. 1.]\n",
            "  [1. 1. 1.]\n",
            "  [1. 1. 1.]]]\n"
          ]
        }
      ]
    },
    {
      "cell_type": "code",
      "source": [
        "print(d[0, 0, 0])"
      ],
      "metadata": {
        "id": "491U74kGWisy",
        "outputId": "517e1293-3a95-43ad-fb6e-0c5a76096a75",
        "colab": {
          "base_uri": "https://localhost:8080/"
        }
      },
      "execution_count": null,
      "outputs": [
        {
          "output_type": "stream",
          "name": "stdout",
          "text": [
            "1.0\n"
          ]
        }
      ]
    },
    {
      "cell_type": "code",
      "execution_count": null,
      "metadata": {
        "id": "xvRRhyfWLL1s",
        "outputId": "a1f6d653-c20a-42ef-9388-c58a99d15e60",
        "colab": {
          "base_uri": "https://localhost:8080/"
        }
      },
      "outputs": [
        {
          "output_type": "stream",
          "name": "stdout",
          "text": [
            "Matriz: \n",
            " [[ 1  2  3  4]\n",
            " [ 5  6  7  8]\n",
            " [ 9 10 11 12]]\n",
            "\n",
            " [1 2 3 4 5 6]\n"
          ]
        }
      ],
      "source": [
        "a = np.array([[1 , 2, 3, 4], [5, 6, 7, 8], [9, 10, 11, 12]])\n",
        "print(\"Matriz: \\n\", a)\n",
        "print('\\n', a[a < 7])"
      ]
    },
    {
      "cell_type": "code",
      "execution_count": null,
      "metadata": {
        "id": "il7hZg83LL1u",
        "outputId": "71893b72-024c-4079-e485-58b2212aa1b3",
        "colab": {
          "base_uri": "https://localhost:8080/"
        }
      },
      "outputs": [
        {
          "output_type": "stream",
          "name": "stdout",
          "text": [
            "[ 3  4  5  6  7  8  9 10]\n"
          ]
        }
      ],
      "source": [
        "print(a[(a > 2) & (a < 11)])"
      ]
    },
    {
      "cell_type": "markdown",
      "metadata": {
        "id": "nK3l6FWpLL1v"
      },
      "source": [
        "## Operaciones matemáticas"
      ]
    },
    {
      "cell_type": "markdown",
      "metadata": {
        "id": "lk3hbJJILL1w"
      },
      "source": [
        "#### Las operaciones matemáticas básicas son iguales que lo que vimos antes. Otras son nuevas."
      ]
    },
    {
      "cell_type": "code",
      "execution_count": null,
      "metadata": {
        "id": "y4qxs1HlLL1w",
        "outputId": "d55d65b4-00a2-44fd-f4db-3879dd04271d"
      },
      "outputs": [
        {
          "name": "stdout",
          "output_type": "stream",
          "text": [
            "12, 1, 6.5, 78\n"
          ]
        }
      ],
      "source": [
        "print(f'{a.max()}, {a.min()}, {a.mean()}, {a.sum()}')"
      ]
    },
    {
      "cell_type": "code",
      "execution_count": null,
      "metadata": {
        "id": "BRBSa7YRLL1x",
        "outputId": "0b56a3ca-e933-4848-deaf-c4b15322edf4"
      },
      "outputs": [
        {
          "name": "stdout",
          "output_type": "stream",
          "text": [
            "[1 2 3 4], [1 5 9]\n"
          ]
        }
      ],
      "source": [
        "print(f'{a.min(axis=0)}, {a.min(axis=1)}')"
      ]
    },
    {
      "cell_type": "markdown",
      "metadata": {
        "id": "UlEi_D3fLL1x"
      },
      "source": [
        "### Operar con arrays"
      ]
    },
    {
      "cell_type": "code",
      "execution_count": null,
      "metadata": {
        "id": "kt8deuWNLL1y",
        "outputId": "9a44900d-c2a3-4dea-d5f0-397af0a7f980"
      },
      "outputs": [
        {
          "name": "stdout",
          "output_type": "stream",
          "text": [
            "[[12 11 10  9]\n",
            " [ 8  7  6  5]\n",
            " [ 4  3  2  1]]\n"
          ]
        }
      ],
      "source": [
        "reversed_arr = np.flip(a)\n",
        "print(reversed_arr)"
      ]
    },
    {
      "cell_type": "code",
      "execution_count": null,
      "metadata": {
        "id": "i34Qxs-kLL1y",
        "outputId": "6bdc23cd-5f20-4566-b615-404c7658ee67"
      },
      "outputs": [
        {
          "name": "stdout",
          "output_type": "stream",
          "text": [
            "[[ 1  2  3  4]\n",
            " [ 5  6  7  8]\n",
            " [ 9 10 11 12]\n",
            " [12 11 10  9]\n",
            " [ 8  7  6  5]\n",
            " [ 4  3  2  1]]\n"
          ]
        }
      ],
      "source": [
        "concat_arrays = np.concatenate((a, reversed_arr))\n",
        "print(concat_arrays)"
      ]
    },
    {
      "cell_type": "code",
      "execution_count": null,
      "metadata": {
        "id": "SKyJ09d7LL1z",
        "outputId": "6a1125e0-cc1e-4873-8044-b292abef3eca"
      },
      "outputs": [
        {
          "name": "stdout",
          "output_type": "stream",
          "text": [
            "[[1 4]\n",
            " [2 5]\n",
            " [3 6]]\n"
          ]
        }
      ],
      "source": [
        "concat_on_two_d = np.c_[np.array([1,2,3]), np.array([4,5,6])]\n",
        "print(concat_on_two_d)"
      ]
    },
    {
      "cell_type": "markdown",
      "metadata": {
        "id": "jidgyCg0LL10"
      },
      "source": [
        "# Pandas"
      ]
    },
    {
      "cell_type": "markdown",
      "metadata": {
        "id": "qh9TJEU4LL10"
      },
      "source": [
        "Pandas es una librería de python que se utiliza para trabajar con data sets.\n",
        "Tiene funciones para analizar, limpiar, explorar y manipular data.\n",
        "\n",
        "Vamos a ver algunas funciones, siempre pueden buscar más información en la documentación oficial de pandas ([aquí](https://pandas.pydata.org/docs/reference/index.html#api)) o pueden buscar una cheat sheet para tener algunas cosas a mano (por ejemplo [esta](https://www.datacamp.com/cheat-sheet/pandas-cheat-sheet-for-data-science-in-python))\n",
        "\n",
        "En genereal (aunque no exclusivamente) se trabaja con dos tipos de estructuras de datos para manipular la data:\n",
        "\n",
        "*    Series: se puede pensar como una única columna.\n",
        "*    DataFrame: tiene forma de tabla (filas, columnas, índices)."
      ]
    },
    {
      "cell_type": "code",
      "execution_count": null,
      "metadata": {
        "id": "lPxOfZN6LL11"
      },
      "outputs": [],
      "source": [
        "import pandas as pd"
      ]
    },
    {
      "cell_type": "markdown",
      "metadata": {
        "id": "_-xHaKkaLL11"
      },
      "source": [
        "## Series"
      ]
    },
    {
      "cell_type": "markdown",
      "metadata": {
        "id": "63WeXuoaLL12"
      },
      "source": [
        "#### Una serie puede crearse a partir de una lista"
      ]
    },
    {
      "cell_type": "code",
      "execution_count": null,
      "metadata": {
        "id": "AyX1M9YYLL12",
        "outputId": "79f2bf21-d71d-4cf5-d740-942893a99fa5"
      },
      "outputs": [
        {
          "data": {
            "text/plain": [
              "0    1.0\n",
              "1    3.0\n",
              "2    5.0\n",
              "3    NaN\n",
              "4    6.0\n",
              "5    8.0\n",
              "dtype: float64"
            ]
          },
          "execution_count": 17,
          "metadata": {},
          "output_type": "execute_result"
        }
      ],
      "source": [
        "s = pd.Series([1, 3, 5, np.nan, 6, 8])\n",
        "s"
      ]
    },
    {
      "cell_type": "markdown",
      "metadata": {
        "id": "QlhHzM1TLL13"
      },
      "source": [
        "#### También puede crearse a partir de otras funciones de la misma librería:\n",
        "#### Pandas maneja muy bien las fechas, tiene muchas funciones para trabajar con ellas. Un ejemplo de esto es que podemos generar un rango de fechas fácilmente."
      ]
    },
    {
      "cell_type": "code",
      "execution_count": null,
      "metadata": {
        "id": "SpbO0ic3LL2e",
        "outputId": "b8ab948b-eace-460f-a047-a7aacf57ac7d"
      },
      "outputs": [
        {
          "data": {
            "text/plain": [
              "DatetimeIndex(['2022-11-23', '2022-11-24', '2022-11-25', '2022-11-26',\n",
              "               '2022-11-27', '2022-11-28'],\n",
              "              dtype='datetime64[ns]', freq='D')"
            ]
          },
          "execution_count": 18,
          "metadata": {},
          "output_type": "execute_result"
        }
      ],
      "source": [
        "fechas = pd.date_range(\"20221123\", periods=6)\n",
        "fechas"
      ]
    },
    {
      "cell_type": "markdown",
      "metadata": {
        "id": "bQ7IVYEsLL2h"
      },
      "source": [
        "## DataFrame"
      ]
    },
    {
      "cell_type": "markdown",
      "metadata": {
        "id": "SWiJDcY3LL2j"
      },
      "source": [
        "#### Un dataframe puede generarse pasandole los valores, los índices y las columnas"
      ]
    },
    {
      "cell_type": "code",
      "execution_count": null,
      "metadata": {
        "id": "JDWgm5RoLL2j",
        "outputId": "e3184730-9433-4bbd-99d7-b669d89862b9"
      },
      "outputs": [
        {
          "data": {
            "text/html": [
              "<div>\n",
              "<style scoped>\n",
              "    .dataframe tbody tr th:only-of-type {\n",
              "        vertical-align: middle;\n",
              "    }\n",
              "\n",
              "    .dataframe tbody tr th {\n",
              "        vertical-align: top;\n",
              "    }\n",
              "\n",
              "    .dataframe thead th {\n",
              "        text-align: right;\n",
              "    }\n",
              "</style>\n",
              "<table border=\"1\" class=\"dataframe\">\n",
              "  <thead>\n",
              "    <tr style=\"text-align: right;\">\n",
              "      <th></th>\n",
              "      <th>A</th>\n",
              "      <th>B</th>\n",
              "      <th>C</th>\n",
              "      <th>D</th>\n",
              "    </tr>\n",
              "  </thead>\n",
              "  <tbody>\n",
              "    <tr>\n",
              "      <th>2022-11-23</th>\n",
              "      <td>-0.012106</td>\n",
              "      <td>-0.728156</td>\n",
              "      <td>0.702452</td>\n",
              "      <td>0.136681</td>\n",
              "    </tr>\n",
              "    <tr>\n",
              "      <th>2022-11-24</th>\n",
              "      <td>1.473751</td>\n",
              "      <td>-0.603671</td>\n",
              "      <td>-0.932677</td>\n",
              "      <td>-0.681707</td>\n",
              "    </tr>\n",
              "    <tr>\n",
              "      <th>2022-11-25</th>\n",
              "      <td>-1.762968</td>\n",
              "      <td>-0.757496</td>\n",
              "      <td>-0.879576</td>\n",
              "      <td>0.662284</td>\n",
              "    </tr>\n",
              "    <tr>\n",
              "      <th>2022-11-26</th>\n",
              "      <td>-1.151010</td>\n",
              "      <td>0.557225</td>\n",
              "      <td>-0.335070</td>\n",
              "      <td>0.576282</td>\n",
              "    </tr>\n",
              "    <tr>\n",
              "      <th>2022-11-27</th>\n",
              "      <td>-0.586370</td>\n",
              "      <td>-2.536841</td>\n",
              "      <td>-1.786970</td>\n",
              "      <td>-0.071097</td>\n",
              "    </tr>\n",
              "    <tr>\n",
              "      <th>2022-11-28</th>\n",
              "      <td>-0.670917</td>\n",
              "      <td>1.504470</td>\n",
              "      <td>0.257540</td>\n",
              "      <td>-0.080328</td>\n",
              "    </tr>\n",
              "  </tbody>\n",
              "</table>\n",
              "</div>"
            ],
            "text/plain": [
              "                   A         B         C         D\n",
              "2022-11-23 -0.012106 -0.728156  0.702452  0.136681\n",
              "2022-11-24  1.473751 -0.603671 -0.932677 -0.681707\n",
              "2022-11-25 -1.762968 -0.757496 -0.879576  0.662284\n",
              "2022-11-26 -1.151010  0.557225 -0.335070  0.576282\n",
              "2022-11-27 -0.586370 -2.536841 -1.786970 -0.071097\n",
              "2022-11-28 -0.670917  1.504470  0.257540 -0.080328"
            ]
          },
          "execution_count": 19,
          "metadata": {},
          "output_type": "execute_result"
        }
      ],
      "source": [
        "df = pd.DataFrame(data=np.random.randn(6, 4), index=fechas, columns=list(\"ABCD\"))\n",
        "df"
      ]
    },
    {
      "cell_type": "markdown",
      "metadata": {
        "id": "Og3HAT5vLL2l"
      },
      "source": [
        "#### Otra forma de crearlo puede ser a través de un diccionario"
      ]
    },
    {
      "cell_type": "code",
      "execution_count": null,
      "metadata": {
        "id": "ykpZw-G_LL2m",
        "outputId": "20435eb1-d998-48d8-bda7-04cf911a2ce1"
      },
      "outputs": [
        {
          "data": {
            "text/html": [
              "<div>\n",
              "<style scoped>\n",
              "    .dataframe tbody tr th:only-of-type {\n",
              "        vertical-align: middle;\n",
              "    }\n",
              "\n",
              "    .dataframe tbody tr th {\n",
              "        vertical-align: top;\n",
              "    }\n",
              "\n",
              "    .dataframe thead th {\n",
              "        text-align: right;\n",
              "    }\n",
              "</style>\n",
              "<table border=\"1\" class=\"dataframe\">\n",
              "  <thead>\n",
              "    <tr style=\"text-align: right;\">\n",
              "      <th></th>\n",
              "      <th>A</th>\n",
              "      <th>B</th>\n",
              "      <th>C</th>\n",
              "      <th>D</th>\n",
              "      <th>E</th>\n",
              "      <th>F</th>\n",
              "    </tr>\n",
              "  </thead>\n",
              "  <tbody>\n",
              "    <tr>\n",
              "      <th>0</th>\n",
              "      <td>1.0</td>\n",
              "      <td>2022-11-23</td>\n",
              "      <td>1.0</td>\n",
              "      <td>3</td>\n",
              "      <td>test</td>\n",
              "      <td>foo</td>\n",
              "    </tr>\n",
              "    <tr>\n",
              "      <th>1</th>\n",
              "      <td>1.0</td>\n",
              "      <td>2022-11-24</td>\n",
              "      <td>1.0</td>\n",
              "      <td>3</td>\n",
              "      <td>train</td>\n",
              "      <td>foo</td>\n",
              "    </tr>\n",
              "    <tr>\n",
              "      <th>2</th>\n",
              "      <td>1.0</td>\n",
              "      <td>2022-11-25</td>\n",
              "      <td>1.0</td>\n",
              "      <td>3</td>\n",
              "      <td>test</td>\n",
              "      <td>foo</td>\n",
              "    </tr>\n",
              "    <tr>\n",
              "      <th>3</th>\n",
              "      <td>1.0</td>\n",
              "      <td>2022-11-26</td>\n",
              "      <td>1.0</td>\n",
              "      <td>3</td>\n",
              "      <td>train</td>\n",
              "      <td>foo</td>\n",
              "    </tr>\n",
              "  </tbody>\n",
              "</table>\n",
              "</div>"
            ],
            "text/plain": [
              "     A          B    C  D      E    F\n",
              "0  1.0 2022-11-23  1.0  3   test  foo\n",
              "1  1.0 2022-11-24  1.0  3  train  foo\n",
              "2  1.0 2022-11-25  1.0  3   test  foo\n",
              "3  1.0 2022-11-26  1.0  3  train  foo"
            ]
          },
          "execution_count": 20,
          "metadata": {},
          "output_type": "execute_result"
        }
      ],
      "source": [
        "df2 = pd.DataFrame(\n",
        "    {\n",
        "        \"A\": 1.0,\n",
        "        \"B\": fechas[:4],\n",
        "        \"C\": pd.Series(1, index=list(range(4)), dtype=\"float32\"),\n",
        "        \"D\": np.array([3] * 4, dtype=\"int32\"),\n",
        "        \"E\": pd.Categorical([\"test\", \"train\", \"test\", \"train\"]),\n",
        "        \"F\": \"foo\",\n",
        "    }\n",
        ")\n",
        "df2"
      ]
    },
    {
      "cell_type": "markdown",
      "metadata": {
        "id": "jp3duwnmLL2n"
      },
      "source": [
        "#### Otras opciones pueden ser `pd.from_records` o `pd.from_dict`."
      ]
    },
    {
      "cell_type": "markdown",
      "metadata": {
        "id": "PzP6CxtxLL2n"
      },
      "source": [
        "### Funciones que pueden ser útiles"
      ]
    },
    {
      "cell_type": "markdown",
      "metadata": {
        "id": "LrSvV4MpLL2o"
      },
      "source": [
        "*   pd.describe(): Genera estadísticas descriptivas. También se puede correr cada operación por separado (por ejemplo, pd.mean() o pd.max() ).\n",
        "*   pd.sort_values(by): Ordena los valores según el índice o columna que le indique (puede ser ascendente  descendente).>"
      ]
    },
    {
      "cell_type": "markdown",
      "metadata": {
        "id": "__f_eiFCLL2p"
      },
      "source": [
        "## Seleccionar una parte del data set"
      ]
    },
    {
      "cell_type": "markdown",
      "metadata": {
        "id": "BNmnn3BsLL2q"
      },
      "source": [
        "### Columnas"
      ]
    },
    {
      "cell_type": "code",
      "execution_count": null,
      "metadata": {
        "id": "hBD-NfxbLL2q",
        "outputId": "ad397a94-efb1-4134-ff29-f3f6e4475ee7"
      },
      "outputs": [
        {
          "data": {
            "text/plain": [
              "2022-11-23   -0.012106\n",
              "2022-11-24    1.473751\n",
              "2022-11-25   -1.762968\n",
              "2022-11-26   -1.151010\n",
              "2022-11-27   -0.586370\n",
              "2022-11-28   -0.670917\n",
              "Freq: D, Name: A, dtype: float64"
            ]
          },
          "execution_count": 21,
          "metadata": {},
          "output_type": "execute_result"
        }
      ],
      "source": [
        "df['A'] # equivalente a df.A"
      ]
    },
    {
      "cell_type": "markdown",
      "metadata": {
        "id": "VoKSym4MLL2r"
      },
      "source": [
        "### Slice (o un pedazo de una tabla)"
      ]
    },
    {
      "cell_type": "markdown",
      "metadata": {
        "id": "AKQfuofxLL2t"
      },
      "source": [
        "#### Selecciono algunos índices y algunas columnas según sus nombres mediante `loc[idx, col]`"
      ]
    },
    {
      "cell_type": "code",
      "execution_count": null,
      "metadata": {
        "id": "CtwkCXQVLL2u",
        "outputId": "41640b7a-98c3-44d4-9b36-388983387d70"
      },
      "outputs": [
        {
          "data": {
            "text/html": [
              "<div>\n",
              "<style scoped>\n",
              "    .dataframe tbody tr th:only-of-type {\n",
              "        vertical-align: middle;\n",
              "    }\n",
              "\n",
              "    .dataframe tbody tr th {\n",
              "        vertical-align: top;\n",
              "    }\n",
              "\n",
              "    .dataframe thead th {\n",
              "        text-align: right;\n",
              "    }\n",
              "</style>\n",
              "<table border=\"1\" class=\"dataframe\">\n",
              "  <thead>\n",
              "    <tr style=\"text-align: right;\">\n",
              "      <th></th>\n",
              "      <th>A</th>\n",
              "      <th>C</th>\n",
              "    </tr>\n",
              "  </thead>\n",
              "  <tbody>\n",
              "    <tr>\n",
              "      <th>2022-11-23</th>\n",
              "      <td>-0.012106</td>\n",
              "      <td>0.702452</td>\n",
              "    </tr>\n",
              "    <tr>\n",
              "      <th>2022-11-24</th>\n",
              "      <td>1.473751</td>\n",
              "      <td>-0.932677</td>\n",
              "    </tr>\n",
              "    <tr>\n",
              "      <th>2022-11-25</th>\n",
              "      <td>-1.762968</td>\n",
              "      <td>-0.879576</td>\n",
              "    </tr>\n",
              "  </tbody>\n",
              "</table>\n",
              "</div>"
            ],
            "text/plain": [
              "                   A         C\n",
              "2022-11-23 -0.012106  0.702452\n",
              "2022-11-24  1.473751 -0.932677\n",
              "2022-11-25 -1.762968 -0.879576"
            ]
          },
          "execution_count": 22,
          "metadata": {},
          "output_type": "execute_result"
        }
      ],
      "source": [
        "df.loc[\"20221123\":\"20221125\", [\"A\", \"C\"]]"
      ]
    },
    {
      "cell_type": "markdown",
      "metadata": {
        "id": "hnsNRW1wLL2y"
      },
      "source": [
        "También puedo usar `loc` para obtener un único valor, indicando solo un índice y una columna"
      ]
    },
    {
      "cell_type": "markdown",
      "metadata": {
        "id": "hJO6Ai9ZLL2z"
      },
      "source": [
        "#### Selecciono algunos índices y algunas columnas según sus índices mediante `iloc[idx, col]`"
      ]
    },
    {
      "cell_type": "code",
      "execution_count": null,
      "metadata": {
        "id": "sG-9ZF1iLL20",
        "outputId": "e67a0c9b-5e48-44f2-c278-f3c32b4776d4"
      },
      "outputs": [
        {
          "data": {
            "text/html": [
              "<div>\n",
              "<style scoped>\n",
              "    .dataframe tbody tr th:only-of-type {\n",
              "        vertical-align: middle;\n",
              "    }\n",
              "\n",
              "    .dataframe tbody tr th {\n",
              "        vertical-align: top;\n",
              "    }\n",
              "\n",
              "    .dataframe thead th {\n",
              "        text-align: right;\n",
              "    }\n",
              "</style>\n",
              "<table border=\"1\" class=\"dataframe\">\n",
              "  <thead>\n",
              "    <tr style=\"text-align: right;\">\n",
              "      <th></th>\n",
              "      <th>A</th>\n",
              "      <th>C</th>\n",
              "    </tr>\n",
              "  </thead>\n",
              "  <tbody>\n",
              "    <tr>\n",
              "      <th>2022-11-24</th>\n",
              "      <td>1.473751</td>\n",
              "      <td>-0.932677</td>\n",
              "    </tr>\n",
              "    <tr>\n",
              "      <th>2022-11-25</th>\n",
              "      <td>-1.762968</td>\n",
              "      <td>-0.879576</td>\n",
              "    </tr>\n",
              "    <tr>\n",
              "      <th>2022-11-27</th>\n",
              "      <td>-0.586370</td>\n",
              "      <td>-1.786970</td>\n",
              "    </tr>\n",
              "  </tbody>\n",
              "</table>\n",
              "</div>"
            ],
            "text/plain": [
              "                   A         C\n",
              "2022-11-24  1.473751 -0.932677\n",
              "2022-11-25 -1.762968 -0.879576\n",
              "2022-11-27 -0.586370 -1.786970"
            ]
          },
          "execution_count": 23,
          "metadata": {},
          "output_type": "execute_result"
        }
      ],
      "source": [
        "df.iloc[[1, 2, 4], [0, 2]]"
      ]
    },
    {
      "cell_type": "markdown",
      "metadata": {
        "id": "62GBm52cLL21"
      },
      "source": [
        "## Seleccionar según una condición"
      ]
    },
    {
      "cell_type": "code",
      "execution_count": null,
      "metadata": {
        "id": "9eQ8eIfqLL22",
        "outputId": "2a57778e-064c-416a-e249-8e420fd32ac9"
      },
      "outputs": [
        {
          "data": {
            "text/html": [
              "<div>\n",
              "<style scoped>\n",
              "    .dataframe tbody tr th:only-of-type {\n",
              "        vertical-align: middle;\n",
              "    }\n",
              "\n",
              "    .dataframe tbody tr th {\n",
              "        vertical-align: top;\n",
              "    }\n",
              "\n",
              "    .dataframe thead th {\n",
              "        text-align: right;\n",
              "    }\n",
              "</style>\n",
              "<table border=\"1\" class=\"dataframe\">\n",
              "  <thead>\n",
              "    <tr style=\"text-align: right;\">\n",
              "      <th></th>\n",
              "      <th>A</th>\n",
              "      <th>B</th>\n",
              "      <th>C</th>\n",
              "      <th>D</th>\n",
              "    </tr>\n",
              "  </thead>\n",
              "  <tbody>\n",
              "    <tr>\n",
              "      <th>2022-11-24</th>\n",
              "      <td>1.473751</td>\n",
              "      <td>-0.603671</td>\n",
              "      <td>-0.932677</td>\n",
              "      <td>-0.681707</td>\n",
              "    </tr>\n",
              "  </tbody>\n",
              "</table>\n",
              "</div>"
            ],
            "text/plain": [
              "                   A         B         C         D\n",
              "2022-11-24  1.473751 -0.603671 -0.932677 -0.681707"
            ]
          },
          "execution_count": 24,
          "metadata": {},
          "output_type": "execute_result"
        }
      ],
      "source": [
        "df[df[\"A\"] > 0]"
      ]
    },
    {
      "cell_type": "code",
      "execution_count": null,
      "metadata": {
        "id": "TH4cvTXkLL23",
        "outputId": "8b36a733-804a-42de-a67d-b5f278eeec0d"
      },
      "outputs": [
        {
          "data": {
            "text/html": [
              "<div>\n",
              "<style scoped>\n",
              "    .dataframe tbody tr th:only-of-type {\n",
              "        vertical-align: middle;\n",
              "    }\n",
              "\n",
              "    .dataframe tbody tr th {\n",
              "        vertical-align: top;\n",
              "    }\n",
              "\n",
              "    .dataframe thead th {\n",
              "        text-align: right;\n",
              "    }\n",
              "</style>\n",
              "<table border=\"1\" class=\"dataframe\">\n",
              "  <thead>\n",
              "    <tr style=\"text-align: right;\">\n",
              "      <th></th>\n",
              "      <th>A</th>\n",
              "      <th>B</th>\n",
              "      <th>C</th>\n",
              "      <th>D</th>\n",
              "    </tr>\n",
              "  </thead>\n",
              "  <tbody>\n",
              "    <tr>\n",
              "      <th>2022-11-24</th>\n",
              "      <td>1.473751</td>\n",
              "      <td>-0.603671</td>\n",
              "      <td>-0.932677</td>\n",
              "      <td>-0.681707</td>\n",
              "    </tr>\n",
              "  </tbody>\n",
              "</table>\n",
              "</div>"
            ],
            "text/plain": [
              "                   A         B         C         D\n",
              "2022-11-24  1.473751 -0.603671 -0.932677 -0.681707"
            ]
          },
          "execution_count": 25,
          "metadata": {},
          "output_type": "execute_result"
        }
      ],
      "source": [
        "df[(df[\"A\"] > 0) & (df['B'] < 0)]"
      ]
    },
    {
      "cell_type": "markdown",
      "metadata": {
        "id": "2qe7GtKhLL25"
      },
      "source": [
        "### Unir dos tablas"
      ]
    },
    {
      "cell_type": "code",
      "execution_count": null,
      "metadata": {
        "id": "pfkfLOrRLL26",
        "outputId": "cc359253-907a-48cf-c2ac-5f8ff15e51b3"
      },
      "outputs": [
        {
          "data": {
            "text/html": [
              "<div>\n",
              "<style scoped>\n",
              "    .dataframe tbody tr th:only-of-type {\n",
              "        vertical-align: middle;\n",
              "    }\n",
              "\n",
              "    .dataframe tbody tr th {\n",
              "        vertical-align: top;\n",
              "    }\n",
              "\n",
              "    .dataframe thead th {\n",
              "        text-align: right;\n",
              "    }\n",
              "</style>\n",
              "<table border=\"1\" class=\"dataframe\">\n",
              "  <thead>\n",
              "    <tr style=\"text-align: right;\">\n",
              "      <th></th>\n",
              "      <th>A</th>\n",
              "      <th>B</th>\n",
              "      <th>C</th>\n",
              "      <th>D</th>\n",
              "    </tr>\n",
              "  </thead>\n",
              "  <tbody>\n",
              "    <tr>\n",
              "      <th>2022-11-23</th>\n",
              "      <td>-0.012106</td>\n",
              "      <td>-0.728156</td>\n",
              "      <td>0.702452</td>\n",
              "      <td>0.136681</td>\n",
              "    </tr>\n",
              "    <tr>\n",
              "      <th>2022-11-24</th>\n",
              "      <td>1.473751</td>\n",
              "      <td>-0.603671</td>\n",
              "      <td>-0.932677</td>\n",
              "      <td>-0.681707</td>\n",
              "    </tr>\n",
              "    <tr>\n",
              "      <th>2022-11-25</th>\n",
              "      <td>-1.762968</td>\n",
              "      <td>-0.757496</td>\n",
              "      <td>-0.879576</td>\n",
              "      <td>0.662284</td>\n",
              "    </tr>\n",
              "    <tr>\n",
              "      <th>2022-11-26</th>\n",
              "      <td>-1.151010</td>\n",
              "      <td>0.557225</td>\n",
              "      <td>-0.335070</td>\n",
              "      <td>0.576282</td>\n",
              "    </tr>\n",
              "    <tr>\n",
              "      <th>2022-11-27</th>\n",
              "      <td>-0.586370</td>\n",
              "      <td>-2.536841</td>\n",
              "      <td>-1.786970</td>\n",
              "      <td>-0.071097</td>\n",
              "    </tr>\n",
              "    <tr>\n",
              "      <th>2022-11-28</th>\n",
              "      <td>-0.670917</td>\n",
              "      <td>1.504470</td>\n",
              "      <td>0.257540</td>\n",
              "      <td>-0.080328</td>\n",
              "    </tr>\n",
              "  </tbody>\n",
              "</table>\n",
              "</div>"
            ],
            "text/plain": [
              "                   A         B         C         D\n",
              "2022-11-23 -0.012106 -0.728156  0.702452  0.136681\n",
              "2022-11-24  1.473751 -0.603671 -0.932677 -0.681707\n",
              "2022-11-25 -1.762968 -0.757496 -0.879576  0.662284\n",
              "2022-11-26 -1.151010  0.557225 -0.335070  0.576282\n",
              "2022-11-27 -0.586370 -2.536841 -1.786970 -0.071097\n",
              "2022-11-28 -0.670917  1.504470  0.257540 -0.080328"
            ]
          },
          "execution_count": 26,
          "metadata": {},
          "output_type": "execute_result"
        }
      ],
      "source": [
        "df"
      ]
    },
    {
      "cell_type": "code",
      "execution_count": null,
      "metadata": {
        "id": "22wi1AKlLL27",
        "outputId": "74385adc-e13a-4f79-81c4-e7441493bdae"
      },
      "outputs": [
        {
          "data": {
            "text/html": [
              "<div>\n",
              "<style scoped>\n",
              "    .dataframe tbody tr th:only-of-type {\n",
              "        vertical-align: middle;\n",
              "    }\n",
              "\n",
              "    .dataframe tbody tr th {\n",
              "        vertical-align: top;\n",
              "    }\n",
              "\n",
              "    .dataframe thead th {\n",
              "        text-align: right;\n",
              "    }\n",
              "</style>\n",
              "<table border=\"1\" class=\"dataframe\">\n",
              "  <thead>\n",
              "    <tr style=\"text-align: right;\">\n",
              "      <th></th>\n",
              "      <th>A</th>\n",
              "      <th>B</th>\n",
              "      <th>C</th>\n",
              "      <th>D</th>\n",
              "      <th>E</th>\n",
              "      <th>F</th>\n",
              "    </tr>\n",
              "  </thead>\n",
              "  <tbody>\n",
              "    <tr>\n",
              "      <th>0</th>\n",
              "      <td>1.0</td>\n",
              "      <td>2022-11-23</td>\n",
              "      <td>1.0</td>\n",
              "      <td>3</td>\n",
              "      <td>test</td>\n",
              "      <td>foo</td>\n",
              "    </tr>\n",
              "    <tr>\n",
              "      <th>1</th>\n",
              "      <td>1.0</td>\n",
              "      <td>2022-11-24</td>\n",
              "      <td>1.0</td>\n",
              "      <td>3</td>\n",
              "      <td>train</td>\n",
              "      <td>foo</td>\n",
              "    </tr>\n",
              "    <tr>\n",
              "      <th>2</th>\n",
              "      <td>1.0</td>\n",
              "      <td>2022-11-25</td>\n",
              "      <td>1.0</td>\n",
              "      <td>3</td>\n",
              "      <td>test</td>\n",
              "      <td>foo</td>\n",
              "    </tr>\n",
              "    <tr>\n",
              "      <th>3</th>\n",
              "      <td>1.0</td>\n",
              "      <td>2022-11-26</td>\n",
              "      <td>1.0</td>\n",
              "      <td>3</td>\n",
              "      <td>train</td>\n",
              "      <td>foo</td>\n",
              "    </tr>\n",
              "  </tbody>\n",
              "</table>\n",
              "</div>"
            ],
            "text/plain": [
              "     A          B    C  D      E    F\n",
              "0  1.0 2022-11-23  1.0  3   test  foo\n",
              "1  1.0 2022-11-24  1.0  3  train  foo\n",
              "2  1.0 2022-11-25  1.0  3   test  foo\n",
              "3  1.0 2022-11-26  1.0  3  train  foo"
            ]
          },
          "execution_count": 27,
          "metadata": {},
          "output_type": "execute_result"
        }
      ],
      "source": [
        "df2"
      ]
    },
    {
      "cell_type": "code",
      "execution_count": null,
      "metadata": {
        "id": "RvrBGDSFLL28",
        "outputId": "b1bce232-c10c-4ffb-9caa-53388ee07e22"
      },
      "outputs": [
        {
          "data": {
            "text/html": [
              "<div>\n",
              "<style scoped>\n",
              "    .dataframe tbody tr th:only-of-type {\n",
              "        vertical-align: middle;\n",
              "    }\n",
              "\n",
              "    .dataframe tbody tr th {\n",
              "        vertical-align: top;\n",
              "    }\n",
              "\n",
              "    .dataframe thead th {\n",
              "        text-align: right;\n",
              "    }\n",
              "</style>\n",
              "<table border=\"1\" class=\"dataframe\">\n",
              "  <thead>\n",
              "    <tr style=\"text-align: right;\">\n",
              "      <th></th>\n",
              "      <th>A_left</th>\n",
              "      <th>B</th>\n",
              "      <th>C_left</th>\n",
              "      <th>D_left</th>\n",
              "      <th>A_right</th>\n",
              "      <th>C_right</th>\n",
              "      <th>D_right</th>\n",
              "      <th>E</th>\n",
              "      <th>F</th>\n",
              "    </tr>\n",
              "  </thead>\n",
              "  <tbody>\n",
              "    <tr>\n",
              "      <th>2022-11-23</th>\n",
              "      <td>-0.012106</td>\n",
              "      <td>-0.728156</td>\n",
              "      <td>0.702452</td>\n",
              "      <td>0.136681</td>\n",
              "      <td>1.0</td>\n",
              "      <td>1.0</td>\n",
              "      <td>3.0</td>\n",
              "      <td>test</td>\n",
              "      <td>foo</td>\n",
              "    </tr>\n",
              "    <tr>\n",
              "      <th>2022-11-24</th>\n",
              "      <td>1.473751</td>\n",
              "      <td>-0.603671</td>\n",
              "      <td>-0.932677</td>\n",
              "      <td>-0.681707</td>\n",
              "      <td>1.0</td>\n",
              "      <td>1.0</td>\n",
              "      <td>3.0</td>\n",
              "      <td>train</td>\n",
              "      <td>foo</td>\n",
              "    </tr>\n",
              "    <tr>\n",
              "      <th>2022-11-25</th>\n",
              "      <td>-1.762968</td>\n",
              "      <td>-0.757496</td>\n",
              "      <td>-0.879576</td>\n",
              "      <td>0.662284</td>\n",
              "      <td>1.0</td>\n",
              "      <td>1.0</td>\n",
              "      <td>3.0</td>\n",
              "      <td>test</td>\n",
              "      <td>foo</td>\n",
              "    </tr>\n",
              "    <tr>\n",
              "      <th>2022-11-26</th>\n",
              "      <td>-1.151010</td>\n",
              "      <td>0.557225</td>\n",
              "      <td>-0.335070</td>\n",
              "      <td>0.576282</td>\n",
              "      <td>1.0</td>\n",
              "      <td>1.0</td>\n",
              "      <td>3.0</td>\n",
              "      <td>train</td>\n",
              "      <td>foo</td>\n",
              "    </tr>\n",
              "    <tr>\n",
              "      <th>2022-11-27</th>\n",
              "      <td>-0.586370</td>\n",
              "      <td>-2.536841</td>\n",
              "      <td>-1.786970</td>\n",
              "      <td>-0.071097</td>\n",
              "      <td>NaN</td>\n",
              "      <td>NaN</td>\n",
              "      <td>NaN</td>\n",
              "      <td>NaN</td>\n",
              "      <td>NaN</td>\n",
              "    </tr>\n",
              "    <tr>\n",
              "      <th>2022-11-28</th>\n",
              "      <td>-0.670917</td>\n",
              "      <td>1.504470</td>\n",
              "      <td>0.257540</td>\n",
              "      <td>-0.080328</td>\n",
              "      <td>NaN</td>\n",
              "      <td>NaN</td>\n",
              "      <td>NaN</td>\n",
              "      <td>NaN</td>\n",
              "      <td>NaN</td>\n",
              "    </tr>\n",
              "  </tbody>\n",
              "</table>\n",
              "</div>"
            ],
            "text/plain": [
              "              A_left         B    C_left    D_left  A_right  C_right  D_right  \\\n",
              "2022-11-23 -0.012106 -0.728156  0.702452  0.136681      1.0      1.0      3.0   \n",
              "2022-11-24  1.473751 -0.603671 -0.932677 -0.681707      1.0      1.0      3.0   \n",
              "2022-11-25 -1.762968 -0.757496 -0.879576  0.662284      1.0      1.0      3.0   \n",
              "2022-11-26 -1.151010  0.557225 -0.335070  0.576282      1.0      1.0      3.0   \n",
              "2022-11-27 -0.586370 -2.536841 -1.786970 -0.071097      NaN      NaN      NaN   \n",
              "2022-11-28 -0.670917  1.504470  0.257540 -0.080328      NaN      NaN      NaN   \n",
              "\n",
              "                E    F  \n",
              "2022-11-23   test  foo  \n",
              "2022-11-24  train  foo  \n",
              "2022-11-25   test  foo  \n",
              "2022-11-26  train  foo  \n",
              "2022-11-27    NaN  NaN  \n",
              "2022-11-28    NaN  NaN  "
            ]
          },
          "execution_count": 28,
          "metadata": {},
          "output_type": "execute_result"
        }
      ],
      "source": [
        "df_joined = df.join(df2.set_index('B'), how='left', lsuffix='_left', rsuffix='_right')\n",
        "df_joined"
      ]
    },
    {
      "cell_type": "markdown",
      "metadata": {
        "id": "DVSQA_xALL2-"
      },
      "source": [
        "También se puede usar `merge` que tiene una funcionalidad similar."
      ]
    },
    {
      "cell_type": "markdown",
      "metadata": {
        "id": "Lf1OiKGjLL2_"
      },
      "source": [
        "### Agrupar la data"
      ]
    },
    {
      "cell_type": "code",
      "execution_count": null,
      "metadata": {
        "id": "dUcmEETXLL3A",
        "outputId": "21061452-666e-4bf5-8706-e0a81ce2cf7f"
      },
      "outputs": [
        {
          "data": {
            "text/html": [
              "<div>\n",
              "<style scoped>\n",
              "    .dataframe tbody tr th:only-of-type {\n",
              "        vertical-align: middle;\n",
              "    }\n",
              "\n",
              "    .dataframe tbody tr th {\n",
              "        vertical-align: top;\n",
              "    }\n",
              "\n",
              "    .dataframe thead th {\n",
              "        text-align: right;\n",
              "    }\n",
              "</style>\n",
              "<table border=\"1\" class=\"dataframe\">\n",
              "  <thead>\n",
              "    <tr style=\"text-align: right;\">\n",
              "      <th></th>\n",
              "      <th>A</th>\n",
              "      <th>B</th>\n",
              "      <th>C</th>\n",
              "      <th>D</th>\n",
              "    </tr>\n",
              "  </thead>\n",
              "  <tbody>\n",
              "    <tr>\n",
              "      <th>0</th>\n",
              "      <td>foo</td>\n",
              "      <td>one</td>\n",
              "      <td>-0.749791</td>\n",
              "      <td>1.468095</td>\n",
              "    </tr>\n",
              "    <tr>\n",
              "      <th>1</th>\n",
              "      <td>bar</td>\n",
              "      <td>one</td>\n",
              "      <td>-1.021207</td>\n",
              "      <td>-1.529563</td>\n",
              "    </tr>\n",
              "    <tr>\n",
              "      <th>2</th>\n",
              "      <td>foo</td>\n",
              "      <td>two</td>\n",
              "      <td>0.286077</td>\n",
              "      <td>-0.396420</td>\n",
              "    </tr>\n",
              "    <tr>\n",
              "      <th>3</th>\n",
              "      <td>bar</td>\n",
              "      <td>three</td>\n",
              "      <td>-0.747305</td>\n",
              "      <td>0.635923</td>\n",
              "    </tr>\n",
              "    <tr>\n",
              "      <th>4</th>\n",
              "      <td>foo</td>\n",
              "      <td>two</td>\n",
              "      <td>-0.286476</td>\n",
              "      <td>1.233228</td>\n",
              "    </tr>\n",
              "    <tr>\n",
              "      <th>5</th>\n",
              "      <td>bar</td>\n",
              "      <td>two</td>\n",
              "      <td>-0.289581</td>\n",
              "      <td>0.060645</td>\n",
              "    </tr>\n",
              "    <tr>\n",
              "      <th>6</th>\n",
              "      <td>foo</td>\n",
              "      <td>one</td>\n",
              "      <td>-1.058261</td>\n",
              "      <td>-0.263501</td>\n",
              "    </tr>\n",
              "    <tr>\n",
              "      <th>7</th>\n",
              "      <td>foo</td>\n",
              "      <td>three</td>\n",
              "      <td>-0.997759</td>\n",
              "      <td>0.086012</td>\n",
              "    </tr>\n",
              "  </tbody>\n",
              "</table>\n",
              "</div>"
            ],
            "text/plain": [
              "     A      B         C         D\n",
              "0  foo    one -0.749791  1.468095\n",
              "1  bar    one -1.021207 -1.529563\n",
              "2  foo    two  0.286077 -0.396420\n",
              "3  bar  three -0.747305  0.635923\n",
              "4  foo    two -0.286476  1.233228\n",
              "5  bar    two -0.289581  0.060645\n",
              "6  foo    one -1.058261 -0.263501\n",
              "7  foo  three -0.997759  0.086012"
            ]
          },
          "execution_count": 29,
          "metadata": {},
          "output_type": "execute_result"
        }
      ],
      "source": [
        "group_df = pd.DataFrame(\n",
        "    {\n",
        "        \"A\": [\"foo\", \"bar\", \"foo\", \"bar\", \"foo\", \"bar\", \"foo\", \"foo\"],\n",
        "        \"B\": [\"one\", \"one\", \"two\", \"three\", \"two\", \"two\", \"one\", \"three\"],\n",
        "        \"C\": np.random.randn(8),\n",
        "        \"D\": np.random.randn(8),\n",
        "    }\n",
        ")\n",
        "group_df"
      ]
    },
    {
      "cell_type": "code",
      "execution_count": null,
      "metadata": {
        "id": "wfC4OO5VLL3B",
        "outputId": "596455aa-2125-4ff2-e2f4-22d5b9d83005"
      },
      "outputs": [
        {
          "data": {
            "text/plain": [
              "A\n",
              "bar    3\n",
              "foo    5\n",
              "dtype: int64"
            ]
          },
          "execution_count": 30,
          "metadata": {},
          "output_type": "execute_result"
        }
      ],
      "source": [
        "group_df.groupby('A').size()"
      ]
    },
    {
      "cell_type": "code",
      "execution_count": null,
      "metadata": {
        "id": "6YNbx78ULL3D",
        "outputId": "34144dac-d001-4f0f-a46d-c65dabd01101"
      },
      "outputs": [
        {
          "data": {
            "text/html": [
              "<div>\n",
              "<style scoped>\n",
              "    .dataframe tbody tr th:only-of-type {\n",
              "        vertical-align: middle;\n",
              "    }\n",
              "\n",
              "    .dataframe tbody tr th {\n",
              "        vertical-align: top;\n",
              "    }\n",
              "\n",
              "    .dataframe thead th {\n",
              "        text-align: right;\n",
              "    }\n",
              "</style>\n",
              "<table border=\"1\" class=\"dataframe\">\n",
              "  <thead>\n",
              "    <tr style=\"text-align: right;\">\n",
              "      <th></th>\n",
              "      <th></th>\n",
              "      <th>A_left</th>\n",
              "      <th>B</th>\n",
              "      <th>C_left</th>\n",
              "      <th>D_left</th>\n",
              "      <th>A_right</th>\n",
              "      <th>C_right</th>\n",
              "      <th>D_right</th>\n",
              "    </tr>\n",
              "    <tr>\n",
              "      <th>E</th>\n",
              "      <th>F</th>\n",
              "      <th></th>\n",
              "      <th></th>\n",
              "      <th></th>\n",
              "      <th></th>\n",
              "      <th></th>\n",
              "      <th></th>\n",
              "      <th></th>\n",
              "    </tr>\n",
              "  </thead>\n",
              "  <tbody>\n",
              "    <tr>\n",
              "      <th>test</th>\n",
              "      <th>foo</th>\n",
              "      <td>-1.775075</td>\n",
              "      <td>-1.485652</td>\n",
              "      <td>-0.177123</td>\n",
              "      <td>0.798964</td>\n",
              "      <td>2.0</td>\n",
              "      <td>2.0</td>\n",
              "      <td>6.0</td>\n",
              "    </tr>\n",
              "    <tr>\n",
              "      <th>train</th>\n",
              "      <th>foo</th>\n",
              "      <td>0.322741</td>\n",
              "      <td>-0.046445</td>\n",
              "      <td>-1.267746</td>\n",
              "      <td>-0.105425</td>\n",
              "      <td>2.0</td>\n",
              "      <td>2.0</td>\n",
              "      <td>6.0</td>\n",
              "    </tr>\n",
              "  </tbody>\n",
              "</table>\n",
              "</div>"
            ],
            "text/plain": [
              "             A_left         B    C_left    D_left  A_right  C_right  D_right\n",
              "E     F                                                                     \n",
              "test  foo -1.775075 -1.485652 -0.177123  0.798964      2.0      2.0      6.0\n",
              "train foo  0.322741 -0.046445 -1.267746 -0.105425      2.0      2.0      6.0"
            ]
          },
          "execution_count": 31,
          "metadata": {},
          "output_type": "execute_result"
        }
      ],
      "source": [
        "df_joined.groupby(['E', 'F']).sum()"
      ]
    },
    {
      "cell_type": "markdown",
      "metadata": {
        "id": "hsmQWAOxLL3E"
      },
      "source": [
        "### Trabajar con CSVs"
      ]
    },
    {
      "cell_type": "markdown",
      "metadata": {
        "id": "GlrdqNhxLL3E"
      },
      "source": [
        "#### Leer un csv"
      ]
    },
    {
      "cell_type": "code",
      "execution_count": null,
      "metadata": {
        "id": "6tDrNOY7LL3F"
      },
      "outputs": [],
      "source": [
        "data = pd.read_csv('iris.csv', index_col=0)"
      ]
    },
    {
      "cell_type": "code",
      "execution_count": null,
      "metadata": {
        "id": "W8ECyE7jLL3G",
        "outputId": "8f106986-a96f-483b-ab6a-64008c8c1c30"
      },
      "outputs": [
        {
          "data": {
            "text/html": [
              "<div>\n",
              "<style scoped>\n",
              "    .dataframe tbody tr th:only-of-type {\n",
              "        vertical-align: middle;\n",
              "    }\n",
              "\n",
              "    .dataframe tbody tr th {\n",
              "        vertical-align: top;\n",
              "    }\n",
              "\n",
              "    .dataframe thead th {\n",
              "        text-align: right;\n",
              "    }\n",
              "</style>\n",
              "<table border=\"1\" class=\"dataframe\">\n",
              "  <thead>\n",
              "    <tr style=\"text-align: right;\">\n",
              "      <th></th>\n",
              "      <th>sepal.width</th>\n",
              "      <th>petal.length</th>\n",
              "      <th>petal.width</th>\n",
              "      <th>variety</th>\n",
              "    </tr>\n",
              "    <tr>\n",
              "      <th>sepal.length</th>\n",
              "      <th></th>\n",
              "      <th></th>\n",
              "      <th></th>\n",
              "      <th></th>\n",
              "    </tr>\n",
              "  </thead>\n",
              "  <tbody>\n",
              "    <tr>\n",
              "      <th>5.1</th>\n",
              "      <td>3.5</td>\n",
              "      <td>1.4</td>\n",
              "      <td>0.2</td>\n",
              "      <td>Setosa</td>\n",
              "    </tr>\n",
              "    <tr>\n",
              "      <th>4.9</th>\n",
              "      <td>3.0</td>\n",
              "      <td>1.4</td>\n",
              "      <td>0.2</td>\n",
              "      <td>Setosa</td>\n",
              "    </tr>\n",
              "    <tr>\n",
              "      <th>4.7</th>\n",
              "      <td>3.2</td>\n",
              "      <td>1.3</td>\n",
              "      <td>0.2</td>\n",
              "      <td>Setosa</td>\n",
              "    </tr>\n",
              "    <tr>\n",
              "      <th>4.6</th>\n",
              "      <td>3.1</td>\n",
              "      <td>1.5</td>\n",
              "      <td>0.2</td>\n",
              "      <td>Setosa</td>\n",
              "    </tr>\n",
              "    <tr>\n",
              "      <th>5.0</th>\n",
              "      <td>3.6</td>\n",
              "      <td>1.4</td>\n",
              "      <td>0.2</td>\n",
              "      <td>Setosa</td>\n",
              "    </tr>\n",
              "    <tr>\n",
              "      <th>...</th>\n",
              "      <td>...</td>\n",
              "      <td>...</td>\n",
              "      <td>...</td>\n",
              "      <td>...</td>\n",
              "    </tr>\n",
              "    <tr>\n",
              "      <th>6.7</th>\n",
              "      <td>3.0</td>\n",
              "      <td>5.2</td>\n",
              "      <td>2.3</td>\n",
              "      <td>Virginica</td>\n",
              "    </tr>\n",
              "    <tr>\n",
              "      <th>6.3</th>\n",
              "      <td>2.5</td>\n",
              "      <td>5.0</td>\n",
              "      <td>1.9</td>\n",
              "      <td>Virginica</td>\n",
              "    </tr>\n",
              "    <tr>\n",
              "      <th>6.5</th>\n",
              "      <td>3.0</td>\n",
              "      <td>5.2</td>\n",
              "      <td>2.0</td>\n",
              "      <td>Virginica</td>\n",
              "    </tr>\n",
              "    <tr>\n",
              "      <th>6.2</th>\n",
              "      <td>3.4</td>\n",
              "      <td>5.4</td>\n",
              "      <td>2.3</td>\n",
              "      <td>Virginica</td>\n",
              "    </tr>\n",
              "    <tr>\n",
              "      <th>5.9</th>\n",
              "      <td>3.0</td>\n",
              "      <td>5.1</td>\n",
              "      <td>1.8</td>\n",
              "      <td>Virginica</td>\n",
              "    </tr>\n",
              "  </tbody>\n",
              "</table>\n",
              "<p>150 rows × 4 columns</p>\n",
              "</div>"
            ],
            "text/plain": [
              "              sepal.width  petal.length  petal.width    variety\n",
              "sepal.length                                                   \n",
              "5.1                   3.5           1.4          0.2     Setosa\n",
              "4.9                   3.0           1.4          0.2     Setosa\n",
              "4.7                   3.2           1.3          0.2     Setosa\n",
              "4.6                   3.1           1.5          0.2     Setosa\n",
              "5.0                   3.6           1.4          0.2     Setosa\n",
              "...                   ...           ...          ...        ...\n",
              "6.7                   3.0           5.2          2.3  Virginica\n",
              "6.3                   2.5           5.0          1.9  Virginica\n",
              "6.5                   3.0           5.2          2.0  Virginica\n",
              "6.2                   3.4           5.4          2.3  Virginica\n",
              "5.9                   3.0           5.1          1.8  Virginica\n",
              "\n",
              "[150 rows x 4 columns]"
            ]
          },
          "execution_count": 34,
          "metadata": {},
          "output_type": "execute_result"
        }
      ],
      "source": [
        "data"
      ]
    },
    {
      "cell_type": "markdown",
      "metadata": {
        "id": "Qo6TAm4ALL3H"
      },
      "source": [
        "#### Guardar en un csv"
      ]
    },
    {
      "cell_type": "code",
      "execution_count": null,
      "metadata": {
        "id": "QzoT3i1eLL3I"
      },
      "outputs": [],
      "source": [
        "df.to_csv('prueba.csv')"
      ]
    },
    {
      "cell_type": "markdown",
      "metadata": {
        "id": "KqOZ4a5YLL3J"
      },
      "source": [
        "#### Hay muchas funcionalidades en pandas, las más sencillas pueden encontrarlas [acà](https://pandas.pydata.org/docs/user_guide/10min.html), lo más complejo pueden googlearlo según lo que quieran hacer."
      ]
    },
    {
      "cell_type": "markdown",
      "metadata": {
        "id": "_YJaP76eLL3K"
      },
      "source": [
        "# Matplotlib"
      ]
    },
    {
      "cell_type": "markdown",
      "metadata": {
        "id": "Kem2NF3ULL3L"
      },
      "source": [
        "#### Esta es una librería que nos permite realizar gráficos simples de manera muy sencilla. A su vez, también nos permite, con un poco más de esfuerzo, realizar gráficos muy complejos.\n",
        "\n",
        "#### Está basada en arrays de NumPy y nos permite hacer gráficos de líneas, barras, dispersión, histogramas y muchísimas cosas más.\n",
        "\n",
        "#### Pyplot es un módulo de Matplotlib que proporciona una interfaz similar a MATLAB. Pyplot proporciona funciones que interactúan con la figura, es decir, crea una figura, decora el gráfico con etiquetas y crea un área de trazado en una figura."
      ]
    },
    {
      "cell_type": "code",
      "execution_count": null,
      "metadata": {
        "id": "XDjMO8Q_LL3L"
      },
      "outputs": [],
      "source": [
        "import matplotlib.pyplot as plt"
      ]
    },
    {
      "cell_type": "code",
      "execution_count": null,
      "metadata": {
        "id": "09HAVT0eLL3M",
        "outputId": "7b41abd3-aa00-4413-cb44-38c90943d3c5"
      },
      "outputs": [
        {
          "data": {
            "text/plain": [
              "Text(0.5, 1.0, 'Mi primer gráfico')"
            ]
          },
          "execution_count": 37,
          "metadata": {},
          "output_type": "execute_result"
        },
        {
          "data": {
            "image/png": "[encoded data removed]",
            "text/plain": [
              "<Figure size 432x288 with 1 Axes>"
            ]
          },
          "metadata": {
            "needs_background": "light"
          },
          "output_type": "display_data"
        }
      ],
      "source": [
        "x = [1, 2, 3, 4]\n",
        "y = [1, 4, 9, 16]\n",
        "plt.plot(x, y)\n",
        "plt.title('Mi primer gráfico')"
      ]
    },
    {
      "cell_type": "code",
      "execution_count": null,
      "metadata": {
        "id": "xWLhPAIrLL3N",
        "outputId": "d9d17bbd-b3c9-4a59-9030-c08fc8e8c1b5"
      },
      "outputs": [
        {
          "data": {
            "text/plain": [
              "<matplotlib.collections.PathCollection at 0x7f9e07e53048>"
            ]
          },
          "execution_count": 38,
          "metadata": {},
          "output_type": "execute_result"
        },
        {
          "data": {
            "image/png": "[encoded data removed]",
            "text/plain": [
              "<Figure size 432x288 with 1 Axes>"
            ]
          },
          "metadata": {
            "needs_background": "light"
          },
          "output_type": "display_data"
        }
      ],
      "source": [
        "plt.plot(x, y, color='blue', linewidth=3, linestyle='--')\n",
        "plt.scatter(x,y, color='red')"
      ]
    },
    {
      "cell_type": "markdown",
      "metadata": {
        "id": "3HxAmdHQLL3P"
      },
      "source": [
        "#### A veces vamos a necesitar hacer cosas un poco más complejas (varios gráficos en uno, dos gráficos uno al lado del otro, y muchas cosas más), para eso va a ser necesario que aprendamos lo que es figure y axis"
      ]
    },
    {
      "cell_type": "code",
      "execution_count": null,
      "metadata": {
        "id": "VB6ycCUALL3Q",
        "outputId": "d9307924-00c5-47f5-b18d-83af4f592d05"
      },
      "outputs": [
        {
          "data": {
            "text/plain": [
              "<matplotlib.legend.Legend at 0x7f9e07ddb048>"
            ]
          },
          "execution_count": 39,
          "metadata": {},
          "output_type": "execute_result"
        },
        {
          "data": {
            "image/png": "[encoded data removed]",
            "text/plain": [
              "<Figure size 360x194.4 with 1 Axes>"
            ]
          },
          "metadata": {
            "needs_background": "light"
          },
          "output_type": "display_data"
        }
      ],
      "source": [
        "fig, ax = plt.subplots(figsize=(5, 2.7))\n",
        "\n",
        "x = np.linspace(0, 2, 100)\n",
        "ax.plot(x, x, label='lineal')\n",
        "ax.plot(x, x**2, label='cuadrática')\n",
        "ax.plot(x, x**3, label='cubica')\n",
        "ax.set_xlabel('eje x')\n",
        "ax.set_ylabel('eje y')\n",
        "ax.set_title('Un título')\n",
        "ax.legend() # necesario para que se muestren los lables de la data que estoy graficando"
      ]
    },
    {
      "cell_type": "code",
      "execution_count": null,
      "metadata": {
        "id": "95gmA7ZmLL3R",
        "outputId": "42aae3d0-c493-4a39-e2d3-37668d0678aa"
      },
      "outputs": [
        {
          "data": {
            "text/plain": [
              "[<matplotlib.lines.Line2D at 0x7f9e07d190b8>]"
            ]
          },
          "execution_count": 40,
          "metadata": {},
          "output_type": "execute_result"
        },
        {
          "data": {
            "image/png": "[encoded data removed]",
            "text/plain": [
              "<Figure size 576x144 with 2 Axes>"
            ]
          },
          "metadata": {
            "needs_background": "light"
          },
          "output_type": "display_data"
        }
      ],
      "source": [
        "fig, (ax1, ax2) = plt.subplots(1, 2, figsize=(8,2))\n",
        "\n",
        "ax1.plot([1, 2, 3, 4], [1, 2, 3, 4])\n",
        "ax1.plot([1, 2, 3, 4], [4, 3, 2, 1])\n",
        "\n",
        "ax2.plot([1, 2, 3, 4], [1, 1, 1, 1])"
      ]
    },
    {
      "cell_type": "markdown",
      "metadata": {
        "id": "QjhZrpAULL3S"
      },
      "source": [
        "Prueben que sucede si, en la creación de la figura, añaden el parámetro `sharex='all'`o `sharey='all'`"
      ]
    },
    {
      "cell_type": "markdown",
      "metadata": {
        "id": "DHM1eDgpLL3T"
      },
      "source": [
        "# Ejercicios"
      ]
    },
    {
      "cell_type": "markdown",
      "metadata": {
        "id": "TkPVoxg2LL3U"
      },
      "source": [
        "Utilice la librería sklearn para cargar un dataset con información acerca de tipos de hojas."
      ]
    },
    {
      "cell_type": "code",
      "execution_count": null,
      "metadata": {
        "tags": [],
        "id": "BOqR28H6LL3V"
      },
      "outputs": [],
      "source": [
        "from sklearn.datasets import load_iris\n",
        "iris = load_iris()\n",
        "iris_df = pd.DataFrame(\n",
        "    data= np.c_[iris['data'], iris['target']],\n",
        "    columns= iris['feature_names'] + ['species']\n",
        ")"
      ]
    },
    {
      "cell_type": "markdown",
      "metadata": {
        "id": "7LKxxc8XLL3W"
      },
      "source": [
        "1. Visualice la estrucura del pandas.Dataframe.\n",
        "\n",
        "2. Seleccione dos columnas y realice un gráfico de dispersión de ambas (una como x, ora como y).\n",
        "\n",
        "3. Elija una columna, cuente el número de veces que un valor se repite en dicha columna y realice un gráfico de barras. Para ello\n",
        "    * Agrupe el dataframe según la columna de interés (groupby) y calcule el tamaño con la función `.size()` (después de hacer el groupby). Esto le dará como resultado un `pd.Series`.\n",
        "    * Use la función `bar` dentro de pyplot realizar el gráfico de barras. Asigne los valores de `series.index` y `serie.values` a las variables `x` y `height` respectivamente.\n",
        "\n",
        "4. Utilice los mismos valores del punto anterior para realizar un histograma.\n",
        "    * AYUDA: Pandas tiene incorporadas algunas funciones de matplotlib. Investiguen que sucede cuando hacen el nombre de la serie `.plot.hist()`"
      ]
    }
  ],
  "metadata": {
    "colab": {
      "name": "Clase 8.ipynb",
      "provenance": [],
      "include_colab_link": true
    },
    "kernelspec": {
      "display_name": "Python 3",
      "language": "python",
      "name": "python3"
    },
    "language_info": {
      "codemirror_mode": {
        "name": "ipython",
        "version": 3
      },
      "file_extension": ".py",
      "mimetype": "text/x-python",
      "name": "python",
      "nbconvert_exporter": "python",
      "pygments_lexer": "ipython3",
      "version": "3.10.5"
    }
  },
  "nbformat": 4,
  "nbformat_minor": 0
}