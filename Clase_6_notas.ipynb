{
  "cells": [
    {
      "cell_type": "markdown",
      "metadata": {
        "id": "YuFn4K66U_g7"
      },
      "source": [
        "<a href=\"https://colab.research.google.com/github/ITBA-Python/Certificacion-Profesional-Python/blob/main/Clase_6.ipynb\" target=\"_parent\"><img src=\"https://colab.research.google.com/assets/colab-badge.svg\" alt=\"Open In Colab\"/></a>"
      ]
    },
    {
      "cell_type": "markdown",
      "metadata": {
        "id": "UShQ7MbxF39r"
      },
      "source": [
        "<img src=\"https://raw.githubusercontent.com/ITBA-Python/Certificacion-Profesional-Python/main/assets/clase2/Headers%20c%C3%A1talogo_Mesa%20de%20trabajo%201%20copia%2044.jpg\" width=\"800\">\n",
        "\n",
        "\n",
        "\n",
        "# Certificación profesional de Python\n",
        "\n",
        "# Clase 6\n",
        "\n",
        "El objetivo de la clase es seguir sumando experiencia de trabajo con programación aprendiendo los siguientes temas.\n",
        "\n",
        "*   Páginas web\n",
        "*   Servicios web y formato XML\n",
        "\n",
        "La clase incluye teoría y práctica sobre cada tema aprendido.\n",
        "\n",
        "<img src=\"https://raw.githubusercontent.com/ITBA-Python/Certificacion-Profesional-Python/main/assets/clase2/LOGOTIPO_sin_fondo_positivo_sin_bajada.png\" width=\"400\">\n",
        "\n"
      ]
    },
    {
      "cell_type": "markdown",
      "metadata": {
        "id": "9LzTlauJU_hB"
      },
      "source": [
        "# Páginas web"
      ]
    },
    {
      "cell_type": "markdown",
      "metadata": {
        "id": "m1f0kKW9U_hC"
      },
      "source": [
        "Empezaremos viendo el funcionamiento de la web para luego poder interacturar a través de Python.\n"
      ]
    },
    {
      "cell_type": "markdown",
      "metadata": {
        "id": "Pc2HWs9JU_hC"
      },
      "source": [
        "## Repaso - Modelo cliente y servidor"
      ]
    },
    {
      "cell_type": "markdown",
      "metadata": {
        "id": "gxuGelrKU_hC"
      },
      "source": [
        "En la web las transferencias de datos siguen el modelo de cliente y servidor que vimos anteriormente.\n",
        "\n",
        "<img src=\"https://mdn.mozillademos.org/files/17299/Cliente-Servidor.png\" width=\"400\">\n",
        "\n",
        "Recordemos que el servidor es el que se encarga de almacenar y brindar los datos, mientras que el cliente es el que solicita estos datos. Todas estas comunicaciones en la web utilizan además el protocolo HTTP, sobre el protocolo de TCP/IP. El cliente hace requests HTTP, mientras que el servidor responde a éstos con responses HTTP.\n",
        "\n",
        "Los clientes en este caso son los dispositivos de los usuarios que se conectan a la web, como por ejemplo la computadora o el celular, y el software que utilizan para acceder a la web, el navegador.\n",
        "El navegador es un programa que se ejecuta en el dispositivo de cada usuario y es el que se encarga de enviar los requests HTTP y procesar las respuestas del servidor.\n",
        "\n",
        "Los servidores por otro lado son los dispositivos que almacenan páginas web y responden a los requests de los navegadores.\n"
      ]
    },
    {
      "cell_type": "markdown",
      "metadata": {
        "id": "IMZzkhiRU_hD"
      },
      "source": [
        "## Direcciones web"
      ]
    },
    {
      "cell_type": "markdown",
      "metadata": {
        "id": "VNZ6nI6OU_hE"
      },
      "source": [
        "Vimos anteriormente que para comunicarnos con otro dispositivo en Internet necesitamos conocer su dirección IP y puerto para establecer la conexión. En la web ésto funciona de la misma manera, pero el usuario nunca ingresa en un navegador una dirección IP del estilo 54.32.10.01. ¿Cómo funciona entonces el navegador?\n",
        "\n",
        "Las direcciones IP no son fáciles de recordar por los usuarios, como sí lo puede ser una dirección del estilo google.com. Por eso existen unos servidores especiales en Internet, los servidores de nombres de dominio o DNS.\n",
        "Estos servidores se encargan convertir una dirección web como las que utilizamos todos los días, en la dirección IP correspondiente. Por ejemplo, la dirección IP 142.251.40.142 se converite en la dirección google.com. Pueden comprobar la dirección IP de una página con la siguiente herramienta: <a href=\"https://ipinfo.info/html/ip_checker.php\">IP Checker</a>\n",
        "\n",
        "El puerto por otro lado se utiliza siempre el puerto 80 para las comunicaciones en la web."
      ]
    },
    {
      "cell_type": "markdown",
      "metadata": {
        "id": "Zg2LTsehU_hF"
      },
      "source": [
        "## Funcionamiento de la web"
      ]
    },
    {
      "cell_type": "markdown",
      "metadata": {
        "id": "f74jXqw5U_hG"
      },
      "source": [
        "Cuando un usuario quiere ingresar a una página web, por ejemplo google.com, se realizan una serie de pasos hasta que la página aparece en la pantalla.\n",
        "\n",
        "- El usuario abre el navegador, e ingresa la dirección que quiere. Para este ejemplo, escribe google.com.\n",
        "- El navegador envía un request al servidor DNS para encontrar la dirección IP de google.com, en este caso obtiene 142.251.40.142.\n",
        "- El navegador hace un request HTTP al servidor de la dirección IP obtenida, y le pide una copia de la página web.\n",
        "- El servidor recibe el request y devuelve un response HTTP con el código 200 OK. Luego envía la página web por medio de paquetes.\n",
        "- El navegador toma todos los paquetes que corresponden a la página web, los procesa, construye la página completa y la muestra en el pantalla."
      ]
    },
    {
      "cell_type": "markdown",
      "metadata": {
        "id": "lndJ5mUFU_hH"
      },
      "source": [
        "## Componentes de la web"
      ]
    },
    {
      "cell_type": "markdown",
      "metadata": {
        "id": "z3L01DxAU_hH"
      },
      "source": [
        "Anteriormente mencionamos que el servidor envía la página web en paquetes, pero cómo esta formada exactamente una página web? Una página se compone de varios archivos diferentes de código, principalmente HTML, CSS Y Javascript.\n",
        "\n",
        "- HTML: lenguaje de marcado de hipertexto, es un lenguaje de marcado que define la estructura básica y el contenido de una página web. Utiliza etiquetas para delimitar los componentes de la página y agregar información adicional sobre la presentación o la estructura del texto.\n",
        "- CSS: es un lenguaje de diseño que permite definir la presentación de un documento estructurado con un lenguaje de marcado.\n",
        "- Javascript: es un lenguaje de programación interpretado, similar en su funcionalidad a Python a diferencia de los otros lenguajes de la web, que se utiliza para mejorar la funcionalidad e interacción de usuario de una página."
      ]
    },
    {
      "cell_type": "markdown",
      "metadata": {
        "id": "TdTbP66cU_hH"
      },
      "source": [
        "A modo de ejemplo vamos a ver las diferencias entre un request GET a un servidor web y un request GET como los que vimos en clases anteriores. \n",
        " - Identifiquen las diferencias entre las respuestas al GET en ambos casos."
      ]
    },
    {
      "cell_type": "code",
      "execution_count": 1,
      "metadata": {
        "id": "Pe8U1sgzU_hI",
        "outputId": "f94e2a5d-46f0-43dc-baff-f31c60dad8d5",
        "colab": {
          "base_uri": "https://localhost:8080/"
        }
      },
      "outputs": [
        {
          "output_type": "stream",
          "name": "stdout",
          "text": [
            "# Certificación Profesional Python\n",
            "\n",
            "Hoy en día todos los objetos que nos rodean poseen una pieza de código, cada día poseemos más dispositivos inteligentes, desde heladeras hasta tostadoras inteligentes. Por esta razón es muy importante aprender a programar para entender el mundo que nos rodea. La industria del software fue estimada en 58 Bn USD en 2021 y se espera que crezca a 79 Bn para 2026, por lo que la capacidad de comprender código y poseer las nociones básicas de programación permitirán \n"
          ]
        }
      ],
      "source": [
        "import requests\n",
        "\n",
        "## Request GET al archivo RAW del readme del repositorio de este curso.\n",
        "r = requests.get(\"https://raw.githubusercontent.com/ITBA-Python/Certificacion-Profesional-Python/main/README.md\")\n",
        "print(r.text[:500])\n",
        "\n",
        "## Guardo los contenidos en un archivo\n",
        "with open(\"readme.md\", \"wb\") as fp:\n",
        "    fp.write(r.content)"
      ]
    },
    {
      "cell_type": "code",
      "execution_count": 2,
      "metadata": {
        "id": "DVkvM8YYU_hJ",
        "outputId": "6d3fbc1a-3519-4162-a6ee-782f3ce9be0d",
        "colab": {
          "base_uri": "https://localhost:8080/"
        }
      },
      "outputs": [
        {
          "output_type": "stream",
          "name": "stdout",
          "text": [
            "<!DOCTYPE html>\n",
            "<html lang=\"en\" data-color-mode=\"auto\" data-light-theme=\"light\" data-dark-theme=\"dark\" data-a11y-animated-images=\"system\">\n",
            "  <head>\n",
            "    <meta charset=\"utf-8\">\n",
            "  <link rel=\"dns-prefetch\" href=\"https://github.githubassets.com\">\n",
            "  <link rel=\"dns-prefetch\" href=\"https://avatars.githubusercontent.com\">\n",
            "  <link rel=\"dns-prefetch\" href=\"https://github-cloud.s3.amazonaws.com\">\n",
            "  <link rel=\"dns-prefetch\" href=\"https://user-images.githubusercontent.com/\">\n",
            "  <link rel=\"preconnect\" href=\"https://github.githubassets.com\" crossorigin>\n",
            "  <link rel=\"preconnect\" href=\"https://avatars.githubusercontent.com\">\n",
            "\n",
            "\n",
            "\n",
            "  <link crossorigin=\"anonymous\" media=\"all\" integrity=\"sha512-ksfTgQOOnE+FFX\n"
          ]
        }
      ],
      "source": [
        "## Request GET al servidor de github donde esta almacenado el archivo readme del repositorio del curso.\n",
        "r = requests.get(\"https://github.com/ITBA-Python/Certificacion-Profesional-Python/blob/main/README.md\")\n",
        "print(r.text[7:700])\n",
        "\n",
        "## Guardo los contenidos en un archivo para ver la página web obtenida\n",
        "with open(\"readme.html\", \"wb\") as fp:\n",
        "    fp.write(r.content)"
      ]
    },
    {
      "cell_type": "markdown",
      "metadata": {
        "id": "BLu7x86JU_hJ"
      },
      "source": [
        "Como podemos ver, el request GET que hacemos a la dirección web en github es lo mismo que hace el navegador cuando entramos a esa página. El navegador es capaz de entender ese código y mostrar en pantalla cada elemento de la página web.\n",
        "\n",
        "Desde nuestro código de Python, podemos también parsear el contenido de ésta respuesta para hacer algún tipo de procesamiento. Por ejemplo, en este caso podríamos contar la cantidad de secciones o la cantidad de palabras.\n",
        "Hay muchas herramientas en Python que nos facilitan el parseo de páginas web, como Pandas (<a href=\"https://pandas.pydata.org/docs/\">Documentación</a>, <a href=\"https://towardsdatascience.com/scraping-tabular-data-with-pandas-python-10cf2a133cbf\">Parseo de HTML</a>) o Beautiful Soup (<a href=\"https://beautiful-soup-4.readthedocs.io/en/latest/\">Documentación</a>)."
      ]
    },
    {
      "cell_type": "markdown",
      "metadata": {
        "id": "pO9yICCbU_hK"
      },
      "source": [
        "# Servicios web y XML"
      ]
    },
    {
      "cell_type": "markdown",
      "metadata": {
        "id": "HAVRtwAGU_hK"
      },
      "source": [
        "Hasta ahora vimos que al hacer requests de tipo GET a una página web podemos obtener el código HTML o si hacemos GET a un archivo específico obtenemos ese archivo. Pero también hay aplicaciones de software que tienen interfaces mediante las que permiten interactuar con la aplicación a través de la red. Estos son los llamados servicios web, que intercambiando mensajes permiten intercambiar datos."
      ]
    },
    {
      "cell_type": "markdown",
      "metadata": {
        "id": "w_e2khJWU_hK"
      },
      "source": [
        "Existen múltiples estándares que se utilizan para comunicarse con un servicio web, y éste dependerá de la implementación en particular de cada servicio. Podemos encontrar servicios que utilizan el protocolo SOAP (Simple Object Access Protocol) o XML-RPC (XML Remote Procedure Call).\n",
        "En general, el formato utilizado para el intercambio de datos es el XML."
      ]
    },
    {
      "cell_type": "markdown",
      "metadata": {
        "id": "dLth-sgwU_hL"
      },
      "source": [
        "## XML"
      ]
    },
    {
      "cell_type": "markdown",
      "metadata": {
        "id": "wK-3grGpU_hL"
      },
      "source": [
        "El formato XML (Lenguaje de marcas extensible) es un lenguaje de marcas al igual que HTML. Sin embargo, en lugar de utilzarse para definir la estructura de una página web, se utiliza para almacenar datos y estructurar documentos. Es muy utilizado para el intercambio de datos en internet, junto con el formato JSON.\n",
        "\n",
        "En el caso de los servicios web, muchas veces utilizan este formato para el intercambio de datos ya que fue diseñado para ser fácilmente legible tanto por personas como por programas de software."
      ]
    },
    {
      "cell_type": "markdown",
      "metadata": {
        "id": "Gm1G3f5bU_hL"
      },
      "source": [
        "Ejemplo de archivo XML: \n",
        "```xml\n",
        "<?xml version=\"1.0\" encoding=\"UTF-8\" ?>\n",
        "<!DOCTYPE Edit_Mensaje SYSTEM \"Edit_Mensaje.dtd\">\n",
        "\n",
        "<Edit_Mensaje>\n",
        "     <Mensaje>\n",
        "          <Remitente>\n",
        "               <Nombre>Nombre del remitente</Nombre>\n",
        "               <Mail> Correo del remitente </Mail>\n",
        "          </Remitente>\n",
        "          <Destinatario>\n",
        "               <Nombre>Nombre del destinatario</Nombre>\n",
        "               <Mail>Correo del destinatario</Mail>\n",
        "          </Destinatario>\n",
        "          <Texto>\n",
        "               <Asunto>\n",
        "                    Este es mi documento con una estructura muy sencilla \n",
        "                    no contiene atributos ni entidades...\n",
        "               </Asunto>\n",
        "               <Parrafo>\n",
        "                    Este es mi documento con una estructura muy sencilla \n",
        "                    no contiene atributos ni entidades...\n",
        "               </Parrafo>\n",
        "          </Texto>\n",
        "     </Mensaje>\n",
        "</Edit_Mensaje>\n",
        "```"
      ]
    },
    {
      "cell_type": "markdown",
      "metadata": {
        "id": "rr9ucY2jU_hL"
      },
      "source": [
        "Típicamente se puede pensar un archivo XML como una estructura en forma de árbol, donde cada etiqueta representa un nodo del árbol y las etiquetas que ésta contiene representan los hijos de ese nodo.\n",
        "\n",
        "<img src=\"https://media.geeksforgeeks.org/wp-content/cdn-uploads/parsing-XML.gif\" width=\"400\">"
      ]
    },
    {
      "cell_type": "markdown",
      "metadata": {
        "id": "zvgItFKVU_hM"
      },
      "source": [
        "### RSS"
      ]
    },
    {
      "cell_type": "markdown",
      "metadata": {
        "id": "qJ66CojVU_hM"
      },
      "source": [
        "RSS es simplemente un formato XML que se utiliza para distribuir contenido en la web, típicamente para datos que son actualizados frecuentemente como entradas de blogs y feeds de noticias."
      ]
    },
    {
      "cell_type": "markdown",
      "metadata": {
        "id": "7ZnJoZ8oU_hM"
      },
      "source": [
        "### Parseo de XML y RSS"
      ]
    },
    {
      "cell_type": "markdown",
      "metadata": {
        "id": "nsqPD4wEU_hM"
      },
      "source": [
        "Python nos permite procesar los datos que obtenemos de un servicio web mediante requests HTTP, analizando y parseando los datos en formato XML. Para ésto contamos con el módulo xml de Python (<a href=\"https://docs.python.org/3/library/xml.etree.elementtree.html\">Documentación</a>).\n",
        "\n",
        "Los más importante a destacar de éste módulo es que nos brinda dos tipos de objetos para representar un XML, siguiendo la estructura de árbol:\n",
        " - ElementTree: representa todo el XML.\n",
        " - Element: representa cada nodo del árbol XML."
      ]
    },
    {
      "cell_type": "code",
      "execution_count": 3,
      "metadata": {
        "id": "FJd_uSOyU_hM"
      },
      "outputs": [],
      "source": [
        "# Obtenemos primero un RSS de un sitio de noticias, y lo guardamos como XML.\n",
        "\n",
        "r = requests.get(\"https://www.ole.com.ar/rss/ultimas-noticias/\")\n",
        "with open(\"news_feed.xml\", \"wb\") as fp:\n",
        "    fp.write(r.content)"
      ]
    },
    {
      "cell_type": "code",
      "execution_count": 10,
      "metadata": {
        "id": "fzyGU8vaU_hN",
        "outputId": "e44ba471-5f30-4823-90f8-92c1e2a7426e",
        "colab": {
          "base_uri": "https://localhost:8080/"
        }
      },
      "outputs": [
        {
          "output_type": "stream",
          "name": "stdout",
          "text": [
            "rss {'version': '2.0'}\n",
            "channel\n",
            "Hay 10 items en el XML\n",
            "Hay 10 items en el XML\n",
            "Primer item de noticia: Locura en Río: Vidal llegó para firmar con el Flamengo\n"
          ]
        }
      ],
      "source": [
        "import xml.etree.ElementTree as ET\n",
        "\n",
        "# Parseamos el XML - obtenemos el ElementTree\n",
        "tree = ET.parse(\"news_feed.xml\")\n",
        "\n",
        "# Obtenemos un Element de la base del XML\n",
        "root = tree.getroot()\n",
        "print(root.tag, root.attrib)\n",
        "\n",
        "# Recorremos todos los hijos de la base\n",
        "for child in root:\n",
        "    print(child.tag)\n",
        "    # for grandChild in child:\n",
        "    #     print(grandChild.tag)\n",
        "\n",
        "# Buscar elementos\n",
        "items = root.findall(\"./channel/item\")\n",
        "# print(items)\n",
        "print(f\"Hay {len(items)} items en el XML\")\n",
        "print(\"Hay \"+str(len(items))+\" items en el XML\")\n",
        "print(\"Primer item de noticia:\", items[0].find(\"title\").text)"
      ]
    },
    {
      "cell_type": "markdown",
      "metadata": {
        "id": "oNmWwlVoU_hN"
      },
      "source": [
        "Existen múltiples servicios web en Argentina que proveen feeds de noticias en formato RSS. Listamos algunas:\n",
        "\n",
        "- <a href=\"https://www.clarin.com/rss.html\">Clarín</a>\n",
        "- <a href=\"https://www.perfil.com/canales-rss\">Perfil</a>\n",
        "- <a href=\"https://www.pagina12.com.ar/pagina/rss\">Página 12</a>\n",
        "- <a href=\"https://www.ole.com.ar/filer/RSS/rss.html\">Olé</a>"
      ]
    },
    {
      "cell_type": "markdown",
      "metadata": {
        "id": "GrQPFScmU_hN"
      },
      "source": [
        "### Ejercicios"
      ]
    },
    {
      "cell_type": "markdown",
      "metadata": {
        "id": "iC4ZKbGjU_hN"
      },
      "source": [
        "1) Tomar todas las noticias del RSS analizado anteriormente y convertir la información en una lista de diccionarios con la información más importante de cada noticia.\n",
        "\n",
        "2) Contar cuántas noticias hablan sobre Messi en los RSS de noticias Argentinas.\n",
        "\n",
        "3) Contar cúantas noticias hablan sobre el dólar en la sección de Economía de por lo menos 2 sitios web.\n",
        "\n",
        "4) Imprimir por pantalla las últimas tres noticias con la siguiente información: título, fecha, link a la noticia en su respectiva web + descripción (si tiene)."
      ]
    },
    {
      "cell_type": "code",
      "execution_count": 3,
      "metadata": {
        "id": "_PVu_E5GU_hO",
        "outputId": "f24ba0f4-1a2f-45b2-a749-8e217277a761",
        "colab": {
          "base_uri": "https://localhost:8080/"
        }
      },
      "outputs": [
        {
          "output_type": "stream",
          "name": "stdout",
          "text": [
            "[{'title': 'Parte médico de Chacarita', 'link': 'https://www.ole.com.ar/futbol-ascenso/p-nacional-chacarita_0_z2vDdCd3gC.html', 'description': \"Lesionados que vuelven de a poco, otros tardan un poco más y una lista larga para Centrone.<img src='https://images.ole.com.ar/2022/07/06/fAemMpPuN_1200x630__1.jpg' height='68' width='91'/>\", 'guid': 'https://www.ole.com.ar/futbol-ascenso/p-nacional-chacarita_0_z2vDdCd3gC.html', 'pubDate': '2022-07-06T22:49:41.000Z', '{http://purl.org/dc/elements/1.1/}creator': 'Olé', 'enclosure': None}, {'title': '¿Sin ganas? La presentación viral del nuevo refuerzo del Barcelona', 'link': 'https://www.ole.com.ar/futbol-internacional/espana/milan-viral-desgano-xavi-hernandez-joan-laporta_0_nkO6E0cBjc.html', 'description': \"Kessié firmó con el equipo catalán, se puso la camiseta e hizo algunos jueguitos al lado de Laporta... ¿Con desgano?<img src='https://images.ole.com.ar/2022/07/06/REDn9q6l0R_1200x630__1.jpg' height='68' width='91'/>\", 'guid': 'https://www.ole.com.ar/futbol-internacional/espana/milan-viral-desgano-xavi-hernandez-joan-laporta_0_nkO6E0cBjc.html', 'pubDate': '2022-07-06T22:33:24.000Z', '{http://purl.org/dc/elements/1.1/}creator': 'Olé', 'enclosure': None}, {'title': 'Borja se entrena diferenciado mientras espera que se destrabe su pase a River', 'link': 'https://www.ole.com.ar/river-plate/river-borja-pase-junior-dolares_0_5QUmlPTTbX.html', 'description': \"El colombiano practica a contraturno en Junior. A la vez, en Núñez intentan buscar una solución para que sea refuerzo. <img src='https://images.ole.com.ar/2022/06/28/uisiG-r9F_1200x630__1.jpg' height='68' width='91'/>\", 'guid': 'https://www.ole.com.ar/river-plate/river-borja-pase-junior-dolares_0_5QUmlPTTbX.html', 'pubDate': '2022-07-06T22:29:33.000Z', '{http://purl.org/dc/elements/1.1/}creator': 'Olé', 'enclosure': None}, {'title': 'La Tri ya se instaló en Qatar', 'link': 'https://www.ole.com.ar/futbol-internacional/america/seleccion-ecuador-participa-workshop-fifa-mundial-qatar_0_A8i4lHSwoR.html', 'description': \"Integrantes de la selección de Ecuador participaron de un Workshop de la FIFA y eligieron sede para el entrenamiento durante el Mundial.<img src='https://images.ole.com.ar/2022/07/06/i2CQhq8t1_1200x630__1.jpg' height='68' width='91'/>\", 'guid': 'https://www.ole.com.ar/futbol-internacional/america/seleccion-ecuador-participa-workshop-fifa-mundial-qatar_0_A8i4lHSwoR.html', 'pubDate': '2022-07-06T22:20:13.000Z', '{http://purl.org/dc/elements/1.1/}creator': 'Olé', 'enclosure': None}, {'title': 'Niebla y llovizna para River-Vélez', 'link': 'https://www.ole.com.ar/futbol-internacional/libertadores/libertadores-river-velez-octavos-vuelta_0_qL9PxxAPeK.html', 'description': \"El Monumental empieza a palpitar el revancha de octavos con un clima especial. Los 11 de cada lado...<img src='https://images.ole.com.ar/2022/07/06/EejaaEYeQ_1200x630__1.jpg' height='68' width='91'/>\", 'guid': 'https://www.ole.com.ar/futbol-internacional/libertadores/libertadores-river-velez-octavos-vuelta_0_qL9PxxAPeK.html', 'pubDate': '2022-07-06T22:17:35.000Z', '{http://purl.org/dc/elements/1.1/}creator': 'Olé', 'enclosure': None}, {'title': 'Zielinski: \"El partido más importante del año\" y la práctica de penales', 'link': 'https://www.ole.com.ar/estudiantes/zielinski-estudiantes-fortaleza-vuelta_0_JYEu9oPV7r.html', 'description': \"Así calificó el Ruso al encuentro de este jueves contra Fortaleza en Uno. Además, reconoció que hubo práctica de tiros desde los doce pasos. <img src='https://images.ole.com.ar/2022/07/04/ANL676buE_1200x630__1.jpg' height='68' width='91'/>\", 'guid': 'https://www.ole.com.ar/estudiantes/zielinski-estudiantes-fortaleza-vuelta_0_JYEu9oPV7r.html', 'pubDate': '2022-07-06T22:09:01.000Z', '{http://purl.org/dc/elements/1.1/}creator': 'Olé', 'enclosure': None}, {'title': 'Locura en Río: Vidal llegó para firmar con el Flamengo', 'link': 'https://www.ole.com.ar/futbol-internacional/america/arturo-vidal-flamengo-rio-janeiro_0_2gaxHMDyk4.html', 'description': \"El volante chileno aterrizó en Brasil: se suma al Mengao, que le pagará por una fortuna hasta fines de 2023.<img src='https://images.ole.com.ar/2022/07/06/dh-nzL-1P_1200x630__1.jpg' height='68' width='91'/>\", 'guid': 'https://www.ole.com.ar/futbol-internacional/america/arturo-vidal-flamengo-rio-janeiro_0_2gaxHMDyk4.html', 'pubDate': '2022-07-06T21:59:12.000Z', '{http://purl.org/dc/elements/1.1/}creator': 'Olé', 'enclosure': None}, {'title': 'Vélez: habrá pantalla gigante en Liniers', 'link': 'https://www.ole.com.ar/velez/pantalla-gigante-velez-river-octavos_0_RvQHljfdca.html', 'description': 'El Fortín abrirá sus puertas para que los hinchas del Fortín puedan \"vivir juntos\" la vuelta ante River por los octavos de final de la Copa.<img src=\\'https://images.ole.com.ar/2022/07/06/i22XqUeQr_1200x630__1.jpg\\' height=\\'68\\' width=\\'91\\'/>', 'guid': 'https://www.ole.com.ar/velez/pantalla-gigante-velez-river-octavos_0_RvQHljfdca.html', 'pubDate': '2022-07-06T21:57:29.000Z', '{http://purl.org/dc/elements/1.1/}creator': 'Olé', 'enclosure': None}, {'title': 'La llave de la Copa Argentina: Defensa ganó y está en el camino de River', 'link': 'https://www.ole.com.ar/copa-argentina/llave-copa-argentinos-16avos-final_0_etwB9sqaO7.html', 'description': \"El Halcón venció a Argentinos y jugará en octavos con el vencedor del Millonario y Barracas Central. Así sigue el torneo...<img src='https://images.ole.com.ar/2022/07/06/TMBzfXfFM_1200x630__1.jpg' height='68' width='91'/>\", 'guid': 'https://www.ole.com.ar/copa-argentina/llave-copa-argentinos-16avos-final_0_etwB9sqaO7.html', 'pubDate': '2022-07-06T21:57:22.000Z', '{http://purl.org/dc/elements/1.1/}creator': 'Olé', 'enclosure': None}, {'title': 'Argentina ya conoce sus rivales para el Mundial', 'link': 'https://www.ole.com.ar/voley/mundial-voley-argentina-rivales-iran-paises-bajos-egipto_0_iwa6YlsahR.html', 'description': \"La Selección es cabeza de serie del Grupo F del torneo que se jugará en Eslovenia y Polonia. Días y horarios.<img src='https://images.ole.com.ar/2022/07/05/4udggNRVR_1200x630__1.jpg' height='68' width='91'/>\", 'guid': 'https://www.ole.com.ar/voley/mundial-voley-argentina-rivales-iran-paises-bajos-egipto_0_iwa6YlsahR.html', 'pubDate': '2022-07-06T21:43:56.000Z', '{http://purl.org/dc/elements/1.1/}creator': 'Olé', 'enclosure': None}]\n",
            "Parte médico de Chacarita\n",
            "¿Sin ganas? La presentación viral del nuevo refuerzo del Barcelona\n",
            "Borja se entrena diferenciado mientras espera que se destrabe su pase a River\n",
            "La Tri ya se instaló en Qatar\n",
            "Niebla y llovizna para River-Vélez\n",
            "Zielinski: \"El partido más importante del año\" y la práctica de penales\n",
            "Locura en Río: Vidal llegó para firmar con el Flamengo\n",
            "Vélez: habrá pantalla gigante en Liniers\n",
            "La llave de la Copa Argentina: Defensa ganó y está en el camino de River\n",
            "Argentina ya conoce sus rivales para el Mundial\n",
            "Zielinski: \"El partido más importante del año\" y la práctica de penales\n"
          ]
        }
      ],
      "source": [
        "import xml.etree.ElementTree as ET\n",
        "import requests\n",
        "\n",
        "r = requests.get(\"https://www.ole.com.ar/rss/ultimas-noticias/\")\n",
        "with open(\"news_feed.xml\", \"wb\") as fp:\n",
        "    fp.write(r.content)\n",
        "\n",
        "# Parseamos el XML - obtenemos el ElementTree\n",
        "tree = ET.parse(\"news_feed.xml\")\n",
        "\n",
        "# Obtenemos un Element de la base del XML\n",
        "root = tree.getroot()\n",
        "\n",
        "news = []\n",
        "\n",
        "for item in root.findall(\"./channel/item\"):\n",
        "    article = {}\n",
        "\n",
        "    for child in item:\n",
        "        article[child.tag] = child.text\n",
        "    \n",
        "    news.append(article)\n",
        "\n",
        "print(news)\n",
        "for n in news:\n",
        "    print(n['title'])\n",
        "print(news[5][\"title\"])\n"
      ]
    },
    {
      "cell_type": "code",
      "source": [
        ""
      ],
      "metadata": {
        "id": "b4LtUJg4vfl8"
      },
      "execution_count": null,
      "outputs": []
    }
  ],
  "metadata": {
    "colab": {
      "collapsed_sections": [],
      "name": "Clase 6.ipynb",
      "provenance": []
    },
    "interpreter": {
      "hash": "8a94588eda9d64d9e9a351ab8144e55b1fabf5113b54e67dd26a8c27df0381b3"
    },
    "kernelspec": {
      "display_name": "Python 3.10.4 64-bit",
      "language": "python",
      "name": "python3"
    },
    "language_info": {
      "name": "python",
      "version": "3.10.4"
    }
  },
  "nbformat": 4,
  "nbformat_minor": 0
}