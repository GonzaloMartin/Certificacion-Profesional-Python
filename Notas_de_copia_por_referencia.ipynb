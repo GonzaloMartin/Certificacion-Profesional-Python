{
  "nbformat": 4,
  "nbformat_minor": 0,
  "metadata": {
    "colab": {
      "name": "Notas de copia por referencia.ipynb",
      "provenance": [],
      "authorship_tag": "ABX9TyPhLjEFBWj4Oqo0r6256ot+",
      "include_colab_link": true
    },
    "kernelspec": {
      "name": "python3",
      "display_name": "Python 3"
    },
    "language_info": {
      "name": "python"
    }
  },
  "cells": [
    {
      "cell_type": "markdown",
      "metadata": {
        "id": "view-in-github",
        "colab_type": "text"
      },
      "source": [
        "<a href=\"https://colab.research.google.com/github/ITBA-Python/Certificacion-Profesional-Python/blob/main/Notas_de_copia_por_referencia.ipynb\" target=\"_parent\"><img src=\"https://colab.research.google.com/assets/colab-badge.svg\" alt=\"Open In Colab\"/></a>"
      ]
    },
    {
      "cell_type": "markdown",
      "source": [
        "# Copia por referencia o por valor\n"
      ],
      "metadata": {
        "id": "Vc3cJ4dchRag"
      }
    },
    {
      "cell_type": "markdown",
      "source": [
        "Cuando nosotros pasamos valores a una función de Python hay dos opciones sobre cómo se pasan estos parámetros:\n",
        " \n",
        " \n",
        "*  Copia por valor: Se genera una copia del objeto.\n",
        "*  Copia por referencia: Se pasa una referencia al objeto que nos permite acceder a él, sin generar una copia.\n",
        " \n",
        "Python por defecto utiliza la copia por referencia cuando se trata de estructuras como listas, diccionarios o tuplas, mientras que utiliza la copia por valor cuando se trata de int, bool, etc.\n",
        " \n",
        "Veamos unos ejemplos:"
      ],
      "metadata": {
        "id": "qZ56xLNOhXmi"
      }
    },
    {
      "cell_type": "code",
      "execution_count": 1,
      "metadata": {
        "colab": {
          "base_uri": "https://localhost:8080/"
        },
        "id": "Z1haO_TNhKhA",
        "outputId": "52afc514-b2ae-4def-be71-344c66599e93"
      },
      "outputs": [
        {
          "output_type": "stream",
          "name": "stdout",
          "text": [
            "10\n",
            "15\n"
          ]
        }
      ],
      "source": [
        "a = 10\n",
        "\n",
        "def cambiar(parametro):\n",
        "    parametro = 15\n",
        "    return parametro\n",
        "\n",
        "b = cambiar(a)\n",
        "\n",
        "print(a)\n",
        "print(b)"
      ]
    },
    {
      "cell_type": "markdown",
      "source": [
        "Pero si realizamos estas operaciones con objetos más complejos:"
      ],
      "metadata": {
        "id": "N8slsCSkiBp_"
      }
    },
    {
      "cell_type": "code",
      "source": [
        "a = [10, 11, 12]\n",
        "\n",
        "def cambiar(parametro):\n",
        "    parametro[1] = 15\n",
        "    return parametro\n",
        "\n",
        "b = cambiar(a)\n",
        "\n",
        "print(a)\n",
        "print(b)"
      ],
      "metadata": {
        "colab": {
          "base_uri": "https://localhost:8080/"
        },
        "id": "fX1TkRR3h-uE",
        "outputId": "97d117ac-11c5-4e1d-eee1-f53707986957"
      },
      "execution_count": 3,
      "outputs": [
        {
          "output_type": "stream",
          "name": "stdout",
          "text": [
            "[10, 15, 12]\n",
            "[10, 15, 12]\n"
          ]
        }
      ]
    },
    {
      "cell_type": "markdown",
      "source": [
        "Vemos que la lista original fue cambiada. Esto se debe a que Python no genera una copia si no que pasa una referencia del objeto a la función.\n",
        " \n",
        "También podemos observar este comportamiento si intentamos realizar una copia de la lista:"
      ],
      "metadata": {
        "id": "MtEGR0pgiMGf"
      }
    },
    {
      "cell_type": "code",
      "source": [
        "a = [10, 11, 12]\n",
        "\n",
        "b = a\n",
        "\n",
        "b[1] = 1000\n",
        "\n",
        "print(a)\n",
        "print(b)"
      ],
      "metadata": {
        "colab": {
          "base_uri": "https://localhost:8080/"
        },
        "id": "T_yhKQojiKgu",
        "outputId": "328964dd-2be2-4c80-f15d-79344133902d"
      },
      "execution_count": 4,
      "outputs": [
        {
          "output_type": "stream",
          "name": "stdout",
          "text": [
            "[10, 1000, 12]\n",
            "[10, 1000, 12]\n"
          ]
        }
      ]
    },
    {
      "cell_type": "markdown",
      "source": [
        "Como podemos observar también se generó un cambio en la lista `a`. Esto es por la copia por referencia.\n",
        " \n",
        "Para evitar este problema si necesitamos una copia de la lista podemos utilizar list comprehension:"
      ],
      "metadata": {
        "id": "L1hQY39uiiqt"
      }
    },
    {
      "cell_type": "code",
      "source": [
        "a = [10, 11, 12]\n",
        "\n",
        "b = [x for x in a]\n",
        "\n",
        "b[1] = 1000\n",
        "\n",
        "print(a)\n",
        "print(b)"
      ],
      "metadata": {
        "colab": {
          "base_uri": "https://localhost:8080/"
        },
        "id": "2p3LCQZRiiAk",
        "outputId": "a963f099-1cfa-4628-ef7d-b96a1f4f2b52"
      },
      "execution_count": 5,
      "outputs": [
        {
          "output_type": "stream",
          "name": "stdout",
          "text": [
            "[10, 11, 12]\n",
            "[10, 1000, 12]\n"
          ]
        }
      ]
    },
    {
      "cell_type": "markdown",
      "source": [
        "Y ahora obtenemos el resultado esperado.\n",
        "\n",
        "En el caso de un diccionario sería:"
      ],
      "metadata": {
        "id": "0cEHV2AeiysP"
      }
    },
    {
      "cell_type": "code",
      "source": [
        "a = {'a':1, 'b':2}\n",
        "\n",
        "b = {key:a[key] for key in a}\n",
        "\n",
        "b['a'] = 1000\n",
        "\n",
        "print(a)\n",
        "print(b)"
      ],
      "metadata": {
        "colab": {
          "base_uri": "https://localhost:8080/"
        },
        "id": "o4LNKlPoix9y",
        "outputId": "fdabc69e-790c-4cd1-867b-af1ac5d5ebe0"
      },
      "execution_count": 6,
      "outputs": [
        {
          "output_type": "stream",
          "name": "stdout",
          "text": [
            "{'a': 1, 'b': 2}\n",
            "{'a': 1000, 'b': 2}\n"
          ]
        }
      ]
    },
    {
      "cell_type": "code",
      "source": [
        ""
      ],
      "metadata": {
        "id": "DFU-D88VjUE1"
      },
      "execution_count": null,
      "outputs": []
    }
  ]
}