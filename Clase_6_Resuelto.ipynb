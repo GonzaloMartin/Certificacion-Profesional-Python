{
  "cells": [
    {
      "cell_type": "markdown",
      "metadata": {
        "id": "view-in-github",
        "colab_type": "text"
      },
      "source": [
        "<a href=\"https://colab.research.google.com/github/GonzaloMartin/ITBA-Certificacion-Profesional-Python/blob/main/Clase_6_Resuelto.ipynb\" target=\"_parent\"><img src=\"https://colab.research.google.com/assets/colab-badge.svg\" alt=\"Open In Colab\"/></a>"
      ]
    },
    {
      "cell_type": "markdown",
      "metadata": {
        "id": "FGNMaXumG17m"
      },
      "source": [
        "<a href=\"https://colab.research.google.com/github/ITBA-Python/Certificacion-Profesional-Python/blob/main/Clase_6.ipynb\" target=\"_parent\"><img src=\"https://colab.research.google.com/assets/colab-badge.svg\" alt=\"Open In Colab\"/></a>"
      ]
    },
    {
      "cell_type": "markdown",
      "metadata": {
        "id": "UShQ7MbxF39r"
      },
      "source": [
        "<img src=\"https://raw.githubusercontent.com/ITBA-Python/Certificacion-Profesional-Python/main/assets/clase2/Headers%20c%C3%A1talogo_Mesa%20de%20trabajo%201%20copia%2044.jpg\" width=\"800\">\n",
        "\n",
        "\n",
        "\n",
        "# Certificación profesional de Python\n",
        "\n",
        "#### _Resueltos de [@GonzaloMartin](https://github.com/GonzaloMartin)._\n",
        "\n",
        "# Clase 6\n",
        "\n",
        "El objetivo de la clase es seguir sumando experiencia de trabajo con programación aprendiendo los siguientes temas.\n",
        "\n",
        "*   Páginas web\n",
        "*   Servicios web y formato XML\n",
        "\n",
        "La clase incluye teoría y práctica sobre cada tema aprendido.\n",
        "\n",
        "<img src=\"https://raw.githubusercontent.com/ITBA-Python/Certificacion-Profesional-Python/main/assets/clase2/LOGOTIPO_sin_fondo_positivo_sin_bajada.png\" width=\"400\">\n",
        "\n"
      ]
    },
    {
      "cell_type": "markdown",
      "metadata": {
        "id": "QEoAOAYnG17s"
      },
      "source": [
        "# Páginas web"
      ]
    },
    {
      "cell_type": "markdown",
      "metadata": {
        "id": "o9eCXYwHG17s"
      },
      "source": [
        "Empezaremos viendo el funcionamiento de la web para luego poder interacturar a través de Python.\n"
      ]
    },
    {
      "cell_type": "markdown",
      "metadata": {
        "id": "a77tLai7G17t"
      },
      "source": [
        "## Repaso - Modelo cliente y servidor"
      ]
    },
    {
      "cell_type": "markdown",
      "metadata": {
        "id": "U4pmyneHG17t"
      },
      "source": [
        "En la web las transferencias de datos siguen el modelo de cliente y servidor que vimos anteriormente.\n",
        "\n",
        "<img src=\"https://mdn.mozillademos.org/files/17299/Cliente-Servidor.png\" width=\"400\">\n",
        "\n",
        "Recordemos que el servidor es el que se encarga de almacenar y brindar los datos, mientras que el cliente es el que solicita estos datos. Todas estas comunicaciones en la web utilizan además el protocolo HTTP, sobre el protocolo de TCP/IP. El cliente hace requests HTTP, mientras que el servidor responde a éstos con responses HTTP.\n",
        "\n",
        "Los clientes en este caso son los dispositivos de los usuarios que se conectan a la web, como por ejemplo la computadora o el celular, y el software que utilizan para acceder a la web, el navegador.\n",
        "El navegador es un programa que se ejecuta en el dispositivo de cada usuario y es el que se encarga de enviar los requests HTTP y procesar las respuestas del servidor.\n",
        "\n",
        "Los servidores por otro lado son los dispositivos que almacenan páginas web y responden a los requests de los navegadores.\n"
      ]
    },
    {
      "cell_type": "markdown",
      "metadata": {
        "id": "2KZ6zmq7G17t"
      },
      "source": [
        "## Direcciones web"
      ]
    },
    {
      "cell_type": "markdown",
      "metadata": {
        "id": "3TC6FqJ_G17u"
      },
      "source": [
        "Vimos anteriormente que para comunicarnos con otro dispositivo en Internet necesitamos conocer su dirección IP y puerto para establecer la conexión. En la web ésto funciona de la misma manera, pero el usuario nunca ingresa en un navegador una dirección IP del estilo 54.32.10.01. ¿Cómo funciona entonces el navegador?\n",
        "\n",
        "Las direcciones IP no son fáciles de recordar por los usuarios, como sí lo puede ser una dirección del estilo google.com. Por eso existen unos servidores especiales en Internet, los servidores de nombres de dominio o DNS.\n",
        "Estos servidores se encargan convertir una dirección web como las que utilizamos todos los días, en la dirección IP correspondiente. Por ejemplo, la dirección IP 142.251.40.142 se converite en la dirección google.com. Pueden comprobar la dirección IP de una página con la siguiente herramienta: <a href=\"https://ipinfo.info/html/ip_checker.php\">IP Checker</a>\n",
        "\n",
        "El puerto por otro lado se utiliza siempre el puerto 80 para las comunicaciones en la web."
      ]
    },
    {
      "cell_type": "markdown",
      "metadata": {
        "id": "lXa0MXr6G17v"
      },
      "source": [
        "## Funcionamiento de la web"
      ]
    },
    {
      "cell_type": "markdown",
      "metadata": {
        "id": "6R8gy_2MG17v"
      },
      "source": [
        "Cuando un usuario quiere ingresar a una página web, por ejemplo google.com, se realizan una serie de pasos hasta que la página aparece en la pantalla.\n",
        "\n",
        "- El usuario abre el navegador, e ingresa la dirección que quiere. Para este ejemplo, escribe google.com.\n",
        "- El navegador envía un request al servidor DNS para encontrar la dirección IP de google.com, en este caso obtiene 142.251.40.142.\n",
        "- El navegador hace un request HTTP al servidor de la dirección IP obtenida, y le pide una copia de la página web.\n",
        "- El servidor recibe el request y devuelve un response HTTP con el código 200 OK. Luego envía la página web por medio de paquetes.\n",
        "- El navegador toma todos los paquetes que corresponden a la página web, los procesa, construye la página completa y la muestra en el pantalla."
      ]
    },
    {
      "cell_type": "markdown",
      "metadata": {
        "id": "HbWwJmd6G17w"
      },
      "source": [
        "## Componentes de la web"
      ]
    },
    {
      "cell_type": "markdown",
      "metadata": {
        "id": "NH43XuSZG17w"
      },
      "source": [
        "Anteriormente mencionamos que el servidor envía la página web en paquetes, pero cómo esta formada exactamente una página web? Una página se compone de varios archivos diferentes de código, principalmente HTML, CSS Y Javascript.\n",
        "\n",
        "- HTML: lenguaje de marcado de hipertexto, es un lenguaje de marcado que define la estructura básica y el contenido de una página web. Utiliza etiquetas para delimitar los componentes de la página y agregar información adicional sobre la presentación o la estructura del texto.\n",
        "- CSS: es un lenguaje de diseño que permite definir la presentación de un documento estructurado con un lenguaje de marcado.\n",
        "- Javascript: es un lenguaje de programación interpretado, similar en su funcionalidad a Python a diferencia de los otros lenguajes de la web, que se utiliza para mejorar la funcionalidad e interacción de usuario de una página."
      ]
    },
    {
      "cell_type": "markdown",
      "metadata": {
        "id": "uuCAvKRtG17w"
      },
      "source": [
        "A modo de ejemplo vamos a ver las diferencias entre un request GET a un servidor web y un request GET como los que vimos en clases anteriores.\n",
        " - Identifiquen las diferencias entre las respuestas al GET en ambos casos."
      ]
    },
    {
      "cell_type": "code",
      "execution_count": 1,
      "metadata": {
        "id": "eHRG-YhxG17x",
        "outputId": "9c30b81e-f7cd-4804-a977-7049cbbee7f4",
        "colab": {
          "base_uri": "https://localhost:8080/"
        }
      },
      "outputs": [
        {
          "output_type": "stream",
          "name": "stdout",
          "text": [
            "# Certificación Profesional Python\n",
            "\n",
            "Hoy en día todos los objetos que nos rodean poseen una pieza de código, cada día poseemos más dispositivos inteligentes, desde heladeras hasta tostadoras inteligentes. Por esta razón es muy importante aprender a programar para entender el mundo que nos rodea. La industria del software fue estimada en 58 Bn USD en 2021 y se espera que crezca a 79 Bn para 2026, por lo que la capacidad de comprender código y poseer las nociones básicas de programación permitirán \n"
          ]
        }
      ],
      "source": [
        "import requests\n",
        "\n",
        "## Request GET al archivo RAW del readme del repositorio de este curso.\n",
        "r = requests.get(\"https://raw.githubusercontent.com/ITBA-Python/Certificacion-Profesional-Python/main/README.md\")\n",
        "print(r.text[:500])\n",
        "\n",
        "## Guardo los contenidos en un archivo\n",
        "with open(\"readme.md\", \"wb\") as fp:\n",
        "    fp.write(r.content)"
      ]
    },
    {
      "cell_type": "code",
      "execution_count": 11,
      "metadata": {
        "id": "uyhWQC5vG17y",
        "outputId": "b92ad2b1-5978-4c84-ddd3-2f0e295bfa7a",
        "colab": {
          "base_uri": "https://localhost:8080/"
        }
      },
      "outputs": [
        {
          "output_type": "stream",
          "name": "stdout",
          "text": [
            "{\"payload\":{\"allShortcutsEnabled\":false,\"fileTree\":{\"\":{\"items\":[{\"name\":\"__pycache__\",\"path\":\"__pycache__\",\"contentType\":\"directory\"},{\"name\":\"assets\",\"path\":\"assets\",\"contentType\":\"directory\"},{\"name\":\"proyecto_noticias\",\"path\":\"proyecto_noticias\",\"contentType\":\"directory\"},{\"name\":\".gitignore\",\"path\":\".gitignore\",\"contentType\":\"file\"},{\"name\":\"Clase_1.ipynb\",\"path\":\"Clase_1.ipynb\",\"contentType\":\"file\"},{\"name\":\"Clase_2.ipynb\",\"path\":\"Clase_2.ipynb\",\"contentType\":\"file\"},{\"name\":\"Clase_3.ipynb\",\"path\":\"Clase_3.ipynb\",\"contentType\":\"file\"},{\"name\":\"Clase_4.ipynb\",\"path\":\"Clase_4.ipynb\",\"contentType\":\"file\"},{\"name\":\"Clase_5.ipynb\",\"path\":\"Clase_5.ipynb\",\"contentType\":\"file\"},{\"name\":\"Clase_\n"
          ]
        }
      ],
      "source": [
        "## Request GET al servidor de github donde esta almacenado el archivo readme del repositorio del curso.\n",
        "r = requests.get(\"https://github.com/ITBA-Python/Certificacion-Profesional-Python/blob/main/README.md\")\n",
        "print(r.text[0:700])\n",
        "\n",
        "## Guardo los contenidos en un archivo para ver la página web obtenida\n",
        "with open(\"readme.html\", \"wb\") as fp:\n",
        "    fp.write(r.content)"
      ]
    },
    {
      "cell_type": "code",
      "source": [
        "r = requests.get('https://www.google.com')\n",
        "print(r.text[:1000])"
      ],
      "metadata": {
        "id": "sNsNEDi8PIM7",
        "outputId": "f4cac542-3feb-4a8c-e769-452e2c98ed09",
        "colab": {
          "base_uri": "https://localhost:8080/"
        }
      },
      "execution_count": 14,
      "outputs": [
        {
          "output_type": "stream",
          "name": "stdout",
          "text": [
            "<!doctype html><html itemscope=\"\" itemtype=\"http://schema.org/WebPage\" lang=\"nl\"><head><meta content=\"text/html; charset=UTF-8\" http-equiv=\"Content-Type\"><meta content=\"/images/branding/googleg/1x/googleg_standard_color_128dp.png\" itemprop=\"image\"><title>Google</title><script nonce=\"FURrHNkR8OVVwAK85Pj9FA\">(function(){var _g={kEI:'7UlUZea1GdqLi-gPtaOGuAQ',kEXPI:'0,1365467,207,4804,2316,383,246,5,1129120,1920,1195792,689,380090,16114,28684,22430,1362,12317,2818,14764,4998,17075,41316,2891,3926,7828,606,63304,3783,9708,230,20583,4,59617,4437,22607,6630,7596,1,11942,30212,2,39761,5679,1020,31122,4569,10,2,6246,23418,1252,59701,8155,8861,14489,874,19633,9,1920,9779,42459,20198,5797,8,14428,13247,6959,4069,4308,18960,5403,3030,15816,1804,16068,4944,1825,3571,8861,11813,1635,13493,21120,5224955,6465,275,190,2,580,132,81,158,116,111,5993787,2803214,3311,141,795,29954,4,18,2,58,20,15,30,2,5,2,23940457,2772895,1271212,16672,40903,2984,3,2105,3,569,3,1310,1392060,727333,1,23031936,4117,2752,4715\n"
          ]
        }
      ]
    },
    {
      "cell_type": "markdown",
      "metadata": {
        "id": "05MzgT6JG17z"
      },
      "source": [
        "Como podemos ver, el request GET que hacemos a la dirección web en github es lo mismo que hace el navegador cuando entramos a esa página. El navegador es capaz de entender ese código y mostrar en pantalla cada elemento de la página web.\n",
        "\n",
        "Desde nuestro código de Python, podemos también parsear el contenido de ésta respuesta para hacer algún tipo de procesamiento. Por ejemplo, en este caso podríamos contar la cantidad de secciones o la cantidad de palabras.\n",
        "Hay muchas herramientas en Python que nos facilitan el parseo de páginas web, como Pandas (<a href=\"https://pandas.pydata.org/docs/\">Documentación</a>, <a href=\"https://towardsdatascience.com/scraping-tabular-data-with-pandas-python-10cf2a133cbf\">Parseo de HTML</a>) o Beautiful Soup (<a href=\"https://beautiful-soup-4.readthedocs.io/en/latest/\">Documentación</a>)."
      ]
    },
    {
      "cell_type": "markdown",
      "metadata": {
        "id": "hXlTg5heG17z"
      },
      "source": [
        "# Servicios web y XML"
      ]
    },
    {
      "cell_type": "markdown",
      "metadata": {
        "id": "LZCtHfi6G170"
      },
      "source": [
        "Hasta ahora vimos que al hacer requests de tipo GET a una página web podemos obtener el código HTML o si hacemos GET a un archivo específico obtenemos ese archivo. Pero también hay aplicaciones de software que tienen interfaces mediante las que permiten interactuar con la aplicación a través de la red. Estos son los llamados servicios web, que intercambiando mensajes permiten intercambiar datos."
      ]
    },
    {
      "cell_type": "markdown",
      "metadata": {
        "id": "ZlgrW45oG170"
      },
      "source": [
        "Existen múltiples estándares que se utilizan para comunicarse con un servicio web, y éste dependerá de la implementación en particular de cada servicio. Podemos encontrar servicios que utilizan el protocolo SOAP (Simple Object Access Protocol) o XML-RPC (XML Remote Procedure Call).\n",
        "En general, el formato utilizado para el intercambio de datos es el XML."
      ]
    },
    {
      "cell_type": "markdown",
      "metadata": {
        "id": "TU1VwAIaG170"
      },
      "source": [
        "## XML"
      ]
    },
    {
      "cell_type": "markdown",
      "metadata": {
        "id": "O9rJYjKdG170"
      },
      "source": [
        "El formato XML (Lenguaje de marcas extensible) es un lenguaje de marcas al igual que HTML. Sin embargo, en lugar de utilzarse para definir la estructura de una página web, se utiliza para almacenar datos y estructurar documentos. Es muy utilizado para el intercambio de datos en internet, junto con el formato JSON.\n",
        "\n",
        "En el caso de los servicios web, muchas veces utilizan este formato para el intercambio de datos ya que fue diseñado para ser fácilmente legible tanto por personas como por programas de software."
      ]
    },
    {
      "cell_type": "markdown",
      "metadata": {
        "id": "WZfohebUG171"
      },
      "source": [
        "Ejemplo de archivo XML:\n",
        "```xml\n",
        "<?xml version=\"1.0\" encoding=\"UTF-8\" ?>\n",
        "<!DOCTYPE Edit_Mensaje SYSTEM \"Edit_Mensaje.dtd\">\n",
        "\n",
        "<Edit_Mensaje>\n",
        "     <Mensaje>\n",
        "          <Remitente>\n",
        "               <Nombre>Nombre del remitente</Nombre>\n",
        "               <Mail> Correo del remitente </Mail>\n",
        "          </Remitente>\n",
        "          <Destinatario>\n",
        "               <Nombre>Nombre del destinatario</Nombre>\n",
        "               <Mail>Correo del destinatario</Mail>\n",
        "          </Destinatario>\n",
        "          <Texto>\n",
        "               <Asunto>\n",
        "                    Este es mi documento con una estructura muy sencilla\n",
        "                    no contiene atributos ni entidades...\n",
        "               </Asunto>\n",
        "               <Parrafo>\n",
        "                    Este es mi documento con una estructura muy sencilla\n",
        "                    no contiene atributos ni entidades...\n",
        "               </Parrafo>\n",
        "          </Texto>\n",
        "     </Mensaje>\n",
        "</Edit_Mensaje>\n",
        "```"
      ]
    },
    {
      "cell_type": "markdown",
      "metadata": {
        "id": "50uBJraQG171"
      },
      "source": [
        "Típicamente se puede pensar un archivo XML como una estructura en forma de árbol, donde cada etiqueta representa un nodo del árbol y las etiquetas que ésta contiene representan los hijos de ese nodo.\n",
        "\n",
        "<img src=\"https://media.geeksforgeeks.org/wp-content/cdn-uploads/parsing-XML.gif\" width=\"400\">"
      ]
    },
    {
      "cell_type": "markdown",
      "metadata": {
        "id": "zpuGVBU-G171"
      },
      "source": [
        "### RSS"
      ]
    },
    {
      "cell_type": "markdown",
      "metadata": {
        "id": "ROm6R6PQG172"
      },
      "source": [
        "RSS es simplemente un formato XML que se utiliza para distribuir contenido en la web, típicamente para datos que son actualizados frecuentemente como entradas de blogs y feeds de noticias."
      ]
    },
    {
      "cell_type": "markdown",
      "metadata": {
        "id": "wDMsiFwYG172"
      },
      "source": [
        "### Parseo de XML y RSS"
      ]
    },
    {
      "cell_type": "markdown",
      "metadata": {
        "id": "KAsgYctqG172"
      },
      "source": [
        "Python nos permite procesar los datos que obtenemos de un servicio web mediante requests HTTP, analizando y parseando los datos en formato XML. Para ésto contamos con el módulo xml de Python (<a href=\"https://docs.python.org/3/library/xml.etree.elementtree.html\">Documentación</a>).\n",
        "\n",
        "Los más importante a destacar de éste módulo es que nos brinda dos tipos de objetos para representar un XML, siguiendo la estructura de árbol:\n",
        " - ElementTree: representa todo el XML.\n",
        " - Element: representa cada nodo del árbol XML."
      ]
    },
    {
      "cell_type": "code",
      "execution_count": 15,
      "metadata": {
        "id": "T-B9VPjnG172"
      },
      "outputs": [],
      "source": [
        "# Obtenemos primero un RSS de un sitio de noticias, y lo guardamos como XML.\n",
        "\n",
        "r = requests.get(\"https://www.ole.com.ar/rss/ultimas-noticias/\")\n",
        "with open(\"news_feed.xml\", \"wb\") as fp:\n",
        "    fp.write(r.content)"
      ]
    },
    {
      "cell_type": "code",
      "execution_count": 16,
      "metadata": {
        "id": "tVArzoOWG173",
        "outputId": "67188667-088e-4325-cd5d-ba3d969eb4aa",
        "colab": {
          "base_uri": "https://localhost:8080/"
        }
      },
      "outputs": [
        {
          "output_type": "stream",
          "name": "stdout",
          "text": [
            "rss {'version': '2.0'}\n",
            "channel\n",
            "Hay 10 items en el XML\n",
            "Primer item de noticia: Tras una durísima interna, Riquelme presentó su lista\n"
          ]
        }
      ],
      "source": [
        "import xml.etree.ElementTree as ET\n",
        "\n",
        "# Parseamos el XML - obtenemos el ElementTree\n",
        "tree = ET.parse(\"news_feed.xml\")\n",
        "\n",
        "# Obtenemos un Element de la base del XML\n",
        "root = tree.getroot()\n",
        "print(root.tag, root.attrib)\n",
        "\n",
        "# Recorremos todos los hijos de la base\n",
        "for child in root:\n",
        "    print(child.tag)\n",
        "\n",
        "# Buscar elementos\n",
        "items = root.findall(\"./channel/item\")\n",
        "print(f\"Hay {len(items)} items en el XML\")\n",
        "print(\"Primer item de noticia:\", items[0].find(\"title\").text)"
      ]
    },
    {
      "cell_type": "markdown",
      "metadata": {
        "id": "3_YFqLiZG173"
      },
      "source": [
        "Existen múltiples servicios web en Argentina que proveen feeds de noticias en formato RSS. Listamos algunas:\n",
        "\n",
        "- <a href=\"https://www.clarin.com/rss.html\">Clarín</a>\n",
        "- <a href=\"https://www.perfil.com/canales-rss\">Perfil</a>\n",
        "- <a href=\"https://www.pagina12.com.ar/pagina/rss\">Página 12</a>\n",
        "- <a href=\"https://www.ole.com.ar/filer/RSS/rss.html\">Olé</a>"
      ]
    },
    {
      "cell_type": "markdown",
      "metadata": {
        "id": "ZLi6720fG174"
      },
      "source": [
        "### Ejercicios"
      ]
    },
    {
      "cell_type": "markdown",
      "metadata": {
        "id": "TowMIwt9G174"
      },
      "source": [
        "1) Tomar todas las noticias del RSS analizado anteriormente y convertir la información en una lista de diccionarios con la información más importante de cada noticia.\n",
        "\n",
        "2) Contar cuántas noticias hablan sobre Messi en los RSS de noticias Argentinas.\n",
        "\n",
        "3) Contar cúantas noticias hablan sobre el dólar en la sección de Economía de por lo menos 2 sitios web.\n",
        "\n",
        "4) Imprimir por pantalla las últimas tres noticias con la siguiente información: título, fecha, link a la noticia en su respectiva web + descripción (si tiene)."
      ]
    },
    {
      "cell_type": "code",
      "execution_count": null,
      "metadata": {
        "id": "qi4__24yG174"
      },
      "outputs": [],
      "source": []
    }
  ],
  "metadata": {
    "colab": {
      "name": "Clase 6.ipynb",
      "provenance": [],
      "include_colab_link": true
    },
    "interpreter": {
      "hash": "8a94588eda9d64d9e9a351ab8144e55b1fabf5113b54e67dd26a8c27df0381b3"
    },
    "kernelspec": {
      "display_name": "Python 3.10.4 64-bit",
      "language": "python",
      "name": "python3"
    },
    "language_info": {
      "name": "python",
      "version": "3.10.4"
    }
  },
  "nbformat": 4,
  "nbformat_minor": 0
}