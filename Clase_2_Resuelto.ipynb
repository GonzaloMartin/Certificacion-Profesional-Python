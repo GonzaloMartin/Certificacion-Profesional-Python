{
  "nbformat": 4,
  "nbformat_minor": 0,
  "metadata": {
    "colab": {
      "name": "Clase 2.ipynb",
      "provenance": [],
      "include_colab_link": true
    },
    "kernelspec": {
      "name": "python3",
      "display_name": "Python 3"
    },
    "language_info": {
      "name": "python"
    }
  },
  "cells": [
    {
      "cell_type": "markdown",
      "metadata": {
        "id": "view-in-github",
        "colab_type": "text"
      },
      "source": [
        "<a href=\"https://colab.research.google.com/github/GonzaloMartin/ITBA-Certificacion-Profesional-Python/blob/main/Clase_2_Resuelto.ipynb\" target=\"_parent\"><img src=\"https://colab.research.google.com/assets/colab-badge.svg\" alt=\"Open In Colab\"/></a>"
      ]
    },
    {
      "cell_type": "markdown",
      "source": [
        "<img src=\"https://raw.githubusercontent.com/ITBA-Python/Certificacion-Profesional-Python/main/assets/clase2/Headers%20c%C3%A1talogo_Mesa%20de%20trabajo%201%20copia%2044.jpg\" width=\"800\">\n",
        "\n",
        "\n",
        "\n",
        "# Certificación profesional de Python\n",
        "#### _Resueltos de [@GonzaloMartin](https://github.com/GonzaloMartin)._\n",
        "\n",
        "# Clase 2\n",
        "\n",
        "El objetivo de la clase es obtener la primera experiencia de trabajo con programación aprendiendo los siguientes temas.\n",
        "\n",
        "*   Variables y expresiones\n",
        "*   Condicionales\n",
        "*   Funciones\n",
        "\n",
        "La clase incluye teoría y practica sobre cada tema aprendido.\n",
        "\n",
        "<img src=\"https://raw.githubusercontent.com/ITBA-Python/Certificacion-Profesional-Python/main/assets/clase2/LOGOTIPO_sin_fondo_positivo_sin_bajada.png\" width=\"400\">"
      ],
      "metadata": {
        "id": "aFkd0sZPjFy8"
      }
    },
    {
      "cell_type": "markdown",
      "source": [
        "# Variables y expresiones\n",
        "\n",
        "\n"
      ],
      "metadata": {
        "id": "Jq8-jZyGj737"
      }
    },
    {
      "cell_type": "markdown",
      "source": [
        "## Variables y tipos de datos"
      ],
      "metadata": {
        "id": "fw54Ebb72AzD"
      }
    },
    {
      "cell_type": "markdown",
      "source": [
        "### Variables"
      ],
      "metadata": {
        "id": "5RWPQDJZ2KaL"
      }
    },
    {
      "cell_type": "markdown",
      "source": [
        "\n",
        "Para poder realizar cualquier tipo de procesamiento en la computadora es necesario almacenar los datos que van a ser utilizados en el programa. Para esto son utilizadas las variables.\n",
        "\n",
        "Los programadores deben realizar ciertos pasos para asignar una variable:\n",
        "\n",
        "\n",
        "*  Definir el nombre de la variable. Es recomendable que el nombre de la variable exprese lo que va a ser guardado en ella. Las reglas para poner un nombre son:\n",
        "   *   Debe empezar con una letra (a-z, A-Z) o un guión bajo (_).\n",
        "   *   Los otros caracteres pueden ser letras, números o guión bajo.\n",
        "   *   Distingue mayúsculas de minúsculas.\n",
        "   *   Existen palabras reservadas que no se pueden usar como nombre de variable porque Python las usa para otras cosas. Por ejemplo, el nombre de una variable no puede ser print.\n",
        "*  Escribir el nombre de la variable\n",
        "*  Escribir el valor inicial, separado con un `=`.\n",
        "\n",
        "Ejemplo:\n",
        "\n"
      ],
      "metadata": {
        "id": "19NOTVPi18aE"
      }
    },
    {
      "cell_type": "code",
      "source": [
        "x = 5\n",
        "z = \"Hola\""
      ],
      "metadata": {
        "id": "a3X2ukP_xuHT"
      },
      "execution_count": 1,
      "outputs": []
    },
    {
      "cell_type": "markdown",
      "source": [
        "El código anterior tiene el significado de:\n",
        "```\n",
        "Se crea una variable x y se le asigna el valor 5.\n",
        "Se crea una variable z y se le asigna el valor \"Hola\".\n",
        "```\n",
        "\n"
      ],
      "metadata": {
        "id": "oEYa6Vg7xzUX"
      }
    },
    {
      "cell_type": "markdown",
      "source": [
        "### Tipos de datos"
      ],
      "metadata": {
        "id": "WWTF5TGr2M0o"
      }
    },
    {
      "cell_type": "markdown",
      "source": [
        "\n",
        "\n",
        "Los tipos de datos establecen cuál es el significado de la información contenida en una variable.\n",
        "\n",
        "Si bien existen muchos tipos de datos, analizaremos los básicos del lenguaje:\n",
        "\n",
        "\n",
        "\n",
        "*  int. El tipo \"int\" o entero es un tipo de dato que puede almacenar números enteros. Para definirlo simplemente se escribe un número sin coma. Ej: `x = 5`\n",
        "*  float. El tipo \"float\" o número flotante, es un tipo de dato que almacena números con decimales. Para definirlo simplemente se escribe un número con `.`. Ej `x = 5.5`\n",
        "*  str. El tipo \"str\" o cadena es un tipo de dato que almacena cadenas de texto. Para definirlo hay que escribir un texto entre comillas simples `'` o comillas dobles `\"`. Ej: `x = \"hola\"`\n",
        "*  bool. El tipo \"bool\"o dato booleano representa un valor verdadero o falso. Para definirlo hay que escribir `True` o `False`. Ej: `x = True`.\n",
        "\n",
        "\n",
        "\n",
        ""
      ],
      "metadata": {
        "id": "7lDzUncjyMZ2"
      }
    },
    {
      "cell_type": "code",
      "source": [
        "entero   = 12\n",
        "flotante = 12.5\n",
        "cadena   = \"hola\"\n",
        "booleano = True"
      ],
      "metadata": {
        "id": "8KxfEEH1zitz"
      },
      "execution_count": null,
      "outputs": []
    },
    {
      "cell_type": "markdown",
      "source": [
        "**Pregunta:**\n",
        "\n",
        "¿De que tipo es la variable x?"
      ],
      "metadata": {
        "id": "31y8b5mizp73"
      }
    },
    {
      "cell_type": "code",
      "source": [
        "x = '123'\n",
        "# Es de tipo String"
      ],
      "metadata": {
        "id": "Y_w845xvz2q6"
      },
      "execution_count": null,
      "outputs": []
    },
    {
      "cell_type": "markdown",
      "source": [
        "Se puede convertir entre tipos de variables utilizando sus nombres como una función."
      ],
      "metadata": {
        "id": "56jzhMhezg_a"
      }
    },
    {
      "cell_type": "code",
      "source": [
        "entero = 123\n",
        "cadena = str(entero)\n",
        "\n",
        "cadena"
      ],
      "metadata": {
        "id": "KfPj2beL0t-h"
      },
      "execution_count": null,
      "outputs": []
    },
    {
      "cell_type": "code",
      "source": [
        "cadena = '12.5'\n",
        "flotante = float(cadena)\n",
        "\n",
        "flotante"
      ],
      "metadata": {
        "id": "w9xJqbMN0-oa"
      },
      "execution_count": null,
      "outputs": []
    },
    {
      "cell_type": "markdown",
      "source": [
        "**Pregunta:**\n",
        "\n",
        "¿Cuál va a ser la salida del siguiente código?\n"
      ],
      "metadata": {
        "id": "2QNYgmIL034o"
      }
    },
    {
      "cell_type": "code",
      "source": [
        "flotante = 14.5\n",
        "\n",
        "entero = int(flotante)\n",
        "\n",
        "entero"
      ],
      "metadata": {
        "id": "43DzpPOv1Olg",
        "outputId": "0b094f00-1610-4eca-9c11-cdd49523df13",
        "colab": {
          "base_uri": "https://localhost:8080/"
        }
      },
      "execution_count": 4,
      "outputs": [
        {
          "output_type": "execute_result",
          "data": {
            "text/plain": [
              "14"
            ]
          },
          "metadata": {},
          "execution_count": 4
        }
      ]
    },
    {
      "cell_type": "markdown",
      "source": [
        "## Input y Output"
      ],
      "metadata": {
        "id": "VjjJILUh2PpE"
      }
    },
    {
      "cell_type": "markdown",
      "source": [
        "### Output"
      ],
      "metadata": {
        "id": "GWTMzZOq2RVI"
      }
    },
    {
      "cell_type": "markdown",
      "source": [
        "\n",
        "\n",
        "El \"output\" es la manera que tiene el programa de comunicar los resultados de sus procesos. Esta salida de datos puede tomar muchas formas, como por ejemplo imágenes, videos, gráficos, texto, etc.\n",
        "\n",
        "El método más simple en Python es **print**, este permite imprimir el resultado en la consola.\n",
        "\n",
        "**NOTA:** Para ejecutar el código pueden tocar el botón de play en el lado izquierdo del código.\n",
        "\n"
      ],
      "metadata": {
        "id": "X9acW84_wSUx"
      }
    },
    {
      "cell_type": "code",
      "source": [
        "print('hola mundo')\n",
        "print(123)"
      ],
      "metadata": {
        "id": "S02r7SoxuZLX",
        "outputId": "7eaa7744-d560-457c-98e4-b6999e4a514e",
        "colab": {
          "base_uri": "https://localhost:8080/"
        }
      },
      "execution_count": 5,
      "outputs": [
        {
          "output_type": "stream",
          "name": "stdout",
          "text": [
            "hola mundo\n",
            "123\n"
          ]
        }
      ]
    },
    {
      "cell_type": "markdown",
      "source": [
        "Cada llamado a la función print imprime un nuevo renglón de texto, pero también pueden pasarle múltiples argumentos para que los imprima separados por un espacio.\n"
      ],
      "metadata": {
        "id": "BPgVFzQgu2tu"
      }
    },
    {
      "cell_type": "code",
      "source": [
        "print(\"El número es\", 23,\"(veintitres).\")"
      ],
      "metadata": {
        "id": "4-ghkBQBvAy0",
        "outputId": "4a4293aa-46c7-48d0-8187-e3158cc2145d",
        "colab": {
          "base_uri": "https://localhost:8080/"
        }
      },
      "execution_count": 6,
      "outputs": [
        {
          "output_type": "stream",
          "name": "stdout",
          "text": [
            "El número es 23 (veintitres).\n"
          ]
        }
      ]
    },
    {
      "cell_type": "markdown",
      "source": [
        "### Input"
      ],
      "metadata": {
        "id": "VPtMD0aT2TB_"
      }
    },
    {
      "cell_type": "markdown",
      "source": [
        "\n",
        "El \"input\" es la manera que tiene el programa de recibir datos externos a él para ser procesados. Este puede tomar múltiples formas, como por ejemplo, un archivo, una solicitud de página web, texto, etc.\n",
        "\n",
        "La manera más simple de pedir input en Python es utilizando la función **input**. Esta la pueden utilizar de la siguiente manera:\n",
        "\n",
        "```python\n",
        "variable = input(\"Texto para pedir input\")\n",
        "```\n",
        "\n",
        "Esta función espera una entrada hasta que el usuario presiona enter.\n",
        "\n"
      ],
      "metadata": {
        "id": "-6VuRRycu0xR"
      }
    },
    {
      "cell_type": "code",
      "source": [
        "nombre = input(\"Escriba su nombre:\")\n",
        "\n",
        "print(\"Hola\", nombre, \"como estás?\")"
      ],
      "metadata": {
        "id": "VeQIKrJSvvRC",
        "outputId": "f24fbd15-3297-47c3-885c-56abaa448ae1",
        "colab": {
          "base_uri": "https://localhost:8080/"
        }
      },
      "execution_count": 7,
      "outputs": [
        {
          "output_type": "stream",
          "name": "stdout",
          "text": [
            "Escriba su nombre:Gonzalo\n",
            "Hola Gonzalo como estás?\n"
          ]
        }
      ]
    },
    {
      "cell_type": "markdown",
      "source": [
        "### Mini desafio 1"
      ],
      "metadata": {
        "id": "6w6qWAftEtb6"
      }
    },
    {
      "cell_type": "markdown",
      "source": [
        "\n",
        "\n",
        "Escribir un programa que  reciba tres datos. Nombre, apellido y edad, e imprima lo siguiente:\n",
        "\n",
        "```\n",
        "NOMBRE APELLIDO nacio hace EDAD años.\n",
        "```\n",
        "Ejemplo:\n",
        "```\n",
        "Santiago Ivulich nacio hace 25 años.\n",
        "```\n",
        "\n",
        "Escribir en la celda de código debajo:\n",
        "\n"
      ],
      "metadata": {
        "id": "5BphYMjf2VTD"
      }
    },
    {
      "cell_type": "code",
      "source": [
        "nombre = input(\"Ingrese su nombre: \")\n",
        "apellido = input(\"Ingrese su apellido: \")\n",
        "edad = input(\"Ingrese su edad: \")\n",
        "\n",
        "print(f\"{nombre.upper()} {apellido.upper()} nació hace {edad} años.\")\n"
      ],
      "metadata": {
        "id": "HtZsVn6v2-tD",
        "outputId": "a6b6a47e-ece6-41c9-ec8d-8f9b3ea5d787",
        "colab": {
          "base_uri": "https://localhost:8080/"
        }
      },
      "execution_count": 8,
      "outputs": [
        {
          "output_type": "stream",
          "name": "stdout",
          "text": [
            "Ingrese su nombre: Gonzalo\n",
            "Ingrese su apellido: Montalvo\n",
            "Ingrese su edad: 25\n",
            "GONZALO MONTALVO nació hace 25 años.\n"
          ]
        }
      ]
    },
    {
      "cell_type": "markdown",
      "source": [
        "## Expresiones y operaciones"
      ],
      "metadata": {
        "id": "-IzMWDlnucnZ"
      }
    },
    {
      "cell_type": "markdown",
      "source": [
        "### Operaciones aritmeticas"
      ],
      "metadata": {
        "id": "3GqE27vwEwjH"
      }
    },
    {
      "cell_type": "markdown",
      "source": [
        "\n",
        "\n",
        "En el lenguaje de python podemos realizar operaciones para modificar los datos recibidos y calcular las salidas necesarias.\n",
        "\n",
        "*  Suma de dos variables ( $a+b$ )\n",
        "```python\n",
        "a = 10\n",
        "b = 5\n",
        "c = a + b\n",
        "```\n",
        "*  Resta de dos variables ( $a-b$ )\n",
        "```python\n",
        "a = 10\n",
        "b = 5\n",
        "c = a - b\n",
        "```\n",
        "*  Multiplicación de dos variables ( $a \\cdot b$ )\n",
        "```python\n",
        "a = 10\n",
        "b = 5\n",
        "c = a * b\n",
        "```\n",
        "*  División de dos variables ( $a \\div b$ )\n",
        "```python\n",
        "a = 10\n",
        "b = 5\n",
        "c = a / b\n",
        "```\n",
        "*  Potencia de dos variables ( $a^{b}$ )\n",
        "```python\n",
        "a = 10\n",
        "b = 5\n",
        "c = a ** b\n",
        "```\n"
      ],
      "metadata": {
        "id": "r_xg5uPi_Lkc"
      }
    },
    {
      "cell_type": "markdown",
      "source": [
        "### Mini Desafio 2"
      ],
      "metadata": {
        "id": "T898EHBWEyzp"
      }
    },
    {
      "cell_type": "markdown",
      "source": [
        "\n",
        "\n",
        "Escribir un programa que pida al usuario el radio de un círculo en metros y calcule el área de un círculo `1m` más pequeño.\n",
        "\n"
      ],
      "metadata": {
        "id": "bPSMqd1y-z0Q"
      }
    },
    {
      "cell_type": "code",
      "source": [
        "radio = float(input(\"Ingrese el radio del círculo en metros: \"))\n",
        "area_original = 3.1416 * radio**2\n",
        "\n",
        "# Área del círculo con un radio 1 metro más pequeño\n",
        "nuevo_radio = radio - 1\n",
        "area_nueva = 3.1416 * nuevo_radio**2\n",
        "\n",
        "print(f\"El área de un círculo con radio {radio} metros es {area_original:.2f} m².\")\n",
        "print(f\"El área de un círculo con radio {nuevo_radio} metros es {area_nueva:.2f} m².\")"
      ],
      "metadata": {
        "id": "fH-7_GpG_E3A",
        "outputId": "f544504e-c9ea-4b70-cbd6-89459c112a69",
        "colab": {
          "base_uri": "https://localhost:8080/"
        }
      },
      "execution_count": 9,
      "outputs": [
        {
          "output_type": "stream",
          "name": "stdout",
          "text": [
            "Ingrese el radio del círculo en metros: 10\n",
            "El área de un círculo con radio 10.0 metros es 314.16 m².\n",
            "El área de un círculo con radio 9.0 metros es 254.47 m².\n"
          ]
        }
      ]
    },
    {
      "cell_type": "markdown",
      "source": [
        "### Operacion módulo y división entera"
      ],
      "metadata": {
        "id": "i63uTgA-E0u0"
      }
    },
    {
      "cell_type": "markdown",
      "source": [
        "\n",
        "\n",
        "Python nos permite calcular una división de números enteros así como también su resto.\n",
        "\n",
        "*  División entera ( $a \\div b$ )\n",
        "```python\n",
        "a = 10\n",
        "b = 3\n",
        "c = a // b # = 3\n",
        "```\n",
        "*  Resto de división o módulo ( $a \\mod b$ )\n",
        "```python\n",
        "a = 10\n",
        "b = 3\n",
        "c = a % b # = 1\n",
        "```\n",
        "\n"
      ],
      "metadata": {
        "id": "sbDlLZIy_HX8"
      }
    },
    {
      "cell_type": "markdown",
      "source": [
        "### Mini desafio 3"
      ],
      "metadata": {
        "id": "Hss2TFNDE2Z2"
      }
    },
    {
      "cell_type": "markdown",
      "source": [
        "\n",
        "En un mundo paralelo los minutos duran una cantidad arbitraria de segundos y el tiempo se mide unicamente en minutos, no existen las horas.\n",
        "\n",
        "Se pide escribir un programa que pida al usuario la duración de estos minutos y una cantidad de segundos.\n",
        "\n",
        "La salida del programa debe ser `X segundos son MINUTOS:SEGUNDOS`. Ejemplo:\n",
        "```shell\n",
        ">>> Ingrese segundos por minuto: 15\n",
        ">>> Ingrese la cantidad de segundos: 100\n",
        "100 segundos son 6:10\n",
        "```\n",
        "**NOTA**: >>> significa que el programa pidió un input al usuario."
      ],
      "metadata": {
        "id": "C27WpGYmAh05"
      }
    },
    {
      "cell_type": "code",
      "source": [
        "segundos_por_minuto = int(input(\"Ingrese segundos por minuto: \"))\n",
        "cantidad_de_segundos = int(input(\"Ingrese la cantidad de segundos: \"))\n",
        "\n",
        "# Calcular minutos y segundos\n",
        "minutos = cantidad_de_segundos // segundos_por_minuto\n",
        "segundos_restantes = cantidad_de_segundos % segundos_por_minuto\n",
        "print(f\"{cantidad_de_segundos} segundos son {minutos}:{segundos_restantes:02}\")\n"
      ],
      "metadata": {
        "id": "NaKwdl18CXIU",
        "outputId": "5b3f15bc-2521-4399-9896-3ce2e74a17d1",
        "colab": {
          "base_uri": "https://localhost:8080/"
        }
      },
      "execution_count": 10,
      "outputs": [
        {
          "output_type": "stream",
          "name": "stdout",
          "text": [
            "Ingrese segundos por minuto: 15\n",
            "Ingrese la cantidad de segundos: 100\n",
            "100 segundos son 6:10\n"
          ]
        }
      ]
    },
    {
      "cell_type": "markdown",
      "source": [
        "### Operaciones de comparación"
      ],
      "metadata": {
        "id": "fkTPTQ2kE4su"
      }
    },
    {
      "cell_type": "markdown",
      "source": [
        "\n",
        "\n",
        "Las operaciones comparación nos permiten evaluar si dos valores cumplen una relación.\n",
        "\n",
        "*   Mayor ( $a > b$ )\n",
        "```python\n",
        "a = 10\n",
        "b = 3\n",
        "c = a > b # = True\n",
        "```\n",
        "*   Mayor o igual ( $a \\ge b$ )\n",
        "```python\n",
        "a = 10\n",
        "b = 3\n",
        "c = a >= b # = True\n",
        "```\n",
        "*   Menor ( $a < b$ )\n",
        "```python\n",
        "a = 10\n",
        "b = 3\n",
        "c = a < b # = False\n",
        "```\n",
        "*   Menor o igual ( $a \\le b$ )\n",
        "```python\n",
        "a = 10\n",
        "b = 3\n",
        "c = a <= b # = False\n",
        "```\n",
        "*   Igual ( $a = b$ )\n",
        "```python\n",
        "a = 10\n",
        "b = 3\n",
        "c = a == b # = False\n",
        "```\n",
        "*   Distinto ( $a \\neq b$ )\n",
        "```python\n",
        "a = 10\n",
        "b = 3\n",
        "c = a != b # = False\n",
        "```"
      ],
      "metadata": {
        "id": "8Z3I-Ud0CXmg"
      }
    },
    {
      "cell_type": "markdown",
      "source": [
        "### Operaciones lógicas"
      ],
      "metadata": {
        "id": "Rj9alDgJE66H"
      }
    },
    {
      "cell_type": "markdown",
      "source": [
        "\n",
        "\n",
        "Estas operaciones las podemos convinar utilizando operaciones logicas:\n",
        "*   Y ( $a \\land b$ )\n",
        "```python\n",
        "a = True\n",
        "b = False\n",
        "c = a and b # = False\n",
        "```\n",
        "*   O ( $a \\lor b$ )\n",
        "```python\n",
        "a = True\n",
        "b = False\n",
        "c = a or b # = True\n",
        "```\n",
        "*   Negado ( $\\lnot a$ )\n",
        "```python\n",
        "a = True\n",
        "c = not a  # = False\n",
        "```\n",
        "*   Xor / O Exclusivo ( $a \\oplus b$ )\n",
        "```python\n",
        "a = True\n",
        "b = False\n",
        "c = a ^ b  # = True\n",
        "```"
      ],
      "metadata": {
        "id": "GgRkYb_MEKQY"
      }
    },
    {
      "cell_type": "markdown",
      "source": [
        "### Mini Desafio 4\n",
        "Una fabrica de caños produce dos productos, un caño de 1.5m y otro de 3m. En el control de calidad se busca que la medida no difiera en mas de 1cm de la longitud esperada.\n",
        "\n",
        "El manager te pidio realizar un programa en el que la persona de calidad pueda ingresar la longitud de un caño en centimetros y le diga si esta en regla o no. Para ello unicamente podes utilizar 3 lineas de codigo y la ultima debe ser:\n",
        "```python\n",
        "print('El caño esta en regla:', en_regla)\n",
        "```\n"
      ],
      "metadata": {
        "id": "0ZjU-1yEENeX"
      }
    },
    {
      "cell_type": "code",
      "source": [
        "longitud_centimetros = float(input(\"Ingrese la longitud del caño en centímetros: \"))\n",
        "en_regla = abs(longitud_centimetros - 150) <= 1 or abs(longitud_centimetros - 300) <= 1\n",
        "print('El caño está en regla:', en_regla)\n"
      ],
      "metadata": {
        "id": "ZKbn3cmlGYbc",
        "outputId": "e2ef8f13-9480-4448-f6a9-c25a7cc4ba6a",
        "colab": {
          "base_uri": "https://localhost:8080/"
        }
      },
      "execution_count": 12,
      "outputs": [
        {
          "output_type": "stream",
          "name": "stdout",
          "text": [
            "Ingrese la longitud del caño en centímetros: 150\n",
            "El caño está en regla: True\n"
          ]
        }
      ]
    },
    {
      "cell_type": "markdown",
      "source": [
        "# Control de flujo condicional"
      ],
      "metadata": {
        "id": "nb-g5CA1tVeC"
      }
    },
    {
      "cell_type": "markdown",
      "source": [
        "Existe una estructura en Python denomida **if** que permite realizar una serie de instrucciones si se cumple una condición. Esta sigue la siguiente sintaxis:\n",
        "```python\n",
        "if condicion1:\n",
        "    # Si se cumple condicion 1\n",
        "    ...\n",
        "elif condicion2:\n",
        "    # Si se cumple condicion 2\n",
        "    ...\n",
        "else:\n",
        "    # Si no se cumple ninguna condición\n",
        "    ...\n",
        "```\n",
        "Esto nos permite controlar el flujo de programa y ejecutar ciertas instrucciones en casos especificos.\n",
        "\n",
        "Ejemplo:"
      ],
      "metadata": {
        "id": "eqLFsMZ5Gpu9"
      }
    },
    {
      "cell_type": "code",
      "source": [
        "numero = 5\n",
        "if numero < 0:\n",
        "    print(\"el número es negativo\")\n",
        "else:\n",
        "    print(\"el número es positivo\")"
      ],
      "metadata": {
        "id": "d3uAlscUHaxE"
      },
      "execution_count": null,
      "outputs": []
    },
    {
      "cell_type": "markdown",
      "source": [
        "### Mini desafío 5"
      ],
      "metadata": {
        "id": "VGpmauZTHt8P"
      }
    },
    {
      "cell_type": "markdown",
      "source": [
        "Ahora el manager del desafío 4 nos permite utilizar más lineas de código pero el programa debe tener las siguientes salidas:\n",
        "\n",
        "*   Si el caño esta en regla:\n",
        "```\n",
        "El caño esta en regla.\n",
        "```\n",
        "*   Si no esta en regla:\n",
        "```\n",
        "El caño no cumple la tolerancia de calidad.\n",
        "```"
      ],
      "metadata": {
        "id": "6_lUI7QTHxan"
      }
    },
    {
      "cell_type": "code",
      "source": [
        "longitud_centimetros = float(input(\"Ingrese la longitud del caño en centímetros: \"))\n",
        "diferencia_caño1 = abs(longitud_centimetros - 150)\n",
        "diferencia_caño2 = abs(longitud_centimetros - 300)\n",
        "\n",
        "if diferencia_caño1 <= 1 or diferencia_caño2 <= 1:\n",
        "    print('El caño está en regla.')\n",
        "else:\n",
        "    print('El caño no cumple la tolerancia de calidad.')"
      ],
      "metadata": {
        "id": "GmYd-teLIKCH",
        "outputId": "f8120dd8-c963-499d-c2c6-af675a3fbe0c",
        "colab": {
          "base_uri": "https://localhost:8080/"
        }
      },
      "execution_count": 14,
      "outputs": [
        {
          "output_type": "stream",
          "name": "stdout",
          "text": [
            "Ingrese la longitud del caño en centímetros: 300\n",
            "El caño está en regla.\n"
          ]
        }
      ]
    },
    {
      "cell_type": "markdown",
      "source": [
        "# Funciones\n"
      ],
      "metadata": {
        "id": "LBEXOqKAtZXO"
      }
    },
    {
      "cell_type": "markdown",
      "source": [
        "Las funciones nos permiten agrupar una serie de operaciones que realizamos con frecuencia dentro de una estructura que puede ser re utilizada las veces que sea necesario en el código. Estas reciben un conjunto de parámetros y devuelven un conjunto de salidas.\n",
        "\n",
        "Para definir una función el programador debe utilizar la siguiente estructura:\n",
        "```python\n",
        "def nombre_de_la_funcion(parametro1, parametro2, ...):\n",
        "    # operaciones con parametros\n",
        "    return salida1, salida2, ...\n",
        "```\n",
        "\n",
        "Ejemplo:\n",
        "```python\n",
        "def promedio(a, b):\n",
        "    return (a+b)/2\n",
        "```\n",
        "\n",
        "Las funciones pueden no devolver ningun resultado. Por ejemplo:\n",
        "```python\n",
        "def imprimir_nombre_completo(nombre, apellido):\n",
        "    print('El nombre completo es', nombre, appellido)\n",
        "```\n",
        "En estos casos el `return` es opcional."
      ],
      "metadata": {
        "id": "qZ__MumFLG3a"
      }
    },
    {
      "cell_type": "markdown",
      "source": [
        "### Mini desafio 6\n",
        "Realizar una función que reciba un pais y un dato que se quiera (Población o Superfice), y devuelva este dato. Implementar para 5 paises.\n",
        "\n",
        "Ejemplo:\n",
        "```\n",
        ">>> Ingrese el pais: Argentina\n",
        ">>> Ingrese el dato: Superficie\n",
        "2780000 km2\n",
        "```"
      ],
      "metadata": {
        "id": "6OXxonyhH1HC"
      }
    },
    {
      "cell_type": "code",
      "source": [
        "def obtener_dato_pais(pais, dato):\n",
        "    datos_paises = {\n",
        "        'Argentina': {'Población': 45195777, 'Superficie': 2780000},\n",
        "        'Uruguay': {'Población': 3518552, 'Superficie': 176215},\n",
        "        'Brasil': {'Población': 213993437, 'Superficie': 8515770},\n",
        "        'Bolivia': {'Población': 11673021, 'Superficie': 1098581},\n",
        "        'Perú': {'Población': 32824000, 'Superficie': 1285216},\n",
        "    }\n",
        "\n",
        "    pais = pais.capitalize()\n",
        "\n",
        "    if pais in datos_paises and dato in datos_paises[pais]:\n",
        "        return datos_paises[pais][dato]\n",
        "    else:\n",
        "        return \"País o dato no válido.\"\n",
        "\n",
        "pais_ingresado = input(\"Ingrese el país: \")\n",
        "dato_ingresado = input(\"Ingrese el dato (Población o Superficie): \")\n",
        "\n",
        "resultado = obtener_dato_pais(pais_ingresado, dato_ingresado)\n",
        "if dato_ingresado == \"Superficie\": resultado = str(resultado) + \" km2\"\n",
        "print(resultado)"
      ],
      "metadata": {
        "id": "IshffFIjKbYj",
        "outputId": "83426899-af8e-4c31-d3da-93c4743312b6",
        "colab": {
          "base_uri": "https://localhost:8080/"
        }
      },
      "execution_count": 18,
      "outputs": [
        {
          "output_type": "stream",
          "name": "stdout",
          "text": [
            "Ingrese el país: Argentina\n",
            "Ingrese el dato (Población o Superficie): Superficie\n",
            "2780000 km2\n"
          ]
        }
      ]
    },
    {
      "cell_type": "markdown",
      "source": [
        "# Desafios Integradores"
      ],
      "metadata": {
        "id": "s2xbVCiLIBVV"
      }
    },
    {
      "cell_type": "markdown",
      "source": [
        "## 1. Calculadora\n",
        "\n",
        "Implementar una calculadora que reciba dos números y un operador para devolver el resultado.\n",
        "\n",
        "Ejemplo 1:\n",
        "```\n",
        ">>> 123\n",
        ">>> +\n",
        ">>> 456\n",
        "579\n",
        "```\n",
        "Ejemplo 2:\n",
        "```\n",
        ">>> 4\n",
        ">>> *\n",
        ">>> 2\n",
        "8\n",
        "```"
      ],
      "metadata": {
        "id": "kQhs8afCIGFO"
      }
    },
    {
      "cell_type": "code",
      "source": [
        "num1 = float(input(\"Ingrese el primer número: \"))\n",
        "operador = input(\"Ingrese el operador (+, -, *, /): \")\n",
        "num2 = float(input(\"Ingrese el segundo número: \"))\n",
        "\n",
        "if operador == '+':\n",
        "    resultado = num1 + num2\n",
        "elif operador == '-':\n",
        "    resultado = num1 - num2\n",
        "elif operador == '*':\n",
        "    resultado = num1 * num2\n",
        "elif operador == '/':\n",
        "    if num2 != 0:\n",
        "        resultado = num1 / num2\n",
        "    else:\n",
        "        resultado = \"Error: División por cero no permitida.\"\n",
        "else:\n",
        "    resultado = \"Operador no válido.\"\n",
        "\n",
        "print(resultado)"
      ],
      "metadata": {
        "id": "tGiZQQ-CLEse",
        "outputId": "c6f9e34b-2704-4820-e54b-bf983ea46742",
        "colab": {
          "base_uri": "https://localhost:8080/"
        }
      },
      "execution_count": 19,
      "outputs": [
        {
          "output_type": "stream",
          "name": "stdout",
          "text": [
            "Ingrese el primer número: 123\n",
            "Ingrese el operador (+, -, *, /): +\n",
            "Ingrese el segundo número: 456\n",
            "579.0\n"
          ]
        }
      ]
    },
    {
      "cell_type": "markdown",
      "source": [
        "## 2. Promediador\n",
        "Escribir una función que reciba 4 números y calcule el promedio de las notas. Tomando cada nota con el mismo peso.\n",
        "\n",
        "**Extra:** Utilizar la función anterior para escribir otra función que permita calcular el promedio pero con un peso distinto en cada nota."
      ],
      "metadata": {
        "id": "7dOKE5RvdzVQ"
      }
    },
    {
      "cell_type": "code",
      "source": [
        "def promedio_notas(nota1, nota2, nota3, nota4):\n",
        "    return (nota1 + nota2 + nota3 + nota4) / 4\n",
        "\n",
        "def promedio_notas_con_pesos(nota1, nota2, nota3, nota4, peso1, peso2, peso3, peso4):\n",
        "    total_peso = peso1 + peso2 + peso3 + peso4\n",
        "    promedio_ponderado = (nota1 * peso1 + nota2 * peso2 + nota3 * peso3 + nota4 * peso4) / total_peso\n",
        "    return promedio_ponderado\n",
        "\n",
        "nota1 = float(input(\"Ingrese la nota 1: \"))\n",
        "nota2 = float(input(\"Ingrese la nota 2: \"))\n",
        "nota3 = float(input(\"Ingrese la nota 3: \"))\n",
        "nota4 = float(input(\"Ingrese la nota 4: \"))\n",
        "\n",
        "print(\"\\nPromedio con pesos iguales:\")\n",
        "promedio_simple = promedio_notas(nota1, nota2, nota3, nota4)\n",
        "print(f\"Promedio simple (pesos iguales): {promedio_simple}\")\n",
        "\n",
        "print(\"\\nPromedio con pesos distintos:\")\n",
        "peso1 = float(input(\"Ingrese el peso para la nota 1: \"))\n",
        "peso2 = float(input(\"Ingrese el peso para la nota 2: \"))\n",
        "peso3 = float(input(\"Ingrese el peso para la nota 3: \"))\n",
        "peso4 = float(input(\"Ingrese el peso para la nota 4: \"))\n",
        "\n",
        "promedio_ponderado = promedio_notas_con_pesos(nota1, nota2, nota3, nota4, peso1, peso2, peso3, peso4)\n",
        "print(f\"Promedio ponderado (con pesos distintos): {promedio_ponderado}\")"
      ],
      "metadata": {
        "id": "Zq0eYfVdfddR",
        "outputId": "d7881cf3-7fa9-4d69-d662-9ee4b4fb5ba0",
        "colab": {
          "base_uri": "https://localhost:8080/"
        }
      },
      "execution_count": 21,
      "outputs": [
        {
          "output_type": "stream",
          "name": "stdout",
          "text": [
            "Ingrese la nota 1: 7\n",
            "Ingrese la nota 2: 8\n",
            "Ingrese la nota 3: 9\n",
            "Ingrese la nota 4: 10\n",
            "\n",
            "Promedio con pesos iguales:\n",
            "Promedio simple (pesos iguales): 8.5\n",
            "\n",
            "Promedio con pesos distintos:\n",
            "Ingrese el peso para la nota 1: 7\n",
            "Ingrese el peso para la nota 2: 8\n",
            "Ingrese el peso para la nota 3: 9\n",
            "Ingrese el peso para la nota 4: 10\n",
            "Promedio ponderado (con pesos distintos): 8.647058823529411\n"
          ]
        }
      ]
    },
    {
      "cell_type": "markdown",
      "source": [
        "## 3. Calculadora 2.0\n",
        "\n",
        "Agregar a la calculadora anterior el chequeo de que la operación sea valida y no genere error, como una división por cero."
      ],
      "metadata": {
        "id": "btGZHpogdS_E"
      }
    },
    {
      "cell_type": "code",
      "source": [
        "num1 = float(input(\"Ingrese el primer número: \"))\n",
        "operador = input(\"Ingrese el operador (+, -, *, /): \")\n",
        "num2 = float(input(\"Ingrese el segundo número: \"))\n",
        "\n",
        "if operador == '+':\n",
        "    resultado = num1 + num2\n",
        "elif operador == '-':\n",
        "    resultado = num1 - num2\n",
        "elif operador == '*':\n",
        "    resultado = num1 * num2\n",
        "elif operador == '/':\n",
        "    if num2 != 0:\n",
        "        resultado = num1 / num2\n",
        "    else:\n",
        "        resultado = \"Error: División por cero no permitida.\"\n",
        "else:\n",
        "    resultado = \"Operador no válido.\"\n",
        "\n",
        "print(resultado)"
      ],
      "metadata": {
        "id": "WDStxMVYdy8h",
        "outputId": "5265e73f-67b3-496c-ef34-44b9dd9aeaf9",
        "colab": {
          "base_uri": "https://localhost:8080/"
        }
      },
      "execution_count": 22,
      "outputs": [
        {
          "output_type": "stream",
          "name": "stdout",
          "text": [
            "Ingrese el primer número: 10\n",
            "Ingrese el operador (+, -, *, /): /\n",
            "Ingrese el segundo número: 0\n",
            "Error: División por cero no permitida.\n"
          ]
        }
      ]
    },
    {
      "cell_type": "markdown",
      "source": [
        "## 4. Fibonacci\n",
        "La [suceción de fibonacci](https://es.wikipedia.org/wiki/Sucesi%C3%B3n_de_Fibonacci) es una secuencia númerica en la que los dos números anteriores son sumados para formar el siguiente. La secuencia se inicializa con los números 0 y 1 dando lugar a:\n",
        "\n",
        "$0,1,1,2,3,5,8,13,21,34,...$\n",
        "\n",
        "Se pide escribir un programa que calcule el numero `n` de la secuencia siendo $n=0 \\rightarrow 0$, $n=1 \\rightarrow 1$, $n=2 \\rightarrow 1$, $n=3 \\rightarrow 3$, etc.\n",
        "\n",
        "Este es un ejercicio dificil para resolverlo van a necesitar [recursion](https://es.wikipedia.org/wiki/Recursi%C3%B3n), es tarea opcional estudiar este concepto."
      ],
      "metadata": {
        "id": "pDBHFhnefxyA"
      }
    },
    {
      "cell_type": "code",
      "source": [
        "def fibonacci(n):\n",
        "    if n <= 1:\n",
        "        valor = n\n",
        "    else:\n",
        "        valor = fibonacci(n-1) + fibonacci(n-2)\n",
        "    return valor\n",
        "\n",
        "n = int(input(\"Ingrese el valor de n para la secuencia de Fibonacci: \"))\n",
        "\n",
        "# Uso de fibonacci\n",
        "resultado = fibonacci(n)\n",
        "print(f\"El número en la posición {n} de la secuencia de Fibonacci es: {resultado}\")\n"
      ],
      "metadata": {
        "id": "7ATVkP2UPXkQ",
        "outputId": "4fc04f08-f9ba-48a0-b9e0-7f8b63d07d4d",
        "colab": {
          "base_uri": "https://localhost:8080/"
        }
      },
      "execution_count": 29,
      "outputs": [
        {
          "output_type": "stream",
          "name": "stdout",
          "text": [
            "Ingrese el valor de n para la secuencia de Fibonacci: 2\n",
            "El número en la posición 2 de la secuencia de Fibonacci es: 1\n"
          ]
        }
      ]
    }
  ]
}